{
 "cells": [
  {
   "cell_type": "markdown",
   "id": "600e2052",
   "metadata": {},
   "source": [
    "# Indice:\n",
    "\n",
    "\n",
    "### **1. Análisis exploratório de los datos de Delitos_Chicago.csv**\n",
    "\n",
    "     1.0 Importamos librerias y cargamos el dataframe.\n",
    "     1.1 Entendiendo a los datos\n",
    "     1.2 Valores nulos\n",
    "     1.3 Transformación de variable categórica\n",
    "     1.4 Columnas irrelevantes\n",
    "     1.5 Tipos de variables\n",
    "     1.6 Estandarización de variable numérica\n",
    "     \n",
    "\n",
    "### **2. Modelo de aprendizaje no supervizado**\n",
    "\n",
    "\n",
    "### **3. Anexo - Respuestas**\n",
    "    \n",
    "    Ejercicio 4  "
   ]
  },
  {
   "cell_type": "markdown",
   "id": "930f885b",
   "metadata": {},
   "source": [
    "# **1. Análisis exploratório de los datos**"
   ]
  },
  {
   "cell_type": "markdown",
   "id": "cc372795",
   "metadata": {},
   "source": [
    "## 1.0 Se importan las librerias y se carga el dataframe."
   ]
  },
  {
   "cell_type": "code",
   "execution_count": 8,
   "id": "9c50134c",
   "metadata": {},
   "outputs": [],
   "source": [
    "#Se importan la librerías que se va a necesitar\n",
    "import numpy as np\n",
    "import pandas as pd\n",
    "import seaborn as sns\n",
    "import matplotlib.pyplot as plt\n",
    "import warnings\n",
    "\n",
    "# No muestre los warnings\n",
    "warnings.filterwarnings(\"ignore\")\n",
    "\n",
    "# Para que pandas saque todas las columnas\n",
    "pd.options.display.max_columns = None"
   ]
  },
  {
   "cell_type": "markdown",
   "id": "0101d529",
   "metadata": {},
   "source": [
    "Se carga el dataset que se va a usar."
   ]
  },
  {
   "cell_type": "code",
   "execution_count": 12,
   "id": "42f7e9c2",
   "metadata": {},
   "outputs": [],
   "source": [
    "# Ruta del archivo csv\n",
    "ruta2 = \"Delitos_Chicago.csv\"\n",
    "\n",
    "# Leer los archivos csv\n",
    "datos2 = pd.read_csv(ruta2, sep = ',')\n",
    "\n",
    "# Creación del dataframe\n",
    "df3 = pd.DataFrame(datos2)"
   ]
  },
  {
   "cell_type": "markdown",
   "id": "185c10d9",
   "metadata": {},
   "source": [
    "## 1.1 Entendiendo a los datos"
   ]
  },
  {
   "cell_type": "markdown",
   "id": "c50386de",
   "metadata": {},
   "source": [
    "Se muestra el dataframe"
   ]
  },
  {
   "cell_type": "code",
   "execution_count": 13,
   "id": "c1c6ea2e",
   "metadata": {
    "scrolled": false
   },
   "outputs": [
    {
     "data": {
      "text/html": [
       "<div>\n",
       "<style scoped>\n",
       "    .dataframe tbody tr th:only-of-type {\n",
       "        vertical-align: middle;\n",
       "    }\n",
       "\n",
       "    .dataframe tbody tr th {\n",
       "        vertical-align: top;\n",
       "    }\n",
       "\n",
       "    .dataframe thead th {\n",
       "        text-align: right;\n",
       "    }\n",
       "</style>\n",
       "<table border=\"1\" class=\"dataframe\">\n",
       "  <thead>\n",
       "    <tr style=\"text-align: right;\">\n",
       "      <th></th>\n",
       "      <th>ID</th>\n",
       "      <th>Case Number</th>\n",
       "      <th>Date</th>\n",
       "      <th>Block</th>\n",
       "      <th>IUCR</th>\n",
       "      <th>Primary Type</th>\n",
       "      <th>Description</th>\n",
       "      <th>Location Description</th>\n",
       "      <th>Arrest</th>\n",
       "      <th>Domestic</th>\n",
       "      <th>Beat</th>\n",
       "      <th>District</th>\n",
       "      <th>Ward</th>\n",
       "      <th>Community Area</th>\n",
       "      <th>FBI Code</th>\n",
       "      <th>X Coordinate</th>\n",
       "      <th>Y Coordinate</th>\n",
       "      <th>Year</th>\n",
       "      <th>Updated On</th>\n",
       "      <th>Latitude</th>\n",
       "      <th>Longitude</th>\n",
       "      <th>Location</th>\n",
       "    </tr>\n",
       "  </thead>\n",
       "  <tbody>\n",
       "    <tr>\n",
       "      <th>0</th>\n",
       "      <td>10224738</td>\n",
       "      <td>HY411648</td>\n",
       "      <td>09/05/2015 01:30:00 PM</td>\n",
       "      <td>043XX S WOOD ST</td>\n",
       "      <td>0486</td>\n",
       "      <td>BATTERY</td>\n",
       "      <td>DOMESTIC BATTERY SIMPLE</td>\n",
       "      <td>RESIDENCE</td>\n",
       "      <td>False</td>\n",
       "      <td>True</td>\n",
       "      <td>924</td>\n",
       "      <td>9</td>\n",
       "      <td>12.0</td>\n",
       "      <td>61</td>\n",
       "      <td>08B</td>\n",
       "      <td>1165074.0</td>\n",
       "      <td>1875917.0</td>\n",
       "      <td>2015</td>\n",
       "      <td>02/10/2018 03:50:01 PM</td>\n",
       "      <td>41.815117</td>\n",
       "      <td>-87.670000</td>\n",
       "      <td>(41.815117282, -87.669999562)</td>\n",
       "    </tr>\n",
       "    <tr>\n",
       "      <th>1</th>\n",
       "      <td>10224739</td>\n",
       "      <td>HY411615</td>\n",
       "      <td>09/04/2015 11:30:00 AM</td>\n",
       "      <td>008XX N CENTRAL AVE</td>\n",
       "      <td>0870</td>\n",
       "      <td>THEFT</td>\n",
       "      <td>POCKET-PICKING</td>\n",
       "      <td>CTA BUS</td>\n",
       "      <td>False</td>\n",
       "      <td>False</td>\n",
       "      <td>1511</td>\n",
       "      <td>15</td>\n",
       "      <td>29.0</td>\n",
       "      <td>25</td>\n",
       "      <td>06</td>\n",
       "      <td>1138875.0</td>\n",
       "      <td>1904869.0</td>\n",
       "      <td>2015</td>\n",
       "      <td>02/10/2018 03:50:01 PM</td>\n",
       "      <td>41.895080</td>\n",
       "      <td>-87.765400</td>\n",
       "      <td>(41.895080471, -87.765400451)</td>\n",
       "    </tr>\n",
       "    <tr>\n",
       "      <th>2</th>\n",
       "      <td>10224740</td>\n",
       "      <td>HY411595</td>\n",
       "      <td>09/05/2015 12:45:00 PM</td>\n",
       "      <td>035XX W BARRY AVE</td>\n",
       "      <td>2023</td>\n",
       "      <td>NARCOTICS</td>\n",
       "      <td>POSS: HEROIN(BRN/TAN)</td>\n",
       "      <td>SIDEWALK</td>\n",
       "      <td>True</td>\n",
       "      <td>False</td>\n",
       "      <td>1412</td>\n",
       "      <td>14</td>\n",
       "      <td>35.0</td>\n",
       "      <td>21</td>\n",
       "      <td>18</td>\n",
       "      <td>1152037.0</td>\n",
       "      <td>1920384.0</td>\n",
       "      <td>2015</td>\n",
       "      <td>02/10/2018 03:50:01 PM</td>\n",
       "      <td>41.937406</td>\n",
       "      <td>-87.716650</td>\n",
       "      <td>(41.937405765, -87.716649687)</td>\n",
       "    </tr>\n",
       "    <tr>\n",
       "      <th>3</th>\n",
       "      <td>10224741</td>\n",
       "      <td>HY411610</td>\n",
       "      <td>09/05/2015 01:00:00 PM</td>\n",
       "      <td>0000X N LARAMIE AVE</td>\n",
       "      <td>0560</td>\n",
       "      <td>ASSAULT</td>\n",
       "      <td>SIMPLE</td>\n",
       "      <td>APARTMENT</td>\n",
       "      <td>False</td>\n",
       "      <td>True</td>\n",
       "      <td>1522</td>\n",
       "      <td>15</td>\n",
       "      <td>28.0</td>\n",
       "      <td>25</td>\n",
       "      <td>08A</td>\n",
       "      <td>1141706.0</td>\n",
       "      <td>1900086.0</td>\n",
       "      <td>2015</td>\n",
       "      <td>02/10/2018 03:50:01 PM</td>\n",
       "      <td>41.881903</td>\n",
       "      <td>-87.755121</td>\n",
       "      <td>(41.881903443, -87.755121152)</td>\n",
       "    </tr>\n",
       "  </tbody>\n",
       "</table>\n",
       "</div>"
      ],
      "text/plain": [
       "         ID Case Number                    Date                Block  IUCR  \\\n",
       "0  10224738    HY411648  09/05/2015 01:30:00 PM      043XX S WOOD ST  0486   \n",
       "1  10224739    HY411615  09/04/2015 11:30:00 AM  008XX N CENTRAL AVE  0870   \n",
       "2  10224740    HY411595  09/05/2015 12:45:00 PM    035XX W BARRY AVE  2023   \n",
       "3  10224741    HY411610  09/05/2015 01:00:00 PM  0000X N LARAMIE AVE  0560   \n",
       "\n",
       "  Primary Type              Description Location Description  Arrest  \\\n",
       "0      BATTERY  DOMESTIC BATTERY SIMPLE            RESIDENCE   False   \n",
       "1        THEFT           POCKET-PICKING              CTA BUS   False   \n",
       "2    NARCOTICS    POSS: HEROIN(BRN/TAN)             SIDEWALK    True   \n",
       "3      ASSAULT                   SIMPLE            APARTMENT   False   \n",
       "\n",
       "   Domestic  Beat  District  Ward  Community Area FBI Code  X Coordinate  \\\n",
       "0      True   924         9  12.0              61      08B     1165074.0   \n",
       "1     False  1511        15  29.0              25       06     1138875.0   \n",
       "2     False  1412        14  35.0              21       18     1152037.0   \n",
       "3      True  1522        15  28.0              25      08A     1141706.0   \n",
       "\n",
       "   Y Coordinate  Year              Updated On   Latitude  Longitude  \\\n",
       "0     1875917.0  2015  02/10/2018 03:50:01 PM  41.815117 -87.670000   \n",
       "1     1904869.0  2015  02/10/2018 03:50:01 PM  41.895080 -87.765400   \n",
       "2     1920384.0  2015  02/10/2018 03:50:01 PM  41.937406 -87.716650   \n",
       "3     1900086.0  2015  02/10/2018 03:50:01 PM  41.881903 -87.755121   \n",
       "\n",
       "                        Location  \n",
       "0  (41.815117282, -87.669999562)  \n",
       "1  (41.895080471, -87.765400451)  \n",
       "2  (41.937405765, -87.716649687)  \n",
       "3  (41.881903443, -87.755121152)  "
      ]
     },
     "execution_count": 13,
     "metadata": {},
     "output_type": "execute_result"
    }
   ],
   "source": [
    "df3.head(4)"
   ]
  },
  {
   "cell_type": "markdown",
   "id": "906efbf0",
   "metadata": {},
   "source": [
    "**Conformación del dataframe, tipo de datos etc.**"
   ]
  },
  {
   "cell_type": "code",
   "execution_count": 14,
   "id": "1fa4f123",
   "metadata": {
    "scrolled": false
   },
   "outputs": [
    {
     "name": "stdout",
     "output_type": "stream",
     "text": [
      "<class 'pandas.core.frame.DataFrame'>\n",
      "RangeIndex: 264758 entries, 0 to 264757\n",
      "Data columns (total 22 columns):\n",
      " #   Column                Non-Null Count   Dtype  \n",
      "---  ------                --------------   -----  \n",
      " 0   ID                    264758 non-null  int64  \n",
      " 1   Case Number           264758 non-null  object \n",
      " 2   Date                  264758 non-null  object \n",
      " 3   Block                 264758 non-null  object \n",
      " 4   IUCR                  264758 non-null  object \n",
      " 5   Primary Type          264758 non-null  object \n",
      " 6   Description           264758 non-null  object \n",
      " 7   Location Description  264169 non-null  object \n",
      " 8   Arrest                264758 non-null  bool   \n",
      " 9   Domestic              264758 non-null  bool   \n",
      " 10  Beat                  264758 non-null  int64  \n",
      " 11  District              264758 non-null  int64  \n",
      " 12  Ward                  264756 non-null  float64\n",
      " 13  Community Area        264758 non-null  int64  \n",
      " 14  FBI Code              264758 non-null  object \n",
      " 15  X Coordinate          257931 non-null  float64\n",
      " 16  Y Coordinate          257931 non-null  float64\n",
      " 17  Year                  264758 non-null  int64  \n",
      " 18  Updated On            264758 non-null  object \n",
      " 19  Latitude              257931 non-null  float64\n",
      " 20  Longitude             257931 non-null  float64\n",
      " 21  Location              257931 non-null  object \n",
      "dtypes: bool(2), float64(5), int64(5), object(10)\n",
      "memory usage: 40.9+ MB\n"
     ]
    }
   ],
   "source": [
    "df3.info()"
   ]
  },
  {
   "cell_type": "code",
   "execution_count": 15,
   "id": "1174f96f",
   "metadata": {},
   "outputs": [
    {
     "data": {
      "text/html": [
       "<div>\n",
       "<style scoped>\n",
       "    .dataframe tbody tr th:only-of-type {\n",
       "        vertical-align: middle;\n",
       "    }\n",
       "\n",
       "    .dataframe tbody tr th {\n",
       "        vertical-align: top;\n",
       "    }\n",
       "\n",
       "    .dataframe thead th {\n",
       "        text-align: right;\n",
       "    }\n",
       "</style>\n",
       "<table border=\"1\" class=\"dataframe\">\n",
       "  <thead>\n",
       "    <tr style=\"text-align: right;\">\n",
       "      <th></th>\n",
       "      <th>ID</th>\n",
       "      <th>Case Number</th>\n",
       "      <th>Date</th>\n",
       "      <th>Block</th>\n",
       "      <th>IUCR</th>\n",
       "      <th>Primary Type</th>\n",
       "      <th>Description</th>\n",
       "      <th>Location Description</th>\n",
       "      <th>Arrest</th>\n",
       "      <th>Domestic</th>\n",
       "      <th>Beat</th>\n",
       "      <th>District</th>\n",
       "      <th>Ward</th>\n",
       "      <th>Community Area</th>\n",
       "      <th>FBI Code</th>\n",
       "      <th>X Coordinate</th>\n",
       "      <th>Y Coordinate</th>\n",
       "      <th>Year</th>\n",
       "      <th>Updated On</th>\n",
       "      <th>Latitude</th>\n",
       "      <th>Longitude</th>\n",
       "      <th>Location</th>\n",
       "    </tr>\n",
       "  </thead>\n",
       "  <tbody>\n",
       "    <tr>\n",
       "      <th>count</th>\n",
       "      <td>2.647580e+05</td>\n",
       "      <td>264758</td>\n",
       "      <td>264758</td>\n",
       "      <td>264758</td>\n",
       "      <td>264758</td>\n",
       "      <td>264758</td>\n",
       "      <td>264758</td>\n",
       "      <td>264169</td>\n",
       "      <td>264758</td>\n",
       "      <td>264758</td>\n",
       "      <td>264758.000000</td>\n",
       "      <td>264758.000000</td>\n",
       "      <td>264756.000000</td>\n",
       "      <td>264758.000000</td>\n",
       "      <td>264758</td>\n",
       "      <td>2.579310e+05</td>\n",
       "      <td>2.579310e+05</td>\n",
       "      <td>264758.0</td>\n",
       "      <td>264758</td>\n",
       "      <td>257931.000000</td>\n",
       "      <td>257931.000000</td>\n",
       "      <td>257931</td>\n",
       "    </tr>\n",
       "    <tr>\n",
       "      <th>unique</th>\n",
       "      <td>NaN</td>\n",
       "      <td>264731</td>\n",
       "      <td>112346</td>\n",
       "      <td>27519</td>\n",
       "      <td>331</td>\n",
       "      <td>33</td>\n",
       "      <td>339</td>\n",
       "      <td>136</td>\n",
       "      <td>2</td>\n",
       "      <td>2</td>\n",
       "      <td>NaN</td>\n",
       "      <td>NaN</td>\n",
       "      <td>NaN</td>\n",
       "      <td>NaN</td>\n",
       "      <td>26</td>\n",
       "      <td>NaN</td>\n",
       "      <td>NaN</td>\n",
       "      <td>NaN</td>\n",
       "      <td>2074</td>\n",
       "      <td>NaN</td>\n",
       "      <td>NaN</td>\n",
       "      <td>131466</td>\n",
       "    </tr>\n",
       "    <tr>\n",
       "      <th>top</th>\n",
       "      <td>NaN</td>\n",
       "      <td>HY346207</td>\n",
       "      <td>01/01/2015 12:01:00 AM</td>\n",
       "      <td>001XX N STATE ST</td>\n",
       "      <td>0820</td>\n",
       "      <td>THEFT</td>\n",
       "      <td>SIMPLE</td>\n",
       "      <td>STREET</td>\n",
       "      <td>False</td>\n",
       "      <td>False</td>\n",
       "      <td>NaN</td>\n",
       "      <td>NaN</td>\n",
       "      <td>NaN</td>\n",
       "      <td>NaN</td>\n",
       "      <td>06</td>\n",
       "      <td>NaN</td>\n",
       "      <td>NaN</td>\n",
       "      <td>NaN</td>\n",
       "      <td>02/10/2018 03:50:01 PM</td>\n",
       "      <td>NaN</td>\n",
       "      <td>NaN</td>\n",
       "      <td>(41.883500187, -87.627876698)</td>\n",
       "    </tr>\n",
       "    <tr>\n",
       "      <th>freq</th>\n",
       "      <td>NaN</td>\n",
       "      <td>4</td>\n",
       "      <td>197</td>\n",
       "      <td>768</td>\n",
       "      <td>24676</td>\n",
       "      <td>57350</td>\n",
       "      <td>27415</td>\n",
       "      <td>60755</td>\n",
       "      <td>194723</td>\n",
       "      <td>222776</td>\n",
       "      <td>NaN</td>\n",
       "      <td>NaN</td>\n",
       "      <td>NaN</td>\n",
       "      <td>NaN</td>\n",
       "      <td>57350</td>\n",
       "      <td>NaN</td>\n",
       "      <td>NaN</td>\n",
       "      <td>NaN</td>\n",
       "      <td>242053</td>\n",
       "      <td>NaN</td>\n",
       "      <td>NaN</td>\n",
       "      <td>490</td>\n",
       "    </tr>\n",
       "    <tr>\n",
       "      <th>mean</th>\n",
       "      <td>1.013827e+07</td>\n",
       "      <td>NaN</td>\n",
       "      <td>NaN</td>\n",
       "      <td>NaN</td>\n",
       "      <td>NaN</td>\n",
       "      <td>NaN</td>\n",
       "      <td>NaN</td>\n",
       "      <td>NaN</td>\n",
       "      <td>NaN</td>\n",
       "      <td>NaN</td>\n",
       "      <td>1144.019950</td>\n",
       "      <td>11.211299</td>\n",
       "      <td>22.814391</td>\n",
       "      <td>37.577830</td>\n",
       "      <td>NaN</td>\n",
       "      <td>1.164456e+06</td>\n",
       "      <td>1.885560e+06</td>\n",
       "      <td>2015.0</td>\n",
       "      <td>NaN</td>\n",
       "      <td>41.841576</td>\n",
       "      <td>-87.672039</td>\n",
       "      <td>NaN</td>\n",
       "    </tr>\n",
       "    <tr>\n",
       "      <th>std</th>\n",
       "      <td>4.746205e+05</td>\n",
       "      <td>NaN</td>\n",
       "      <td>NaN</td>\n",
       "      <td>NaN</td>\n",
       "      <td>NaN</td>\n",
       "      <td>NaN</td>\n",
       "      <td>NaN</td>\n",
       "      <td>NaN</td>\n",
       "      <td>NaN</td>\n",
       "      <td>NaN</td>\n",
       "      <td>690.777178</td>\n",
       "      <td>6.901425</td>\n",
       "      <td>13.782807</td>\n",
       "      <td>21.421019</td>\n",
       "      <td>NaN</td>\n",
       "      <td>1.646855e+04</td>\n",
       "      <td>3.120900e+04</td>\n",
       "      <td>0.0</td>\n",
       "      <td>NaN</td>\n",
       "      <td>0.085837</td>\n",
       "      <td>0.059943</td>\n",
       "      <td>NaN</td>\n",
       "    </tr>\n",
       "    <tr>\n",
       "      <th>min</th>\n",
       "      <td>2.171400e+04</td>\n",
       "      <td>NaN</td>\n",
       "      <td>NaN</td>\n",
       "      <td>NaN</td>\n",
       "      <td>NaN</td>\n",
       "      <td>NaN</td>\n",
       "      <td>NaN</td>\n",
       "      <td>NaN</td>\n",
       "      <td>NaN</td>\n",
       "      <td>NaN</td>\n",
       "      <td>111.000000</td>\n",
       "      <td>1.000000</td>\n",
       "      <td>1.000000</td>\n",
       "      <td>1.000000</td>\n",
       "      <td>NaN</td>\n",
       "      <td>1.094231e+06</td>\n",
       "      <td>1.813897e+06</td>\n",
       "      <td>2015.0</td>\n",
       "      <td>NaN</td>\n",
       "      <td>41.644590</td>\n",
       "      <td>-87.928909</td>\n",
       "      <td>NaN</td>\n",
       "    </tr>\n",
       "    <tr>\n",
       "      <th>25%</th>\n",
       "      <td>1.003380e+07</td>\n",
       "      <td>NaN</td>\n",
       "      <td>NaN</td>\n",
       "      <td>NaN</td>\n",
       "      <td>NaN</td>\n",
       "      <td>NaN</td>\n",
       "      <td>NaN</td>\n",
       "      <td>NaN</td>\n",
       "      <td>NaN</td>\n",
       "      <td>NaN</td>\n",
       "      <td>612.000000</td>\n",
       "      <td>6.000000</td>\n",
       "      <td>10.000000</td>\n",
       "      <td>23.000000</td>\n",
       "      <td>NaN</td>\n",
       "      <td>1.152408e+06</td>\n",
       "      <td>1.858596e+06</td>\n",
       "      <td>2015.0</td>\n",
       "      <td>NaN</td>\n",
       "      <td>41.767337</td>\n",
       "      <td>-87.715914</td>\n",
       "      <td>NaN</td>\n",
       "    </tr>\n",
       "    <tr>\n",
       "      <th>50%</th>\n",
       "      <td>1.014868e+07</td>\n",
       "      <td>NaN</td>\n",
       "      <td>NaN</td>\n",
       "      <td>NaN</td>\n",
       "      <td>NaN</td>\n",
       "      <td>NaN</td>\n",
       "      <td>NaN</td>\n",
       "      <td>NaN</td>\n",
       "      <td>NaN</td>\n",
       "      <td>NaN</td>\n",
       "      <td>1023.000000</td>\n",
       "      <td>10.000000</td>\n",
       "      <td>23.000000</td>\n",
       "      <td>32.000000</td>\n",
       "      <td>NaN</td>\n",
       "      <td>1.166063e+06</td>\n",
       "      <td>1.891472e+06</td>\n",
       "      <td>2015.0</td>\n",
       "      <td>NaN</td>\n",
       "      <td>41.857863</td>\n",
       "      <td>-87.666017</td>\n",
       "      <td>NaN</td>\n",
       "    </tr>\n",
       "    <tr>\n",
       "      <th>75%</th>\n",
       "      <td>1.026310e+07</td>\n",
       "      <td>NaN</td>\n",
       "      <td>NaN</td>\n",
       "      <td>NaN</td>\n",
       "      <td>NaN</td>\n",
       "      <td>NaN</td>\n",
       "      <td>NaN</td>\n",
       "      <td>NaN</td>\n",
       "      <td>NaN</td>\n",
       "      <td>NaN</td>\n",
       "      <td>1654.000000</td>\n",
       "      <td>16.000000</td>\n",
       "      <td>34.000000</td>\n",
       "      <td>57.000000</td>\n",
       "      <td>NaN</td>\n",
       "      <td>1.176389e+06</td>\n",
       "      <td>1.908452e+06</td>\n",
       "      <td>2015.0</td>\n",
       "      <td>NaN</td>\n",
       "      <td>41.904503</td>\n",
       "      <td>-87.627995</td>\n",
       "      <td>NaN</td>\n",
       "    </tr>\n",
       "    <tr>\n",
       "      <th>max</th>\n",
       "      <td>1.307509e+07</td>\n",
       "      <td>NaN</td>\n",
       "      <td>NaN</td>\n",
       "      <td>NaN</td>\n",
       "      <td>NaN</td>\n",
       "      <td>NaN</td>\n",
       "      <td>NaN</td>\n",
       "      <td>NaN</td>\n",
       "      <td>NaN</td>\n",
       "      <td>NaN</td>\n",
       "      <td>2535.000000</td>\n",
       "      <td>31.000000</td>\n",
       "      <td>50.000000</td>\n",
       "      <td>77.000000</td>\n",
       "      <td>NaN</td>\n",
       "      <td>1.205111e+06</td>\n",
       "      <td>1.951523e+06</td>\n",
       "      <td>2015.0</td>\n",
       "      <td>NaN</td>\n",
       "      <td>42.022575</td>\n",
       "      <td>-87.524615</td>\n",
       "      <td>NaN</td>\n",
       "    </tr>\n",
       "  </tbody>\n",
       "</table>\n",
       "</div>"
      ],
      "text/plain": [
       "                  ID Case Number                    Date             Block  \\\n",
       "count   2.647580e+05      264758                  264758            264758   \n",
       "unique           NaN      264731                  112346             27519   \n",
       "top              NaN    HY346207  01/01/2015 12:01:00 AM  001XX N STATE ST   \n",
       "freq             NaN           4                     197               768   \n",
       "mean    1.013827e+07         NaN                     NaN               NaN   \n",
       "std     4.746205e+05         NaN                     NaN               NaN   \n",
       "min     2.171400e+04         NaN                     NaN               NaN   \n",
       "25%     1.003380e+07         NaN                     NaN               NaN   \n",
       "50%     1.014868e+07         NaN                     NaN               NaN   \n",
       "75%     1.026310e+07         NaN                     NaN               NaN   \n",
       "max     1.307509e+07         NaN                     NaN               NaN   \n",
       "\n",
       "          IUCR Primary Type Description Location Description  Arrest Domestic  \\\n",
       "count   264758       264758      264758               264169  264758   264758   \n",
       "unique     331           33         339                  136       2        2   \n",
       "top       0820        THEFT      SIMPLE               STREET   False    False   \n",
       "freq     24676        57350       27415                60755  194723   222776   \n",
       "mean       NaN          NaN         NaN                  NaN     NaN      NaN   \n",
       "std        NaN          NaN         NaN                  NaN     NaN      NaN   \n",
       "min        NaN          NaN         NaN                  NaN     NaN      NaN   \n",
       "25%        NaN          NaN         NaN                  NaN     NaN      NaN   \n",
       "50%        NaN          NaN         NaN                  NaN     NaN      NaN   \n",
       "75%        NaN          NaN         NaN                  NaN     NaN      NaN   \n",
       "max        NaN          NaN         NaN                  NaN     NaN      NaN   \n",
       "\n",
       "                 Beat       District           Ward  Community Area FBI Code  \\\n",
       "count   264758.000000  264758.000000  264756.000000   264758.000000   264758   \n",
       "unique            NaN            NaN            NaN             NaN       26   \n",
       "top               NaN            NaN            NaN             NaN       06   \n",
       "freq              NaN            NaN            NaN             NaN    57350   \n",
       "mean      1144.019950      11.211299      22.814391       37.577830      NaN   \n",
       "std        690.777178       6.901425      13.782807       21.421019      NaN   \n",
       "min        111.000000       1.000000       1.000000        1.000000      NaN   \n",
       "25%        612.000000       6.000000      10.000000       23.000000      NaN   \n",
       "50%       1023.000000      10.000000      23.000000       32.000000      NaN   \n",
       "75%       1654.000000      16.000000      34.000000       57.000000      NaN   \n",
       "max       2535.000000      31.000000      50.000000       77.000000      NaN   \n",
       "\n",
       "        X Coordinate  Y Coordinate      Year              Updated On  \\\n",
       "count   2.579310e+05  2.579310e+05  264758.0                  264758   \n",
       "unique           NaN           NaN       NaN                    2074   \n",
       "top              NaN           NaN       NaN  02/10/2018 03:50:01 PM   \n",
       "freq             NaN           NaN       NaN                  242053   \n",
       "mean    1.164456e+06  1.885560e+06    2015.0                     NaN   \n",
       "std     1.646855e+04  3.120900e+04       0.0                     NaN   \n",
       "min     1.094231e+06  1.813897e+06    2015.0                     NaN   \n",
       "25%     1.152408e+06  1.858596e+06    2015.0                     NaN   \n",
       "50%     1.166063e+06  1.891472e+06    2015.0                     NaN   \n",
       "75%     1.176389e+06  1.908452e+06    2015.0                     NaN   \n",
       "max     1.205111e+06  1.951523e+06    2015.0                     NaN   \n",
       "\n",
       "             Latitude      Longitude                       Location  \n",
       "count   257931.000000  257931.000000                         257931  \n",
       "unique            NaN            NaN                         131466  \n",
       "top               NaN            NaN  (41.883500187, -87.627876698)  \n",
       "freq              NaN            NaN                            490  \n",
       "mean        41.841576     -87.672039                            NaN  \n",
       "std          0.085837       0.059943                            NaN  \n",
       "min         41.644590     -87.928909                            NaN  \n",
       "25%         41.767337     -87.715914                            NaN  \n",
       "50%         41.857863     -87.666017                            NaN  \n",
       "75%         41.904503     -87.627995                            NaN  \n",
       "max         42.022575     -87.524615                            NaN  "
      ]
     },
     "execution_count": 15,
     "metadata": {},
     "output_type": "execute_result"
    }
   ],
   "source": [
    "#Se realiza un describe \n",
    "df3.describe(include=\"all\")"
   ]
  },
  {
   "cell_type": "markdown",
   "id": "f45bb59c",
   "metadata": {},
   "source": [
    "## 1.2 Valores nulos"
   ]
  },
  {
   "cell_type": "markdown",
   "id": "e50bfbff",
   "metadata": {},
   "source": [
    "Se comprueba cuantos nulos tenemos"
   ]
  },
  {
   "cell_type": "code",
   "execution_count": 16,
   "id": "cd0cd909",
   "metadata": {},
   "outputs": [
    {
     "data": {
      "text/plain": [
       "ID                         0\n",
       "Case Number                0\n",
       "Date                       0\n",
       "Block                      0\n",
       "IUCR                       0\n",
       "Primary Type               0\n",
       "Description                0\n",
       "Location Description     589\n",
       "Arrest                     0\n",
       "Domestic                   0\n",
       "Beat                       0\n",
       "District                   0\n",
       "Ward                       2\n",
       "Community Area             0\n",
       "FBI Code                   0\n",
       "X Coordinate            6827\n",
       "Y Coordinate            6827\n",
       "Year                       0\n",
       "Updated On                 0\n",
       "Latitude                6827\n",
       "Longitude               6827\n",
       "Location                6827\n",
       "dtype: int64"
      ]
     },
     "execution_count": 16,
     "metadata": {},
     "output_type": "execute_result"
    }
   ],
   "source": [
    "df3.isnull().sum()"
   ]
  },
  {
   "cell_type": "markdown",
   "id": "b402e19c",
   "metadata": {},
   "source": [
    "## 1.3 Transformación de variable categórica"
   ]
  },
  {
   "cell_type": "markdown",
   "id": "c952da94",
   "metadata": {},
   "source": [
    "Se rellena los nulos de la variable Location Description"
   ]
  },
  {
   "cell_type": "code",
   "execution_count": 18,
   "id": "84df1758",
   "metadata": {},
   "outputs": [],
   "source": [
    "#Se rellena las filas nulas de la columna Location Description con la media\n",
    "df3['Location Description'] = df3['Location Description'].fillna(df3['Location Description'].mode()[0])"
   ]
  },
  {
   "cell_type": "code",
   "execution_count": 19,
   "id": "a58b0ddd",
   "metadata": {},
   "outputs": [
    {
     "data": {
      "text/plain": [
       "ID                         0\n",
       "Case Number                0\n",
       "Date                       0\n",
       "Block                      0\n",
       "IUCR                       0\n",
       "Primary Type               0\n",
       "Description                0\n",
       "Location Description       0\n",
       "Arrest                     0\n",
       "Domestic                   0\n",
       "Beat                       0\n",
       "District                   0\n",
       "Ward                       2\n",
       "Community Area             0\n",
       "FBI Code                   0\n",
       "X Coordinate            6827\n",
       "Y Coordinate            6827\n",
       "Year                       0\n",
       "Updated On                 0\n",
       "Latitude                6827\n",
       "Longitude               6827\n",
       "Location                6827\n",
       "dtype: int64"
      ]
     },
     "execution_count": 19,
     "metadata": {},
     "output_type": "execute_result"
    }
   ],
   "source": [
    "#Se comprueba que no hay nulos en Location Description\n",
    "df3.isnull().sum()"
   ]
  },
  {
   "cell_type": "markdown",
   "id": "fbc34d41",
   "metadata": {},
   "source": [
    "## 1.4 Columnas irrelevantes"
   ]
  },
  {
   "cell_type": "markdown",
   "id": "1db81dd7",
   "metadata": {},
   "source": [
    "Se crea un nuevo dataframe con la funcion copy para poder aqui borrar las columnas que no se va a necesitar."
   ]
  },
  {
   "cell_type": "code",
   "execution_count": 20,
   "id": "cf2d15d5",
   "metadata": {},
   "outputs": [],
   "source": [
    "df4=df3.copy()"
   ]
  },
  {
   "cell_type": "markdown",
   "id": "f2d52db3",
   "metadata": {},
   "source": [
    "Analizando el dataframe se decidió usar solo tres caracteristicas para el modelo, ya que se ha considerado que estas pueden aportar nuevos datos.\n",
    "\n",
    "Las tres variables son \"Block\" que describe parcialmente la direccion real de donde se llevo acabo el delito. Con esta variable se obtiene una idea de en que area de la ciudad ocurrio. \"IUCR\" esta variable agrupa tanto la Primary Type y la Descripcion del delito. Y finalmente se usará tambien la columna \"Location Description\", que cuenta el lugar donde ocurrio el delito (en un apartameto, en el autobus, en una gasolinera, etc)\n",
    "\n",
    "Las tres variables elegidas son de tipo object, que más delante se modificará a númericas para que puedan ser usadas en el modelo.\n"
   ]
  },
  {
   "cell_type": "code",
   "execution_count": 21,
   "id": "84010379",
   "metadata": {},
   "outputs": [
    {
     "data": {
      "text/html": [
       "<div>\n",
       "<style scoped>\n",
       "    .dataframe tbody tr th:only-of-type {\n",
       "        vertical-align: middle;\n",
       "    }\n",
       "\n",
       "    .dataframe tbody tr th {\n",
       "        vertical-align: top;\n",
       "    }\n",
       "\n",
       "    .dataframe thead th {\n",
       "        text-align: right;\n",
       "    }\n",
       "</style>\n",
       "<table border=\"1\" class=\"dataframe\">\n",
       "  <thead>\n",
       "    <tr style=\"text-align: right;\">\n",
       "      <th></th>\n",
       "      <th>Block</th>\n",
       "      <th>IUCR</th>\n",
       "      <th>Location Description</th>\n",
       "      <th>Arrest</th>\n",
       "      <th>Domestic</th>\n",
       "    </tr>\n",
       "  </thead>\n",
       "  <tbody>\n",
       "    <tr>\n",
       "      <th>0</th>\n",
       "      <td>043XX S WOOD ST</td>\n",
       "      <td>0486</td>\n",
       "      <td>RESIDENCE</td>\n",
       "      <td>False</td>\n",
       "      <td>True</td>\n",
       "    </tr>\n",
       "    <tr>\n",
       "      <th>1</th>\n",
       "      <td>008XX N CENTRAL AVE</td>\n",
       "      <td>0870</td>\n",
       "      <td>CTA BUS</td>\n",
       "      <td>False</td>\n",
       "      <td>False</td>\n",
       "    </tr>\n",
       "    <tr>\n",
       "      <th>2</th>\n",
       "      <td>035XX W BARRY AVE</td>\n",
       "      <td>2023</td>\n",
       "      <td>SIDEWALK</td>\n",
       "      <td>True</td>\n",
       "      <td>False</td>\n",
       "    </tr>\n",
       "    <tr>\n",
       "      <th>3</th>\n",
       "      <td>0000X N LARAMIE AVE</td>\n",
       "      <td>0560</td>\n",
       "      <td>APARTMENT</td>\n",
       "      <td>False</td>\n",
       "      <td>True</td>\n",
       "    </tr>\n",
       "    <tr>\n",
       "      <th>4</th>\n",
       "      <td>082XX S LOOMIS BLVD</td>\n",
       "      <td>0610</td>\n",
       "      <td>RESIDENCE</td>\n",
       "      <td>False</td>\n",
       "      <td>False</td>\n",
       "    </tr>\n",
       "  </tbody>\n",
       "</table>\n",
       "</div>"
      ],
      "text/plain": [
       "                 Block  IUCR Location Description  Arrest  Domestic\n",
       "0      043XX S WOOD ST  0486            RESIDENCE   False      True\n",
       "1  008XX N CENTRAL AVE  0870              CTA BUS   False     False\n",
       "2    035XX W BARRY AVE  2023             SIDEWALK    True     False\n",
       "3  0000X N LARAMIE AVE  0560            APARTMENT   False      True\n",
       "4  082XX S LOOMIS BLVD  0610            RESIDENCE   False     False"
      ]
     },
     "execution_count": 21,
     "metadata": {},
     "output_type": "execute_result"
    }
   ],
   "source": [
    "#Se elimina las columnas que no son necesarias con la función \n",
    "df4.drop(columns=[\"ID\",\"Case Number\",\"Date\",\"Primary Type\",\"Description\",\n",
    "                  \"Beat\",\"District\",\"Ward\",\n",
    "                  \"Community Area\", \"FBI Code\",\"X Coordinate\",\n",
    "                  \"Y Coordinate\",\"Year\",\"Updated On\",\"Latitude\",\n",
    "                  \"Longitude\",\"Location\"], inplace=True, axis=1)\n",
    "\n",
    "df4.head()"
   ]
  },
  {
   "cell_type": "code",
   "execution_count": 22,
   "id": "5f32176a",
   "metadata": {},
   "outputs": [
    {
     "name": "stdout",
     "output_type": "stream",
     "text": [
      "<class 'pandas.core.frame.DataFrame'>\n",
      "RangeIndex: 264758 entries, 0 to 264757\n",
      "Data columns (total 5 columns):\n",
      " #   Column                Non-Null Count   Dtype \n",
      "---  ------                --------------   ----- \n",
      " 0   Block                 264758 non-null  object\n",
      " 1   IUCR                  264758 non-null  object\n",
      " 2   Location Description  264758 non-null  object\n",
      " 3   Arrest                264758 non-null  bool  \n",
      " 4   Domestic              264758 non-null  bool  \n",
      "dtypes: bool(2), object(3)\n",
      "memory usage: 6.6+ MB\n"
     ]
    }
   ],
   "source": [
    "# Nuevo dataframe\n",
    "df4.info()"
   ]
  },
  {
   "cell_type": "markdown",
   "id": "43faeefd",
   "metadata": {},
   "source": [
    "## 1.5 Tipos de variables"
   ]
  },
  {
   "cell_type": "markdown",
   "id": "e6e41634",
   "metadata": {},
   "source": [
    "Como las columnas son de tipo object, se convierten en númericas con la función  label encoder"
   ]
  },
  {
   "cell_type": "code",
   "execution_count": 23,
   "id": "825f0188",
   "metadata": {},
   "outputs": [
    {
     "data": {
      "text/plain": [
       "Index(['Block', 'IUCR', 'Location Description'], dtype='object')"
      ]
     },
     "execution_count": 23,
     "metadata": {},
     "output_type": "execute_result"
    }
   ],
   "source": [
    "columns_object = df4.loc[:, df4.dtypes == object].columns\n",
    "columns_object"
   ]
  },
  {
   "cell_type": "code",
   "execution_count": 29,
   "id": "494b560f",
   "metadata": {
    "scrolled": true
   },
   "outputs": [
    {
     "name": "stdout",
     "output_type": "stream",
     "text": [
      "<class 'pandas.core.frame.DataFrame'>\n",
      "RangeIndex: 264758 entries, 0 to 264757\n",
      "Data columns (total 5 columns):\n",
      " #   Column                Non-Null Count   Dtype\n",
      "---  ------                --------------   -----\n",
      " 0   Block                 264758 non-null  int64\n",
      " 1   IUCR                  264758 non-null  int64\n",
      " 2   Location Description  264758 non-null  int64\n",
      " 3   Arrest                264758 non-null  int64\n",
      " 4   Domestic              264758 non-null  int64\n",
      "dtypes: int64(5)\n",
      "memory usage: 10.1 MB\n"
     ]
    }
   ],
   "source": [
    "from sklearn.preprocessing import LabelEncoder\n",
    "df4[columns_object] = df4[columns_object].apply(LabelEncoder().fit_transform)\n",
    "df4[columns_object] = df4[columns_object].astype(\"int64\")\n",
    "df4.info()"
   ]
  },
  {
   "cell_type": "markdown",
   "id": "ef82b903",
   "metadata": {},
   "source": [
    "**Se convierten las variables booleanas en 0 y 1**"
   ]
  },
  {
   "cell_type": "code",
   "execution_count": 30,
   "id": "7f534a72",
   "metadata": {},
   "outputs": [],
   "source": [
    "df4['Arrest'].replace([False, True], [0, 1], inplace=True)\n",
    "df4['Domestic'].replace([False, True], [0, 1], inplace=True)"
   ]
  },
  {
   "cell_type": "markdown",
   "id": "a3405b43",
   "metadata": {},
   "source": [
    "Antes de usar el dataframe en el modelo, se muestra y se observa que los datos deben ser normalizados para que puedan ser analizados correctamente."
   ]
  },
  {
   "cell_type": "code",
   "execution_count": 31,
   "id": "3e48e36c",
   "metadata": {
    "scrolled": true
   },
   "outputs": [
    {
     "data": {
      "text/html": [
       "<div>\n",
       "<style scoped>\n",
       "    .dataframe tbody tr th:only-of-type {\n",
       "        vertical-align: middle;\n",
       "    }\n",
       "\n",
       "    .dataframe tbody tr th {\n",
       "        vertical-align: top;\n",
       "    }\n",
       "\n",
       "    .dataframe thead th {\n",
       "        text-align: right;\n",
       "    }\n",
       "</style>\n",
       "<table border=\"1\" class=\"dataframe\">\n",
       "  <thead>\n",
       "    <tr style=\"text-align: right;\">\n",
       "      <th></th>\n",
       "      <th>Block</th>\n",
       "      <th>IUCR</th>\n",
       "      <th>Location Description</th>\n",
       "      <th>Arrest</th>\n",
       "      <th>Domestic</th>\n",
       "    </tr>\n",
       "  </thead>\n",
       "  <tbody>\n",
       "    <tr>\n",
       "      <th>0</th>\n",
       "      <td>15639</td>\n",
       "      <td>48</td>\n",
       "      <td>101</td>\n",
       "      <td>0</td>\n",
       "      <td>1</td>\n",
       "    </tr>\n",
       "    <tr>\n",
       "      <th>1</th>\n",
       "      <td>3389</td>\n",
       "      <td>85</td>\n",
       "      <td>46</td>\n",
       "      <td>0</td>\n",
       "      <td>0</td>\n",
       "    </tr>\n",
       "  </tbody>\n",
       "</table>\n",
       "</div>"
      ],
      "text/plain": [
       "   Block  IUCR  Location Description  Arrest  Domestic\n",
       "0  15639    48                   101       0         1\n",
       "1   3389    85                    46       0         0"
      ]
     },
     "execution_count": 31,
     "metadata": {},
     "output_type": "execute_result"
    }
   ],
   "source": [
    "df4.head(2)"
   ]
  },
  {
   "cell_type": "markdown",
   "id": "ffc46179",
   "metadata": {},
   "source": [
    "## 1.6 Estandarización de variable numérica"
   ]
  },
  {
   "cell_type": "markdown",
   "id": "a50ac5f2",
   "metadata": {},
   "source": [
    "Se normaliza con el metodo Normalize que reescala el vector de fila a su vector unitario. "
   ]
  },
  {
   "cell_type": "code",
   "execution_count": 32,
   "id": "201babe3",
   "metadata": {
    "scrolled": false
   },
   "outputs": [
    {
     "name": "stdout",
     "output_type": "stream",
     "text": [
      "[[9.99974435e-01 3.06917149e-03 6.45804833e-03 0.00000000e+00\n",
      "  6.39410726e-05]\n",
      " [9.99593598e-01 2.50709519e-02 1.35678092e-02 0.00000000e+00\n",
      "  0.00000000e+00]\n",
      " [9.99812157e-01 1.72600410e-02 8.81681747e-03 7.47187921e-05\n",
      "  0.00000000e+00]\n",
      " ...\n",
      " [9.99990424e-01 1.15132581e-03 4.22152795e-03 6.39625447e-05\n",
      "  0.00000000e+00]\n",
      " [9.99960533e-01 7.97706966e-03 3.91108755e-03 3.87236391e-05\n",
      "  3.87236391e-05]\n",
      " [9.99977873e-01 5.05385425e-03 4.32575660e-03 0.00000000e+00\n",
      "  0.00000000e+00]]\n"
     ]
    }
   ],
   "source": [
    "from sklearn.preprocessing import Normalizer\n",
    "scaler = Normalizer().fit(df4)\n",
    "df4 = scaler.transform(df4)\n",
    "print(df4)"
   ]
  },
  {
   "cell_type": "markdown",
   "id": "b825247b",
   "metadata": {},
   "source": [
    "## 2. MODELO DE APRENDIZAJE NO SUPERVISADO"
   ]
  },
  {
   "cell_type": "markdown",
   "id": "b59f2559",
   "metadata": {},
   "source": [
    "Para determinar cuántos números de clúster se necesitan en su modelo de aprendizaje no supervisado, se utilizará el Método de la dispersión."
   ]
  },
  {
   "cell_type": "code",
   "execution_count": 33,
   "id": "048efa07",
   "metadata": {
    "scrolled": false
   },
   "outputs": [
    {
     "data": {
      "image/png": "[encoded data removed]",
      "text/plain": [
       "<Figure size 640x480 with 1 Axes>"
      ]
     },
     "metadata": {},
     "output_type": "display_data"
    }
   ],
   "source": [
    "from sklearn.cluster import KMeans\n",
    "import matplotlib.pyplot as plt\n",
    "X=df4\n",
    "distorsion = []\n",
    "for i in range(1, 10):\n",
    "    kmeans = KMeans (n_clusters = i, n_init=10).fit(X)\n",
    "    distorsion.append(kmeans.inertia_)\n",
    "#Pintamos la gráfica\n",
    "plt.xlabel(\"Número clústeres\")\n",
    "plt.ylabel(\"Distorsión\")\n",
    "plt.plot(range(1,10), distorsion, \"bx-\")\n",
    "plt.show()"
   ]
  },
  {
   "cell_type": "markdown",
   "id": "34effeda",
   "metadata": {},
   "source": [
    "El resultado que se muestra indica que un número adecuado de clústeres podría ser 3, ya que es la cantidad en la que la distorsión disminuye rápidamente."
   ]
  },
  {
   "cell_type": "markdown",
   "id": "0230d843",
   "metadata": {},
   "source": [
    "Se lanza el modelo K-Means con 3 clusters"
   ]
  },
  {
   "cell_type": "code",
   "execution_count": 34,
   "id": "7c8dee7c",
   "metadata": {},
   "outputs": [
    {
     "name": "stdout",
     "output_type": "stream",
     "text": [
      "Centroides:\n",
      " [[9.53693413e-01 2.09319340e-01 1.52320678e-01 5.71360481e-04\n",
      "  1.78377010e-04]\n",
      " [9.99490068e-01 1.43575708e-02 1.21830720e-02 3.66154036e-05\n",
      "  2.03763144e-05]\n",
      " [6.03037293e-01 5.45139753e-01 4.69967133e-01 1.41103623e-03\n",
      "  4.42250609e-04]]\n",
      "[1 1 1 ... 1 1 1]\n"
     ]
    },
    {
     "data": {
      "image/png": "[encoded data removed]",
      "text/plain": [
       "<Figure size 640x480 with 1 Axes>"
      ]
     },
     "metadata": {},
     "output_type": "display_data"
    }
   ],
   "source": [
    "from sklearn.cluster import KMeans\n",
    "import matplotlib.pyplot as plt\n",
    "# Creación del conjunto de datos\n",
    "X = df4\n",
    "\n",
    "#Iniciando el algoritmo k-means con k = 3 clústeres\n",
    "kmeans = KMeans (n_clusters= 3, random_state= 42)\n",
    "\n",
    "#Entrenando el modelo con los datos\n",
    "kmeans.fit(X)\n",
    "\n",
    "#Predeciendo la asignación del clúster para cada punto de datos\n",
    "labels = kmeans.predict(X)\n",
    "\n",
    "# Prediction on the entire data\n",
    "all_predictions = kmeans.predict(X)\n",
    "\n",
    "#Obteniendo los centroides de los clústeres\n",
    "centroides = kmeans.cluster_centers_\n",
    "\n",
    "print(\"Centroides:\\n\", centroides)\n",
    "print(all_predictions)\n",
    "\n",
    "#Visualizando los datos y los centroides de los clústeres en un gráfico de dispersión\n",
    "plt.scatter(X[:, 0], X[:, 1], c=labels)\n",
    "plt.scatter(centroides[:, 0], centroides[:, 1], marker=\"x\",\n",
    "            s=200, linewidths=3, color=\"r\")\n",
    "plt.show()"
   ]
  },
  {
   "cell_type": "markdown",
   "id": "30bd5215",
   "metadata": {},
   "source": [
    "Se utilizó DBSCAN para confirmar que los clústeres y grupos formados son los correctos. Al ejecutar DBSCAN, se formaron 3 grupos."
   ]
  },
  {
   "cell_type": "code",
   "execution_count": 35,
   "id": "bf9dc7f1",
   "metadata": {
    "scrolled": false
   },
   "outputs": [
    {
     "data": {
      "image/png": "[encoded data removed]",
      "text/plain": [
       "<Figure size 640x480 with 1 Axes>"
      ]
     },
     "metadata": {},
     "output_type": "display_data"
    }
   ],
   "source": [
    "#Importando las librerías necesarias\n",
    "from sklearn.datasets import make_blobs\n",
    "from sklearn.cluster import DBSCAN\n",
    "import matplotlib.pyplot as plt\n",
    "\n",
    "#Creando un conjunto de datos de prueba\n",
    "X, y_clusters = make_blobs (200, cluster_std=2)\n",
    "\n",
    "#Creando una instancia de DBSCAN\n",
    "dbscan = DBSCAN (eps= 1.2, min_samples=3)\n",
    "\n",
    "#Ajustando y entrenando el modelo en los datos\n",
    "y_pred = dbscan.fit_predict(X)\n",
    "\n",
    "#Rresultados\n",
    "plt.scatter(X[:,0], X[:,1], c = y_pred)\n",
    "plt.show()"
   ]
  },
  {
   "cell_type": "markdown",
   "id": "469262fe",
   "metadata": {},
   "source": [
    "## Ejercicio 4"
   ]
  },
  {
   "cell_type": "markdown",
   "id": "13ee192d",
   "metadata": {},
   "source": [
    "\n",
    "Plantead una segmentación analítica de delitos atendiendo a sus características. Dad respuesta a las siguientes preguntas:\n",
    "\n",
    "* **¿Cuántos segmentos tiene la solución planteada?**\n",
    "\n",
    "Si bien el método del codo nos indica que la distorsión disminuye lentamente a partir del tercer clúster, el método DBSCAN confirma que se forman 3 clústeres.\n",
    "\n",
    "* **¿Qué características tienen los delitos de cada segmento?**\n",
    "\n",
    "La gráfica resultante del K-Means contiene 3 grupos que podrían interpretarse de la siguiente manera: hay 3 grupos en los que se puede observar la cantidad de delitos y su variedad (tipo), lo que puede reflejar 3 puntos calientes dentro de la ciudad en los que se debe enfocar el aumento de la vigilancia. El grupo 1 es más disperso, y se nota una disminución de la distorsión a medida que se crean los grupos.\n",
    "\n",
    "En términos generales, el modelo sugiere la existencia de cuatro segmentaciones al relacionar el código IUCR con la ubicación del delito. Sería prudente prestar atención a estas variables y realizar un estudio para identificar posibles relaciones que aclaren esta clusterización."
   ]
  },
  {
   "cell_type": "code",
   "execution_count": null,
   "id": "79aa2cda",
   "metadata": {},
   "outputs": [],
   "source": []
  }
 ],
 "metadata": {
  "hide_input": false,
  "kernelspec": {
   "display_name": "Python 3",
   "language": "python",
   "name": "python3"
  },
  "language_info": {
   "codemirror_mode": {
    "name": "ipython",
    "version": 3
   },
   "file_extension": ".py",
   "mimetype": "text/x-python",
   "name": "python",
   "nbconvert_exporter": "python",
   "pygments_lexer": "ipython3",
   "version": "3.8.8"
  },
  "toc": {
   "base_numbering": 1,
   "nav_menu": {},
   "number_sections": true,
   "sideBar": true,
   "skip_h1_title": false,
   "title_cell": "Table of Contents",
   "title_sidebar": "Contents",
   "toc_cell": false,
   "toc_position": {},
   "toc_section_display": true,
   "toc_window_display": false
  },
  "varInspector": {
   "cols": {
    "lenName": 16,
    "lenType": 16,
    "lenVar": 40
   },
   "kernels_config": {
    "python": {
     "delete_cmd_postfix": "",
     "delete_cmd_prefix": "del ",
     "library": "var_list.py",
     "varRefreshCmd": "print(var_dic_list())"
    },
    "r": {
     "delete_cmd_postfix": ") ",
     "delete_cmd_prefix": "rm(",
     "library": "var_list.r",
     "varRefreshCmd": "cat(var_dic_list()) "
    }
   },
   "types_to_exclude": [
    "module",
    "function",
    "builtin_function_or_method",
    "instance",
    "_Feature"
   ],
   "window_display": false
  }
 },
 "nbformat": 4,
 "nbformat_minor": 5
}
