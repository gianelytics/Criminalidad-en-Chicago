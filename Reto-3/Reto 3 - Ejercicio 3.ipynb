{
 "cells": [
  {
   "cell_type": "markdown",
   "id": "e524710c",
   "metadata": {},
   "source": [
    "# Indice:\n",
    "\n",
    "\n",
    "### **1. Análisis exploratório de los datos de Delitos_Chicago.csv**\n",
    "     \n",
    "     1.0 Nuestros datos\n",
    "     1.1 Diccionario de datos\n",
    "     1.2 Objetivo\n",
    "     1.3 Importamos librerias y cargamos el dataframe.\n",
    "     1.4 Entendiendo a los datos\n",
    "     1.5 Reordenamiento las columnas\n",
    "     1.6 Valores nulos\n",
    "     1.7 Tipos de variables\n",
    "     1.8 Columnas irrelevantes\n",
    "     1.9 Outliers\n",
    "     1.10 Transformación de variables\n",
    "     1.11 Selección de variables\n",
    "     1.12 Filas duplicadas\n",
    "\n",
    "### **2. Modelo**\n",
    "\n",
    "\n",
    "\n",
    "### **3. Anexo - Respuestas**\n",
    "    \n",
    "    Ejercicio 3  "
   ]
  },
  {
   "cell_type": "markdown",
   "id": "01d39326",
   "metadata": {},
   "source": [
    "# 1. Análisis exploratório de los datos"
   ]
  },
  {
   "cell_type": "markdown",
   "id": "2fe4d987",
   "metadata": {},
   "source": [
    "## 1.0 Nuestros datos"
   ]
  },
  {
   "cell_type": "markdown",
   "id": "ca2bb9e4",
   "metadata": {},
   "source": [
    "El Departamento de Policía de Chicago utiliza actualmente más de 400 códigos IUCR para clasificar los delitos penales, divididos en delitos \"índice\" y \"no índice\". Los delitos índice son los delitos recopilados en todo el país para documentar las tendencias delictivas a lo largo del tiempo (los datos se publican semestralmente) e incluyen asesinato, agresión sexual criminal, robo, agresión agravada y agresión, robo, hurto, robo de vehículos motorizados e incendio premeditado.Si tiene preguntas sobre este conjunto de datos, puede comunicarse con la División de Análisis y Cumplimiento de Datos del Departamento de Policía de Chicago en DFA@ChicagoPolice.org."
   ]
  },
  {
   "cell_type": "markdown",
   "id": "434712b5",
   "metadata": {},
   "source": [
    "## 1.1 Diccionario de datos"
   ]
  },
  {
   "cell_type": "markdown",
   "id": "90c11230",
   "metadata": {},
   "source": [
    "Para comprender el conjunto de datos, se procede analizar cada variable.\n",
    "Las variables disponibles en el dataset son las siguientes:"
   ]
  },
  {
   "cell_type": "markdown",
   "id": "77cdb832",
   "metadata": {},
   "source": [
    "* **ID:** Identificador único para el registro.\n",
    "* **Case Number:** El Número RD (Número de División de Registros) del Departamento de Policía de Chicago, que es único para el incidente.\n",
    "* **Date:** Fecha en que ocurrió el incidente. esto es a veces una mejor estimación.\n",
    "* **Block:** La dirección parcialmente redactada donde ocurrió el incidente, colocándola en el mismo bloque que la dirección real.\n",
    "* **IUCR:** El código de Reporte de Delitos de Illinois Unifrom. Esto está directamente relacionado con el Primary Type y la Description.\n",
    "* **Primary Type:** La descripción principal del código IUCR.\n",
    "* **Description:** La descripción secundaria del código IUCR, una subcategoría de la descripción primaria.\n",
    "* **Location Description:** Descripción del lugar donde ocurrió el incidente.\n",
    "* **Arrest:** Indica si se realizó un arresto.\n",
    "* **Domestic:** Indica si el incidente estuvo relacionado con el hogar según lo define la Ley de Violencia Doméstica de Illinois.\n",
    "* **Beat:** Indica el barrio en la que se produjo el incidente. Una barrio es la zona geográfica más pequeña \n",
    "de la policía: cada distrito tiene una patrulla de policía específica. De tres a cinco distritos forman un sector policial, \n",
    "y tres sectores forman un distrito policial. El Departamento de Policía de Chicago tiene 22 distritos policiales\n",
    "* **District:** Indica el distrito policial donde ocurrió el incidente.\n",
    "* **Ward:** El barrio (distrito del Ayuntamiento) donde ocurrió el incidente.\n",
    "* **Community Area:** Indica el área de la comunidad donde ocurrió el incidente. Chicago tiene 77 áreas comunitarias. \n",
    "* **FBI Code:** Indica la clasificación del delito como se describe en el Sistema Nacional de Informes Basados ​​en Incidentes (NIBRS) del FBI.\n",
    "* **X Coordinate:** La coordenada x de la ubicación donde ocurrió el incidente en la proyección State Plane Illinois East NAD 1983. \n",
    "Esta ubicación se desplaza de la ubicación real para la redacción parcial, pero cae en el mismo bloque.\n",
    "* **Y Coordinate:** La coordenada y del lugar donde ocurrió el incidente en la proyección State Plane Illinois East NAD 1983. \n",
    "Esta ubicación se desplaza de la ubicación real para la redacción parcial, pero cae en el mismo bloque.\n",
    "* **Year:** Año en que ocurrió el incidente.\n",
    "* **Updated On:** Fecha y hora en que se actualizó el registro por última vez.\n",
    "* **Latitude:** La latitud del lugar donde ocurrió el incidente. Esta ubicación se desplaza de la ubicación real para la redacción parcial, \n",
    "pero cae en el mismo bloque. \n",
    "* **Longitude:** La longitud del lugar donde ocurrió el incidente. Esta ubicación se desplaza de la ubicación real para la redacción parcial, pero cae en el mismo bloque.\n",
    "* **Location:** La ubicación donde ocurrió el incidente en un formato que permite la creación de mapas y otras operaciones geográficas en este portal de datos. \n",
    "Esta ubicación se desplaza de la ubicación real para la redacción parcial, pero cae en el mismo bloque.  "
   ]
  },
  {
   "cell_type": "markdown",
   "id": "2f203b14",
   "metadata": {},
   "source": [
    "## 1.2 Objetivo:\n",
    "- Plantear un modelo predictivo que prediga si un delito es doméstico o no doméstico. Para ello, considerar la variable Domestic como variable objetivo"
   ]
  },
  {
   "cell_type": "markdown",
   "id": "8f8ef812",
   "metadata": {},
   "source": [
    "En este momento, empieza en la fase de exploración y limpieza de datos para analizar el objetivo específico, que es estudiar los delitos domésticos a través de la variable **\"Domestic\"**."
   ]
  },
  {
   "cell_type": "markdown",
   "id": "ba1d00db",
   "metadata": {},
   "source": [
    "## 1.3 Importamos librerias y cargamos el dataframe."
   ]
  },
  {
   "cell_type": "markdown",
   "id": "05227088",
   "metadata": {},
   "source": [
    "Para organizar y manipular los datos de manera eficiente, se carga el archivo **\"Delitos_Chicago.csv\"** como un **DataFrame**."
   ]
  },
  {
   "cell_type": "code",
   "execution_count": 1,
   "id": "2b16e109",
   "metadata": {},
   "outputs": [],
   "source": [
    "# Configuracion\n",
    "import warnings \n",
    "import pandas as pd\n",
    "\n",
    "# Para que pandas muestre todas las columnas\n",
    "pd.options.display.max_columns = None\n",
    "\n",
    "# No muestre warnings\n",
    "warnings.filterwarnings(\"ignore\")"
   ]
  },
  {
   "cell_type": "code",
   "execution_count": 2,
   "id": "e398427f",
   "metadata": {},
   "outputs": [
    {
     "name": "stdout",
     "output_type": "stream",
     "text": [
      "Requirement already satisfied: plotly in c:\\users\\gianella\\anaconda3\\lib\\site-packages (5.17.0)\n",
      "Requirement already satisfied: packaging in c:\\users\\gianella\\anaconda3\\lib\\site-packages (from plotly) (20.9)\n",
      "Requirement already satisfied: tenacity>=6.2.0 in c:\\users\\gianella\\anaconda3\\lib\\site-packages (from plotly) (8.2.3)\n",
      "Requirement already satisfied: pyparsing>=2.0.2 in c:\\users\\gianella\\anaconda3\\lib\\site-packages (from packaging->plotly) (2.4.7)\n",
      "Note: you may need to restart the kernel to use updated packages.\n"
     ]
    }
   ],
   "source": [
    "pip install plotly"
   ]
  },
  {
   "cell_type": "code",
   "execution_count": 3,
   "id": "9c50134c",
   "metadata": {},
   "outputs": [],
   "source": [
    "import pandas as pd\n",
    "import numpy as np\n",
    "import matplotlib.pylab as plt\n",
    "import seaborn as sns"
   ]
  },
  {
   "cell_type": "code",
   "execution_count": 4,
   "id": "42f7e9c2",
   "metadata": {},
   "outputs": [],
   "source": [
    "# Ruta del archivo csv\n",
    "ruta2 = \"Delitos_Chicago.csv\"\n",
    "\n",
    "# Lectura a los archivos csv\n",
    "datos2 = pd.read_csv(ruta2, sep = ',')\n",
    "\n",
    "# Creando el dataframe\n",
    "delitos_df = pd.DataFrame(datos2)"
   ]
  },
  {
   "cell_type": "markdown",
   "id": "02b4339b",
   "metadata": {},
   "source": [
    "### 1.4 Entendiendo a los datos\n",
    "\n",
    "- Shape\n",
    "- Columns\n",
    "- Info\n",
    "- Describe"
   ]
  },
  {
   "cell_type": "markdown",
   "id": "7d3d399c",
   "metadata": {},
   "source": [
    "- Con **delitos_df.shape** se puede observar la dimsensión de nuestro dataset."
   ]
  },
  {
   "cell_type": "code",
   "execution_count": 5,
   "id": "c1c6ea2e",
   "metadata": {
    "scrolled": true
   },
   "outputs": [
    {
     "data": {
      "text/plain": [
       "(264758, 22)"
      ]
     },
     "execution_count": 5,
     "metadata": {},
     "output_type": "execute_result"
    }
   ],
   "source": [
    "#Dimensión de los datos\n",
    "delitos_df.shape"
   ]
  },
  {
   "cell_type": "markdown",
   "id": "d28caf74",
   "metadata": {},
   "source": [
    "El dataframe tiene una dimensión de 264758 filas y 22 columnas"
   ]
  },
  {
   "cell_type": "markdown",
   "id": "bb7dda3b",
   "metadata": {},
   "source": [
    "- Con los métodos **head()** se puede observar las primeras 5 las filas respectivamente del conjunto de datos."
   ]
  },
  {
   "cell_type": "code",
   "execution_count": 6,
   "id": "b80f8bb1",
   "metadata": {},
   "outputs": [
    {
     "data": {
      "text/html": [
       "<div>\n",
       "<style scoped>\n",
       "    .dataframe tbody tr th:only-of-type {\n",
       "        vertical-align: middle;\n",
       "    }\n",
       "\n",
       "    .dataframe tbody tr th {\n",
       "        vertical-align: top;\n",
       "    }\n",
       "\n",
       "    .dataframe thead th {\n",
       "        text-align: right;\n",
       "    }\n",
       "</style>\n",
       "<table border=\"1\" class=\"dataframe\">\n",
       "  <thead>\n",
       "    <tr style=\"text-align: right;\">\n",
       "      <th></th>\n",
       "      <th>ID</th>\n",
       "      <th>Case Number</th>\n",
       "      <th>Date</th>\n",
       "      <th>Block</th>\n",
       "      <th>IUCR</th>\n",
       "      <th>Primary Type</th>\n",
       "      <th>Description</th>\n",
       "      <th>Location Description</th>\n",
       "      <th>Arrest</th>\n",
       "      <th>Domestic</th>\n",
       "      <th>Beat</th>\n",
       "      <th>District</th>\n",
       "      <th>Ward</th>\n",
       "      <th>Community Area</th>\n",
       "      <th>FBI Code</th>\n",
       "      <th>X Coordinate</th>\n",
       "      <th>Y Coordinate</th>\n",
       "      <th>Year</th>\n",
       "      <th>Updated On</th>\n",
       "      <th>Latitude</th>\n",
       "      <th>Longitude</th>\n",
       "      <th>Location</th>\n",
       "    </tr>\n",
       "  </thead>\n",
       "  <tbody>\n",
       "    <tr>\n",
       "      <th>0</th>\n",
       "      <td>10224738</td>\n",
       "      <td>HY411648</td>\n",
       "      <td>09/05/2015 01:30:00 PM</td>\n",
       "      <td>043XX S WOOD ST</td>\n",
       "      <td>0486</td>\n",
       "      <td>BATTERY</td>\n",
       "      <td>DOMESTIC BATTERY SIMPLE</td>\n",
       "      <td>RESIDENCE</td>\n",
       "      <td>False</td>\n",
       "      <td>True</td>\n",
       "      <td>924</td>\n",
       "      <td>9</td>\n",
       "      <td>12.0</td>\n",
       "      <td>61</td>\n",
       "      <td>08B</td>\n",
       "      <td>1165074.0</td>\n",
       "      <td>1875917.0</td>\n",
       "      <td>2015</td>\n",
       "      <td>02/10/2018 03:50:01 PM</td>\n",
       "      <td>41.815117</td>\n",
       "      <td>-87.670000</td>\n",
       "      <td>(41.815117282, -87.669999562)</td>\n",
       "    </tr>\n",
       "    <tr>\n",
       "      <th>1</th>\n",
       "      <td>10224739</td>\n",
       "      <td>HY411615</td>\n",
       "      <td>09/04/2015 11:30:00 AM</td>\n",
       "      <td>008XX N CENTRAL AVE</td>\n",
       "      <td>0870</td>\n",
       "      <td>THEFT</td>\n",
       "      <td>POCKET-PICKING</td>\n",
       "      <td>CTA BUS</td>\n",
       "      <td>False</td>\n",
       "      <td>False</td>\n",
       "      <td>1511</td>\n",
       "      <td>15</td>\n",
       "      <td>29.0</td>\n",
       "      <td>25</td>\n",
       "      <td>06</td>\n",
       "      <td>1138875.0</td>\n",
       "      <td>1904869.0</td>\n",
       "      <td>2015</td>\n",
       "      <td>02/10/2018 03:50:01 PM</td>\n",
       "      <td>41.895080</td>\n",
       "      <td>-87.765400</td>\n",
       "      <td>(41.895080471, -87.765400451)</td>\n",
       "    </tr>\n",
       "    <tr>\n",
       "      <th>2</th>\n",
       "      <td>10224740</td>\n",
       "      <td>HY411595</td>\n",
       "      <td>09/05/2015 12:45:00 PM</td>\n",
       "      <td>035XX W BARRY AVE</td>\n",
       "      <td>2023</td>\n",
       "      <td>NARCOTICS</td>\n",
       "      <td>POSS: HEROIN(BRN/TAN)</td>\n",
       "      <td>SIDEWALK</td>\n",
       "      <td>True</td>\n",
       "      <td>False</td>\n",
       "      <td>1412</td>\n",
       "      <td>14</td>\n",
       "      <td>35.0</td>\n",
       "      <td>21</td>\n",
       "      <td>18</td>\n",
       "      <td>1152037.0</td>\n",
       "      <td>1920384.0</td>\n",
       "      <td>2015</td>\n",
       "      <td>02/10/2018 03:50:01 PM</td>\n",
       "      <td>41.937406</td>\n",
       "      <td>-87.716650</td>\n",
       "      <td>(41.937405765, -87.716649687)</td>\n",
       "    </tr>\n",
       "    <tr>\n",
       "      <th>3</th>\n",
       "      <td>10224741</td>\n",
       "      <td>HY411610</td>\n",
       "      <td>09/05/2015 01:00:00 PM</td>\n",
       "      <td>0000X N LARAMIE AVE</td>\n",
       "      <td>0560</td>\n",
       "      <td>ASSAULT</td>\n",
       "      <td>SIMPLE</td>\n",
       "      <td>APARTMENT</td>\n",
       "      <td>False</td>\n",
       "      <td>True</td>\n",
       "      <td>1522</td>\n",
       "      <td>15</td>\n",
       "      <td>28.0</td>\n",
       "      <td>25</td>\n",
       "      <td>08A</td>\n",
       "      <td>1141706.0</td>\n",
       "      <td>1900086.0</td>\n",
       "      <td>2015</td>\n",
       "      <td>02/10/2018 03:50:01 PM</td>\n",
       "      <td>41.881903</td>\n",
       "      <td>-87.755121</td>\n",
       "      <td>(41.881903443, -87.755121152)</td>\n",
       "    </tr>\n",
       "    <tr>\n",
       "      <th>4</th>\n",
       "      <td>10224742</td>\n",
       "      <td>HY411435</td>\n",
       "      <td>09/05/2015 10:55:00 AM</td>\n",
       "      <td>082XX S LOOMIS BLVD</td>\n",
       "      <td>0610</td>\n",
       "      <td>BURGLARY</td>\n",
       "      <td>FORCIBLE ENTRY</td>\n",
       "      <td>RESIDENCE</td>\n",
       "      <td>False</td>\n",
       "      <td>False</td>\n",
       "      <td>614</td>\n",
       "      <td>6</td>\n",
       "      <td>21.0</td>\n",
       "      <td>71</td>\n",
       "      <td>05</td>\n",
       "      <td>1168430.0</td>\n",
       "      <td>1850165.0</td>\n",
       "      <td>2015</td>\n",
       "      <td>02/10/2018 03:50:01 PM</td>\n",
       "      <td>41.744379</td>\n",
       "      <td>-87.658431</td>\n",
       "      <td>(41.744378879, -87.658430635)</td>\n",
       "    </tr>\n",
       "  </tbody>\n",
       "</table>\n",
       "</div>"
      ],
      "text/plain": [
       "         ID Case Number                    Date                Block  IUCR  \\\n",
       "0  10224738    HY411648  09/05/2015 01:30:00 PM      043XX S WOOD ST  0486   \n",
       "1  10224739    HY411615  09/04/2015 11:30:00 AM  008XX N CENTRAL AVE  0870   \n",
       "2  10224740    HY411595  09/05/2015 12:45:00 PM    035XX W BARRY AVE  2023   \n",
       "3  10224741    HY411610  09/05/2015 01:00:00 PM  0000X N LARAMIE AVE  0560   \n",
       "4  10224742    HY411435  09/05/2015 10:55:00 AM  082XX S LOOMIS BLVD  0610   \n",
       "\n",
       "  Primary Type              Description Location Description  Arrest  \\\n",
       "0      BATTERY  DOMESTIC BATTERY SIMPLE            RESIDENCE   False   \n",
       "1        THEFT           POCKET-PICKING              CTA BUS   False   \n",
       "2    NARCOTICS    POSS: HEROIN(BRN/TAN)             SIDEWALK    True   \n",
       "3      ASSAULT                   SIMPLE            APARTMENT   False   \n",
       "4     BURGLARY           FORCIBLE ENTRY            RESIDENCE   False   \n",
       "\n",
       "   Domestic  Beat  District  Ward  Community Area FBI Code  X Coordinate  \\\n",
       "0      True   924         9  12.0              61      08B     1165074.0   \n",
       "1     False  1511        15  29.0              25       06     1138875.0   \n",
       "2     False  1412        14  35.0              21       18     1152037.0   \n",
       "3      True  1522        15  28.0              25      08A     1141706.0   \n",
       "4     False   614         6  21.0              71       05     1168430.0   \n",
       "\n",
       "   Y Coordinate  Year              Updated On   Latitude  Longitude  \\\n",
       "0     1875917.0  2015  02/10/2018 03:50:01 PM  41.815117 -87.670000   \n",
       "1     1904869.0  2015  02/10/2018 03:50:01 PM  41.895080 -87.765400   \n",
       "2     1920384.0  2015  02/10/2018 03:50:01 PM  41.937406 -87.716650   \n",
       "3     1900086.0  2015  02/10/2018 03:50:01 PM  41.881903 -87.755121   \n",
       "4     1850165.0  2015  02/10/2018 03:50:01 PM  41.744379 -87.658431   \n",
       "\n",
       "                        Location  \n",
       "0  (41.815117282, -87.669999562)  \n",
       "1  (41.895080471, -87.765400451)  \n",
       "2  (41.937405765, -87.716649687)  \n",
       "3  (41.881903443, -87.755121152)  \n",
       "4  (41.744378879, -87.658430635)  "
      ]
     },
     "execution_count": 6,
     "metadata": {},
     "output_type": "execute_result"
    }
   ],
   "source": [
    "# Primeras 5 filas del dataframe\n",
    "delitos_df.head()"
   ]
  },
  {
   "cell_type": "markdown",
   "id": "37e8ddbd",
   "metadata": {},
   "source": [
    "- Con el atributo **.columns** se puede conocer las variables (columnas) del DataFrame."
   ]
  },
  {
   "cell_type": "code",
   "execution_count": 7,
   "id": "810b8e80",
   "metadata": {},
   "outputs": [
    {
     "data": {
      "text/plain": [
       "Index(['ID', 'Case Number', 'Date', 'Block', 'IUCR', 'Primary Type',\n",
       "       'Description', 'Location Description', 'Arrest', 'Domestic', 'Beat',\n",
       "       'District', 'Ward', 'Community Area', 'FBI Code', 'X Coordinate',\n",
       "       'Y Coordinate', 'Year', 'Updated On', 'Latitude', 'Longitude',\n",
       "       'Location'],\n",
       "      dtype='object')"
      ]
     },
     "execution_count": 7,
     "metadata": {},
     "output_type": "execute_result"
    }
   ],
   "source": [
    "# Columnas del dataframe\n",
    "delitos_df.columns"
   ]
  },
  {
   "cell_type": "markdown",
   "id": "ccab9f2a",
   "metadata": {},
   "source": [
    "- Se hace uso del método **info()** para ver la cantidad de valores nulos y los tipos de datos en cada columna."
   ]
  },
  {
   "cell_type": "code",
   "execution_count": 8,
   "id": "34780ef7",
   "metadata": {},
   "outputs": [
    {
     "name": "stdout",
     "output_type": "stream",
     "text": [
      "<class 'pandas.core.frame.DataFrame'>\n",
      "RangeIndex: 264758 entries, 0 to 264757\n",
      "Data columns (total 22 columns):\n",
      " #   Column                Non-Null Count   Dtype  \n",
      "---  ------                --------------   -----  \n",
      " 0   ID                    264758 non-null  int64  \n",
      " 1   Case Number           264758 non-null  object \n",
      " 2   Date                  264758 non-null  object \n",
      " 3   Block                 264758 non-null  object \n",
      " 4   IUCR                  264758 non-null  object \n",
      " 5   Primary Type          264758 non-null  object \n",
      " 6   Description           264758 non-null  object \n",
      " 7   Location Description  264169 non-null  object \n",
      " 8   Arrest                264758 non-null  bool   \n",
      " 9   Domestic              264758 non-null  bool   \n",
      " 10  Beat                  264758 non-null  int64  \n",
      " 11  District              264758 non-null  int64  \n",
      " 12  Ward                  264756 non-null  float64\n",
      " 13  Community Area        264758 non-null  int64  \n",
      " 14  FBI Code              264758 non-null  object \n",
      " 15  X Coordinate          257931 non-null  float64\n",
      " 16  Y Coordinate          257931 non-null  float64\n",
      " 17  Year                  264758 non-null  int64  \n",
      " 18  Updated On            264758 non-null  object \n",
      " 19  Latitude              257931 non-null  float64\n",
      " 20  Longitude             257931 non-null  float64\n",
      " 21  Location              257931 non-null  object \n",
      "dtypes: bool(2), float64(5), int64(5), object(10)\n",
      "memory usage: 40.9+ MB\n"
     ]
    }
   ],
   "source": [
    "delitos_df.info()"
   ]
  },
  {
   "cell_type": "markdown",
   "id": "0abd7dc1",
   "metadata": {},
   "source": [
    "El conjunto de datos tiene:**\n",
    ">- 2 variables de tipo **bool.**\n",
    ">- 5 variables de tipo **float64**.\n",
    ">- 5 variables tipo **int64**.\n",
    ">- 10 variables de tipo **object**.\n",
    ">- **Valores nulos** en las columnas **\"Location Description\", \"Ward\", \"X Coordinate\",\"Y Coordinate\", \"Latitude\", \"Longitude\" y \"Location\".**"
   ]
  },
  {
   "cell_type": "markdown",
   "id": "e01d2f67",
   "metadata": {},
   "source": [
    "- Con el método **describe(include='all').round(2)**, se puede obtener las principales estadísticas de todas las variables, tanto numéricas como categóricas, redondeadas a 2 decimales."
   ]
  },
  {
   "cell_type": "code",
   "execution_count": 9,
   "id": "9e720ee5",
   "metadata": {},
   "outputs": [
    {
     "data": {
      "text/html": [
       "<div>\n",
       "<style scoped>\n",
       "    .dataframe tbody tr th:only-of-type {\n",
       "        vertical-align: middle;\n",
       "    }\n",
       "\n",
       "    .dataframe tbody tr th {\n",
       "        vertical-align: top;\n",
       "    }\n",
       "\n",
       "    .dataframe thead th {\n",
       "        text-align: right;\n",
       "    }\n",
       "</style>\n",
       "<table border=\"1\" class=\"dataframe\">\n",
       "  <thead>\n",
       "    <tr style=\"text-align: right;\">\n",
       "      <th></th>\n",
       "      <th>ID</th>\n",
       "      <th>Case Number</th>\n",
       "      <th>Date</th>\n",
       "      <th>Block</th>\n",
       "      <th>IUCR</th>\n",
       "      <th>Primary Type</th>\n",
       "      <th>Description</th>\n",
       "      <th>Location Description</th>\n",
       "      <th>Arrest</th>\n",
       "      <th>Domestic</th>\n",
       "      <th>Beat</th>\n",
       "      <th>District</th>\n",
       "      <th>Ward</th>\n",
       "      <th>Community Area</th>\n",
       "      <th>FBI Code</th>\n",
       "      <th>X Coordinate</th>\n",
       "      <th>Y Coordinate</th>\n",
       "      <th>Year</th>\n",
       "      <th>Updated On</th>\n",
       "      <th>Latitude</th>\n",
       "      <th>Longitude</th>\n",
       "      <th>Location</th>\n",
       "    </tr>\n",
       "  </thead>\n",
       "  <tbody>\n",
       "    <tr>\n",
       "      <th>count</th>\n",
       "      <td>264758.00</td>\n",
       "      <td>264758</td>\n",
       "      <td>264758</td>\n",
       "      <td>264758</td>\n",
       "      <td>264758</td>\n",
       "      <td>264758</td>\n",
       "      <td>264758</td>\n",
       "      <td>264169</td>\n",
       "      <td>264758</td>\n",
       "      <td>264758</td>\n",
       "      <td>264758.00</td>\n",
       "      <td>264758.00</td>\n",
       "      <td>264756.00</td>\n",
       "      <td>264758.00</td>\n",
       "      <td>264758</td>\n",
       "      <td>257931.00</td>\n",
       "      <td>257931.00</td>\n",
       "      <td>264758.0</td>\n",
       "      <td>264758</td>\n",
       "      <td>257931.00</td>\n",
       "      <td>257931.00</td>\n",
       "      <td>257931</td>\n",
       "    </tr>\n",
       "    <tr>\n",
       "      <th>unique</th>\n",
       "      <td>NaN</td>\n",
       "      <td>264731</td>\n",
       "      <td>112346</td>\n",
       "      <td>27519</td>\n",
       "      <td>331</td>\n",
       "      <td>33</td>\n",
       "      <td>339</td>\n",
       "      <td>136</td>\n",
       "      <td>2</td>\n",
       "      <td>2</td>\n",
       "      <td>NaN</td>\n",
       "      <td>NaN</td>\n",
       "      <td>NaN</td>\n",
       "      <td>NaN</td>\n",
       "      <td>26</td>\n",
       "      <td>NaN</td>\n",
       "      <td>NaN</td>\n",
       "      <td>NaN</td>\n",
       "      <td>2074</td>\n",
       "      <td>NaN</td>\n",
       "      <td>NaN</td>\n",
       "      <td>131466</td>\n",
       "    </tr>\n",
       "    <tr>\n",
       "      <th>top</th>\n",
       "      <td>NaN</td>\n",
       "      <td>HY346207</td>\n",
       "      <td>01/01/2015 12:01:00 AM</td>\n",
       "      <td>001XX N STATE ST</td>\n",
       "      <td>0820</td>\n",
       "      <td>THEFT</td>\n",
       "      <td>SIMPLE</td>\n",
       "      <td>STREET</td>\n",
       "      <td>False</td>\n",
       "      <td>False</td>\n",
       "      <td>NaN</td>\n",
       "      <td>NaN</td>\n",
       "      <td>NaN</td>\n",
       "      <td>NaN</td>\n",
       "      <td>06</td>\n",
       "      <td>NaN</td>\n",
       "      <td>NaN</td>\n",
       "      <td>NaN</td>\n",
       "      <td>02/10/2018 03:50:01 PM</td>\n",
       "      <td>NaN</td>\n",
       "      <td>NaN</td>\n",
       "      <td>(41.883500187, -87.627876698)</td>\n",
       "    </tr>\n",
       "    <tr>\n",
       "      <th>freq</th>\n",
       "      <td>NaN</td>\n",
       "      <td>4</td>\n",
       "      <td>197</td>\n",
       "      <td>768</td>\n",
       "      <td>24676</td>\n",
       "      <td>57350</td>\n",
       "      <td>27415</td>\n",
       "      <td>60755</td>\n",
       "      <td>194723</td>\n",
       "      <td>222776</td>\n",
       "      <td>NaN</td>\n",
       "      <td>NaN</td>\n",
       "      <td>NaN</td>\n",
       "      <td>NaN</td>\n",
       "      <td>57350</td>\n",
       "      <td>NaN</td>\n",
       "      <td>NaN</td>\n",
       "      <td>NaN</td>\n",
       "      <td>242053</td>\n",
       "      <td>NaN</td>\n",
       "      <td>NaN</td>\n",
       "      <td>490</td>\n",
       "    </tr>\n",
       "    <tr>\n",
       "      <th>mean</th>\n",
       "      <td>10138271.17</td>\n",
       "      <td>NaN</td>\n",
       "      <td>NaN</td>\n",
       "      <td>NaN</td>\n",
       "      <td>NaN</td>\n",
       "      <td>NaN</td>\n",
       "      <td>NaN</td>\n",
       "      <td>NaN</td>\n",
       "      <td>NaN</td>\n",
       "      <td>NaN</td>\n",
       "      <td>1144.02</td>\n",
       "      <td>11.21</td>\n",
       "      <td>22.81</td>\n",
       "      <td>37.58</td>\n",
       "      <td>NaN</td>\n",
       "      <td>1164455.94</td>\n",
       "      <td>1885560.18</td>\n",
       "      <td>2015.0</td>\n",
       "      <td>NaN</td>\n",
       "      <td>41.84</td>\n",
       "      <td>-87.67</td>\n",
       "      <td>NaN</td>\n",
       "    </tr>\n",
       "    <tr>\n",
       "      <th>std</th>\n",
       "      <td>474620.54</td>\n",
       "      <td>NaN</td>\n",
       "      <td>NaN</td>\n",
       "      <td>NaN</td>\n",
       "      <td>NaN</td>\n",
       "      <td>NaN</td>\n",
       "      <td>NaN</td>\n",
       "      <td>NaN</td>\n",
       "      <td>NaN</td>\n",
       "      <td>NaN</td>\n",
       "      <td>690.78</td>\n",
       "      <td>6.90</td>\n",
       "      <td>13.78</td>\n",
       "      <td>21.42</td>\n",
       "      <td>NaN</td>\n",
       "      <td>16468.55</td>\n",
       "      <td>31209.00</td>\n",
       "      <td>0.0</td>\n",
       "      <td>NaN</td>\n",
       "      <td>0.09</td>\n",
       "      <td>0.06</td>\n",
       "      <td>NaN</td>\n",
       "    </tr>\n",
       "    <tr>\n",
       "      <th>min</th>\n",
       "      <td>21714.00</td>\n",
       "      <td>NaN</td>\n",
       "      <td>NaN</td>\n",
       "      <td>NaN</td>\n",
       "      <td>NaN</td>\n",
       "      <td>NaN</td>\n",
       "      <td>NaN</td>\n",
       "      <td>NaN</td>\n",
       "      <td>NaN</td>\n",
       "      <td>NaN</td>\n",
       "      <td>111.00</td>\n",
       "      <td>1.00</td>\n",
       "      <td>1.00</td>\n",
       "      <td>1.00</td>\n",
       "      <td>NaN</td>\n",
       "      <td>1094231.00</td>\n",
       "      <td>1813897.00</td>\n",
       "      <td>2015.0</td>\n",
       "      <td>NaN</td>\n",
       "      <td>41.64</td>\n",
       "      <td>-87.93</td>\n",
       "      <td>NaN</td>\n",
       "    </tr>\n",
       "    <tr>\n",
       "      <th>25%</th>\n",
       "      <td>10033800.25</td>\n",
       "      <td>NaN</td>\n",
       "      <td>NaN</td>\n",
       "      <td>NaN</td>\n",
       "      <td>NaN</td>\n",
       "      <td>NaN</td>\n",
       "      <td>NaN</td>\n",
       "      <td>NaN</td>\n",
       "      <td>NaN</td>\n",
       "      <td>NaN</td>\n",
       "      <td>612.00</td>\n",
       "      <td>6.00</td>\n",
       "      <td>10.00</td>\n",
       "      <td>23.00</td>\n",
       "      <td>NaN</td>\n",
       "      <td>1152408.00</td>\n",
       "      <td>1858596.00</td>\n",
       "      <td>2015.0</td>\n",
       "      <td>NaN</td>\n",
       "      <td>41.77</td>\n",
       "      <td>-87.72</td>\n",
       "      <td>NaN</td>\n",
       "    </tr>\n",
       "    <tr>\n",
       "      <th>50%</th>\n",
       "      <td>10148677.50</td>\n",
       "      <td>NaN</td>\n",
       "      <td>NaN</td>\n",
       "      <td>NaN</td>\n",
       "      <td>NaN</td>\n",
       "      <td>NaN</td>\n",
       "      <td>NaN</td>\n",
       "      <td>NaN</td>\n",
       "      <td>NaN</td>\n",
       "      <td>NaN</td>\n",
       "      <td>1023.00</td>\n",
       "      <td>10.00</td>\n",
       "      <td>23.00</td>\n",
       "      <td>32.00</td>\n",
       "      <td>NaN</td>\n",
       "      <td>1166063.00</td>\n",
       "      <td>1891472.00</td>\n",
       "      <td>2015.0</td>\n",
       "      <td>NaN</td>\n",
       "      <td>41.86</td>\n",
       "      <td>-87.67</td>\n",
       "      <td>NaN</td>\n",
       "    </tr>\n",
       "    <tr>\n",
       "      <th>75%</th>\n",
       "      <td>10263099.75</td>\n",
       "      <td>NaN</td>\n",
       "      <td>NaN</td>\n",
       "      <td>NaN</td>\n",
       "      <td>NaN</td>\n",
       "      <td>NaN</td>\n",
       "      <td>NaN</td>\n",
       "      <td>NaN</td>\n",
       "      <td>NaN</td>\n",
       "      <td>NaN</td>\n",
       "      <td>1654.00</td>\n",
       "      <td>16.00</td>\n",
       "      <td>34.00</td>\n",
       "      <td>57.00</td>\n",
       "      <td>NaN</td>\n",
       "      <td>1176389.00</td>\n",
       "      <td>1908452.00</td>\n",
       "      <td>2015.0</td>\n",
       "      <td>NaN</td>\n",
       "      <td>41.90</td>\n",
       "      <td>-87.63</td>\n",
       "      <td>NaN</td>\n",
       "    </tr>\n",
       "    <tr>\n",
       "      <th>max</th>\n",
       "      <td>13075086.00</td>\n",
       "      <td>NaN</td>\n",
       "      <td>NaN</td>\n",
       "      <td>NaN</td>\n",
       "      <td>NaN</td>\n",
       "      <td>NaN</td>\n",
       "      <td>NaN</td>\n",
       "      <td>NaN</td>\n",
       "      <td>NaN</td>\n",
       "      <td>NaN</td>\n",
       "      <td>2535.00</td>\n",
       "      <td>31.00</td>\n",
       "      <td>50.00</td>\n",
       "      <td>77.00</td>\n",
       "      <td>NaN</td>\n",
       "      <td>1205111.00</td>\n",
       "      <td>1951523.00</td>\n",
       "      <td>2015.0</td>\n",
       "      <td>NaN</td>\n",
       "      <td>42.02</td>\n",
       "      <td>-87.52</td>\n",
       "      <td>NaN</td>\n",
       "    </tr>\n",
       "  </tbody>\n",
       "</table>\n",
       "</div>"
      ],
      "text/plain": [
       "                 ID Case Number                    Date             Block  \\\n",
       "count     264758.00      264758                  264758            264758   \n",
       "unique          NaN      264731                  112346             27519   \n",
       "top             NaN    HY346207  01/01/2015 12:01:00 AM  001XX N STATE ST   \n",
       "freq            NaN           4                     197               768   \n",
       "mean    10138271.17         NaN                     NaN               NaN   \n",
       "std       474620.54         NaN                     NaN               NaN   \n",
       "min        21714.00         NaN                     NaN               NaN   \n",
       "25%     10033800.25         NaN                     NaN               NaN   \n",
       "50%     10148677.50         NaN                     NaN               NaN   \n",
       "75%     10263099.75         NaN                     NaN               NaN   \n",
       "max     13075086.00         NaN                     NaN               NaN   \n",
       "\n",
       "          IUCR Primary Type Description Location Description  Arrest Domestic  \\\n",
       "count   264758       264758      264758               264169  264758   264758   \n",
       "unique     331           33         339                  136       2        2   \n",
       "top       0820        THEFT      SIMPLE               STREET   False    False   \n",
       "freq     24676        57350       27415                60755  194723   222776   \n",
       "mean       NaN          NaN         NaN                  NaN     NaN      NaN   \n",
       "std        NaN          NaN         NaN                  NaN     NaN      NaN   \n",
       "min        NaN          NaN         NaN                  NaN     NaN      NaN   \n",
       "25%        NaN          NaN         NaN                  NaN     NaN      NaN   \n",
       "50%        NaN          NaN         NaN                  NaN     NaN      NaN   \n",
       "75%        NaN          NaN         NaN                  NaN     NaN      NaN   \n",
       "max        NaN          NaN         NaN                  NaN     NaN      NaN   \n",
       "\n",
       "             Beat   District       Ward  Community Area FBI Code  \\\n",
       "count   264758.00  264758.00  264756.00       264758.00   264758   \n",
       "unique        NaN        NaN        NaN             NaN       26   \n",
       "top           NaN        NaN        NaN             NaN       06   \n",
       "freq          NaN        NaN        NaN             NaN    57350   \n",
       "mean      1144.02      11.21      22.81           37.58      NaN   \n",
       "std        690.78       6.90      13.78           21.42      NaN   \n",
       "min        111.00       1.00       1.00            1.00      NaN   \n",
       "25%        612.00       6.00      10.00           23.00      NaN   \n",
       "50%       1023.00      10.00      23.00           32.00      NaN   \n",
       "75%       1654.00      16.00      34.00           57.00      NaN   \n",
       "max       2535.00      31.00      50.00           77.00      NaN   \n",
       "\n",
       "        X Coordinate  Y Coordinate      Year              Updated On  \\\n",
       "count      257931.00     257931.00  264758.0                  264758   \n",
       "unique           NaN           NaN       NaN                    2074   \n",
       "top              NaN           NaN       NaN  02/10/2018 03:50:01 PM   \n",
       "freq             NaN           NaN       NaN                  242053   \n",
       "mean      1164455.94    1885560.18    2015.0                     NaN   \n",
       "std         16468.55      31209.00       0.0                     NaN   \n",
       "min       1094231.00    1813897.00    2015.0                     NaN   \n",
       "25%       1152408.00    1858596.00    2015.0                     NaN   \n",
       "50%       1166063.00    1891472.00    2015.0                     NaN   \n",
       "75%       1176389.00    1908452.00    2015.0                     NaN   \n",
       "max       1205111.00    1951523.00    2015.0                     NaN   \n",
       "\n",
       "         Latitude  Longitude                       Location  \n",
       "count   257931.00  257931.00                         257931  \n",
       "unique        NaN        NaN                         131466  \n",
       "top           NaN        NaN  (41.883500187, -87.627876698)  \n",
       "freq          NaN        NaN                            490  \n",
       "mean        41.84     -87.67                            NaN  \n",
       "std          0.09       0.06                            NaN  \n",
       "min         41.64     -87.93                            NaN  \n",
       "25%         41.77     -87.72                            NaN  \n",
       "50%         41.86     -87.67                            NaN  \n",
       "75%         41.90     -87.63                            NaN  \n",
       "max         42.02     -87.52                            NaN  "
      ]
     },
     "execution_count": 9,
     "metadata": {},
     "output_type": "execute_result"
    }
   ],
   "source": [
    "delitos_df.describe(include = 'all').round(2)"
   ]
  },
  {
   "cell_type": "markdown",
   "id": "e1bbc670",
   "metadata": {},
   "source": [
    "**Se obtiene la siguiente información:**\n",
    "\n",
    "- **\"Case Number\":** Tiene 264,731 datos únicos, lo que sugiere que se debe analizar cuidadosamente los datos duplicados.\n",
    "- **\"IUCR\":** Es el código de reporte y tiene 331 valores únicos.\n",
    "- **\"Location Description\":** Es el lugar donde ocurrió el incidente y tiene 136 datos únicos.\n",
    "- **\"FBI Code\":** Es la clasificación del delito y tiene 26 datos únicos."
   ]
  },
  {
   "cell_type": "markdown",
   "id": "d05d3d89",
   "metadata": {},
   "source": [
    "**DISTRIBUCIÓN DE TODOS LOS DELITOS POR NÚMERO DE DISTRITO**"
   ]
  },
  {
   "cell_type": "code",
   "execution_count": 10,
   "id": "e15ab277",
   "metadata": {},
   "outputs": [],
   "source": [
    "import plotly.express as px\n",
    "\n",
    "# Filtrando los delitos con coordenadas no nulas\n",
    "mapa_delitos = delitos_df.loc[delitos_df['Longitude'] != 0]\n",
    "\n",
    "# Creando el mapa de dispersión\n",
    "fig = px.scatter(mapa_delitos, x='Longitude', y='Latitude', \n",
    "                 color='District',\n",
    "title='Distribución de todos los delitos por número de distrito', height=600)\n",
    "\n",
    "# Mostrando el mapa de dispersión\n",
    "#fig.show()\n"
   ]
  },
  {
   "attachments": {
    "image.png": {
     "image/png": "[encoded data removed]"
    }
   },
   "cell_type": "markdown",
   "id": "c48f5e11",
   "metadata": {},
   "source": [
    "![image.png](attachment:image.png)"
   ]
  },
  {
   "cell_type": "markdown",
   "id": "18dd0452",
   "metadata": {},
   "source": [
    "## 1.5 Reordenamiento de columnas"
   ]
  },
  {
   "cell_type": "markdown",
   "id": "58d8a8b6",
   "metadata": {},
   "source": [
    "- Se reordena las columnas y se coloca el Target \"Domesctic\" al final del dataframe"
   ]
  },
  {
   "cell_type": "code",
   "execution_count": 11,
   "id": "bd95d4f5",
   "metadata": {},
   "outputs": [
    {
     "data": {
      "text/html": [
       "<div>\n",
       "<style scoped>\n",
       "    .dataframe tbody tr th:only-of-type {\n",
       "        vertical-align: middle;\n",
       "    }\n",
       "\n",
       "    .dataframe tbody tr th {\n",
       "        vertical-align: top;\n",
       "    }\n",
       "\n",
       "    .dataframe thead th {\n",
       "        text-align: right;\n",
       "    }\n",
       "</style>\n",
       "<table border=\"1\" class=\"dataframe\">\n",
       "  <thead>\n",
       "    <tr style=\"text-align: right;\">\n",
       "      <th></th>\n",
       "      <th>ID</th>\n",
       "      <th>Case Number</th>\n",
       "      <th>Date</th>\n",
       "      <th>Block</th>\n",
       "      <th>IUCR</th>\n",
       "      <th>Primary Type</th>\n",
       "      <th>Description</th>\n",
       "      <th>Location Description</th>\n",
       "      <th>Arrest</th>\n",
       "      <th>Beat</th>\n",
       "      <th>District</th>\n",
       "      <th>Ward</th>\n",
       "      <th>Community Area</th>\n",
       "      <th>FBI Code</th>\n",
       "      <th>X Coordinate</th>\n",
       "      <th>Y Coordinate</th>\n",
       "      <th>Year</th>\n",
       "      <th>Updated On</th>\n",
       "      <th>Latitude</th>\n",
       "      <th>Longitude</th>\n",
       "      <th>Location</th>\n",
       "      <th>Domestic</th>\n",
       "    </tr>\n",
       "  </thead>\n",
       "  <tbody>\n",
       "    <tr>\n",
       "      <th>0</th>\n",
       "      <td>10224738</td>\n",
       "      <td>HY411648</td>\n",
       "      <td>09/05/2015 01:30:00 PM</td>\n",
       "      <td>043XX S WOOD ST</td>\n",
       "      <td>0486</td>\n",
       "      <td>BATTERY</td>\n",
       "      <td>DOMESTIC BATTERY SIMPLE</td>\n",
       "      <td>RESIDENCE</td>\n",
       "      <td>False</td>\n",
       "      <td>924</td>\n",
       "      <td>9</td>\n",
       "      <td>12.0</td>\n",
       "      <td>61</td>\n",
       "      <td>08B</td>\n",
       "      <td>1165074.0</td>\n",
       "      <td>1875917.0</td>\n",
       "      <td>2015</td>\n",
       "      <td>02/10/2018 03:50:01 PM</td>\n",
       "      <td>41.815117</td>\n",
       "      <td>-87.6700</td>\n",
       "      <td>(41.815117282, -87.669999562)</td>\n",
       "      <td>True</td>\n",
       "    </tr>\n",
       "    <tr>\n",
       "      <th>1</th>\n",
       "      <td>10224739</td>\n",
       "      <td>HY411615</td>\n",
       "      <td>09/04/2015 11:30:00 AM</td>\n",
       "      <td>008XX N CENTRAL AVE</td>\n",
       "      <td>0870</td>\n",
       "      <td>THEFT</td>\n",
       "      <td>POCKET-PICKING</td>\n",
       "      <td>CTA BUS</td>\n",
       "      <td>False</td>\n",
       "      <td>1511</td>\n",
       "      <td>15</td>\n",
       "      <td>29.0</td>\n",
       "      <td>25</td>\n",
       "      <td>06</td>\n",
       "      <td>1138875.0</td>\n",
       "      <td>1904869.0</td>\n",
       "      <td>2015</td>\n",
       "      <td>02/10/2018 03:50:01 PM</td>\n",
       "      <td>41.895080</td>\n",
       "      <td>-87.7654</td>\n",
       "      <td>(41.895080471, -87.765400451)</td>\n",
       "      <td>False</td>\n",
       "    </tr>\n",
       "  </tbody>\n",
       "</table>\n",
       "</div>"
      ],
      "text/plain": [
       "         ID Case Number                    Date                Block  IUCR  \\\n",
       "0  10224738    HY411648  09/05/2015 01:30:00 PM      043XX S WOOD ST  0486   \n",
       "1  10224739    HY411615  09/04/2015 11:30:00 AM  008XX N CENTRAL AVE  0870   \n",
       "\n",
       "  Primary Type              Description Location Description  Arrest  Beat  \\\n",
       "0      BATTERY  DOMESTIC BATTERY SIMPLE            RESIDENCE   False   924   \n",
       "1        THEFT           POCKET-PICKING              CTA BUS   False  1511   \n",
       "\n",
       "   District  Ward  Community Area FBI Code  X Coordinate  Y Coordinate  Year  \\\n",
       "0         9  12.0              61      08B     1165074.0     1875917.0  2015   \n",
       "1        15  29.0              25       06     1138875.0     1904869.0  2015   \n",
       "\n",
       "               Updated On   Latitude  Longitude  \\\n",
       "0  02/10/2018 03:50:01 PM  41.815117   -87.6700   \n",
       "1  02/10/2018 03:50:01 PM  41.895080   -87.7654   \n",
       "\n",
       "                        Location  Domestic  \n",
       "0  (41.815117282, -87.669999562)      True  \n",
       "1  (41.895080471, -87.765400451)     False  "
      ]
     },
     "execution_count": 11,
     "metadata": {},
     "output_type": "execute_result"
    }
   ],
   "source": [
    "delitos_df = delitos_df.reindex(columns=[\"ID\",\n",
    "            \"Case Number\",\"Date\",\"Block\",\"IUCR\",\n",
    "            \"Primary Type\",\"Description\",\"Location Description\",\n",
    "            \"Arrest\",\"Beat\",\"District\",\"Ward\",\"Community Area\",\n",
    "            \"FBI Code\",\"X Coordinate\",\"Y Coordinate\",\"Year\",\n",
    "            \"Updated On\",\"Latitude\",\"Longitude\",\"Location\",\"Domestic\"])\n",
    "\n",
    "#columnas\n",
    "delitos_df.head(2)"
   ]
  },
  {
   "cell_type": "markdown",
   "id": "13e248fd",
   "metadata": {},
   "source": [
    "## **1.6 Valores Nulos**"
   ]
  },
  {
   "cell_type": "markdown",
   "id": "532253eb",
   "metadata": {},
   "source": [
    "- Se observa la cantidad de valores nulos que hay por cada columna:"
   ]
  },
  {
   "cell_type": "code",
   "execution_count": 12,
   "id": "2a448ba5",
   "metadata": {},
   "outputs": [
    {
     "data": {
      "text/plain": [
       "ID                         0\n",
       "Case Number                0\n",
       "Date                       0\n",
       "Block                      0\n",
       "IUCR                       0\n",
       "Primary Type               0\n",
       "Description                0\n",
       "Location Description     589\n",
       "Arrest                     0\n",
       "Beat                       0\n",
       "District                   0\n",
       "Ward                       2\n",
       "Community Area             0\n",
       "FBI Code                   0\n",
       "X Coordinate            6827\n",
       "Y Coordinate            6827\n",
       "Year                       0\n",
       "Updated On                 0\n",
       "Latitude                6827\n",
       "Longitude               6827\n",
       "Location                6827\n",
       "Domestic                   0\n",
       "dtype: int64"
      ]
     },
     "execution_count": 12,
     "metadata": {},
     "output_type": "execute_result"
    }
   ],
   "source": [
    "# Valores nulos por columna\n",
    "delitos_df.isnull().sum()"
   ]
  },
  {
   "cell_type": "markdown",
   "id": "f1ca5a97",
   "metadata": {},
   "source": [
    "Resultados:  \n",
    "- 589 valores nulos en la columna **\"Location Description\"**\n",
    "- 6827 valores nulos en la columna **\"X Coordinate\"**\n",
    "- 6827 valores nulos en la columna **\"Y Coordinate\"**\n",
    "- 6827 valores nulos en la columna **\"Latitude\"**\n",
    "- 6827 valores nulos en la columna **\"Longitude\"**\n",
    "- 6827 valores nulos en la columna **\"Location\"**\n",
    "    - En el caso de la variable \"Location Description\", aunque tenga campos vacíos, podría convenirle conservarla, ya que si quiere determinar si el delito es doméstico o no, la descripción de la ubicación parece ser un factor importante a considerar al momento de decidir si es de índole doméstica o no."
   ]
  },
  {
   "cell_type": "markdown",
   "id": "f565ae68",
   "metadata": {},
   "source": [
    "## **1.7 Tipos de variables**"
   ]
  },
  {
   "cell_type": "markdown",
   "id": "1b85be1c",
   "metadata": {},
   "source": [
    "- Se cambia las columnas \"Date\" de tipo object a tipo datetime"
   ]
  },
  {
   "cell_type": "code",
   "execution_count": 13,
   "id": "2fe8e27f",
   "metadata": {},
   "outputs": [],
   "source": [
    "from datetime import datetime\n",
    "delitos_df[\"Date\"] = delitos_df[\"Date\"].astype('datetime64[ns]')"
   ]
  },
  {
   "cell_type": "code",
   "execution_count": 14,
   "id": "05d24977",
   "metadata": {},
   "outputs": [],
   "source": [
    "# Se rellena los valores nulos de \"Num_Hospitals\" con la media\n",
    "delitos_df[\"Ward\"] = delitos_df[\"Ward\"].fillna(delitos_df[\"Ward\"].mean())"
   ]
  },
  {
   "cell_type": "code",
   "execution_count": 15,
   "id": "ed152bd4",
   "metadata": {},
   "outputs": [],
   "source": [
    "# Se rellena los valores nulos de \"Location Description\" con la moda\n",
    "delitos_df[\"Location Description\"] = delitos_df[\"Location Description\"].fillna(delitos_df[\"Location Description\"].mode()[0])"
   ]
  },
  {
   "cell_type": "markdown",
   "id": "caa4e13a",
   "metadata": {},
   "source": [
    "-  Se verifica que los cambios se hayan realizado correctamente"
   ]
  },
  {
   "cell_type": "code",
   "execution_count": 16,
   "id": "dce67c31",
   "metadata": {},
   "outputs": [
    {
     "data": {
      "text/plain": [
       "ID                         0\n",
       "Case Number                0\n",
       "Date                       0\n",
       "Block                      0\n",
       "IUCR                       0\n",
       "Primary Type               0\n",
       "Description                0\n",
       "Location Description       0\n",
       "Arrest                     0\n",
       "Beat                       0\n",
       "District                   0\n",
       "Ward                       0\n",
       "Community Area             0\n",
       "FBI Code                   0\n",
       "X Coordinate            6827\n",
       "Y Coordinate            6827\n",
       "Year                       0\n",
       "Updated On                 0\n",
       "Latitude                6827\n",
       "Longitude               6827\n",
       "Location                6827\n",
       "Domestic                   0\n",
       "dtype: int64"
      ]
     },
     "execution_count": 16,
     "metadata": {},
     "output_type": "execute_result"
    }
   ],
   "source": [
    "delitos_df.isnull().sum()"
   ]
  },
  {
   "cell_type": "markdown",
   "id": "63fef71c",
   "metadata": {},
   "source": [
    "Se puede observar que las columnas \"Location Description\" y  \"Ward\" no tiene valores nulos, sin embargo aún existen 5 columnas que tiene valores faltantes."
   ]
  },
  {
   "cell_type": "markdown",
   "id": "c9c7f115",
   "metadata": {},
   "source": [
    "- Cambio de las columnas de tipo object a tipo int64:"
   ]
  },
  {
   "cell_type": "code",
   "execution_count": 17,
   "id": "e64e29fc",
   "metadata": {
    "scrolled": true
   },
   "outputs": [
    {
     "data": {
      "text/plain": [
       "Index(['Case Number', 'Block', 'IUCR', 'Primary Type', 'Description',\n",
       "       'Location Description', 'FBI Code', 'Updated On', 'Location'],\n",
       "      dtype='object')"
      ]
     },
     "execution_count": 17,
     "metadata": {},
     "output_type": "execute_result"
    }
   ],
   "source": [
    "#Se agrupa las varibale de tipo object\n",
    "columns_object = delitos_df.loc[:, delitos_df.dtypes == object].columns\n",
    "columns_object"
   ]
  },
  {
   "cell_type": "code",
   "execution_count": 18,
   "id": "06e49ba7",
   "metadata": {},
   "outputs": [],
   "source": [
    "#Aplicamos un LabelEncoder para convertir los datos en variables int64\n",
    "from sklearn.preprocessing import LabelEncoder\n",
    "delitos_df[columns_object] = delitos_df[columns_object].apply(LabelEncoder().fit_transform)"
   ]
  },
  {
   "cell_type": "code",
   "execution_count": 19,
   "id": "159e93d7",
   "metadata": {},
   "outputs": [],
   "source": [
    "delitos_df[\"IUCR\"] = delitos_df[\"IUCR\"].astype(\"int16\")\n",
    "delitos_df[\"Community Area\"] = delitos_df[\"Community Area\"].astype(\"int8\")\n",
    "delitos_df[\"Beat\"] = delitos_df[\"Beat\"].astype(\"int16\")\n",
    "delitos_df[\"District\"] = delitos_df[\"District\"].astype(\"int32\")"
   ]
  },
  {
   "cell_type": "code",
   "execution_count": 20,
   "id": "0725eaa5",
   "metadata": {},
   "outputs": [],
   "source": [
    "delitos_df['Arrest'].replace([False, True], [0, 1], inplace=True)"
   ]
  },
  {
   "cell_type": "markdown",
   "id": "f011dc2f",
   "metadata": {},
   "source": [
    "Se verifica los cambios realizados en los tipos de variables:"
   ]
  },
  {
   "cell_type": "code",
   "execution_count": 21,
   "id": "56def148",
   "metadata": {},
   "outputs": [
    {
     "data": {
      "text/plain": [
       "ID                               int64\n",
       "Case Number                      int32\n",
       "Date                    datetime64[ns]\n",
       "Block                            int32\n",
       "IUCR                             int16\n",
       "Primary Type                     int32\n",
       "Description                      int32\n",
       "Location Description             int32\n",
       "Arrest                           int64\n",
       "Beat                             int16\n",
       "District                         int32\n",
       "Ward                           float64\n",
       "Community Area                    int8\n",
       "FBI Code                         int32\n",
       "X Coordinate                   float64\n",
       "Y Coordinate                   float64\n",
       "Year                             int64\n",
       "Updated On                       int32\n",
       "Latitude                       float64\n",
       "Longitude                      float64\n",
       "Location                         int32\n",
       "Domestic                          bool\n",
       "dtype: object"
      ]
     },
     "execution_count": 21,
     "metadata": {},
     "output_type": "execute_result"
    }
   ],
   "source": [
    "#Se comprueba el cambio:\n",
    "delitos_df.dtypes"
   ]
  },
  {
   "cell_type": "markdown",
   "id": "261cb672",
   "metadata": {},
   "source": [
    "## **1.8 Columnas irrelevantes**"
   ]
  },
  {
   "cell_type": "markdown",
   "id": "49f0ad6d",
   "metadata": {},
   "source": [
    "- Se considera que las columnas **\"ID\", \"Block\", \"Primary Type\", \"Description\", \"Year\", \"Updated On\"** no aportaran información relevante para el análisis del modelo. \n",
    "- Por otro lado, las columnas **\"X Coordinate\", \"Y Coordinate\", \"Latitude\", \"Longitude\",\"Location\"** se eliminarán por tener valores nulos."
   ]
  },
  {
   "cell_type": "code",
   "execution_count": 22,
   "id": "24e48092",
   "metadata": {},
   "outputs": [],
   "source": [
    "#Se realiza una copia del dataframe \n",
    "df2 = delitos_df.copy()"
   ]
  },
  {
   "cell_type": "markdown",
   "id": "8733a8f4",
   "metadata": {},
   "source": [
    "- Se eliminan las columnas que se consideran irrelevantes"
   ]
  },
  {
   "cell_type": "code",
   "execution_count": 23,
   "id": "ab996fb0",
   "metadata": {
    "scrolled": false
   },
   "outputs": [
    {
     "data": {
      "text/html": [
       "<div>\n",
       "<style scoped>\n",
       "    .dataframe tbody tr th:only-of-type {\n",
       "        vertical-align: middle;\n",
       "    }\n",
       "\n",
       "    .dataframe tbody tr th {\n",
       "        vertical-align: top;\n",
       "    }\n",
       "\n",
       "    .dataframe thead th {\n",
       "        text-align: right;\n",
       "    }\n",
       "</style>\n",
       "<table border=\"1\" class=\"dataframe\">\n",
       "  <thead>\n",
       "    <tr style=\"text-align: right;\">\n",
       "      <th></th>\n",
       "      <th>Case Number</th>\n",
       "      <th>Date</th>\n",
       "      <th>IUCR</th>\n",
       "      <th>Location Description</th>\n",
       "      <th>Arrest</th>\n",
       "      <th>Beat</th>\n",
       "      <th>District</th>\n",
       "      <th>Ward</th>\n",
       "      <th>Community Area</th>\n",
       "      <th>FBI Code</th>\n",
       "      <th>Domestic</th>\n",
       "    </tr>\n",
       "  </thead>\n",
       "  <tbody>\n",
       "    <tr>\n",
       "      <th>0</th>\n",
       "      <td>176117</td>\n",
       "      <td>2015-09-05 13:30:00</td>\n",
       "      <td>48</td>\n",
       "      <td>101</td>\n",
       "      <td>0</td>\n",
       "      <td>924</td>\n",
       "      <td>9</td>\n",
       "      <td>12.0</td>\n",
       "      <td>61</td>\n",
       "      <td>10</td>\n",
       "      <td>True</td>\n",
       "    </tr>\n",
       "    <tr>\n",
       "      <th>1</th>\n",
       "      <td>176108</td>\n",
       "      <td>2015-09-04 11:30:00</td>\n",
       "      <td>85</td>\n",
       "      <td>46</td>\n",
       "      <td>0</td>\n",
       "      <td>1511</td>\n",
       "      <td>15</td>\n",
       "      <td>29.0</td>\n",
       "      <td>25</td>\n",
       "      <td>7</td>\n",
       "      <td>False</td>\n",
       "    </tr>\n",
       "  </tbody>\n",
       "</table>\n",
       "</div>"
      ],
      "text/plain": [
       "   Case Number                Date  IUCR  Location Description  Arrest  Beat  \\\n",
       "0       176117 2015-09-05 13:30:00    48                   101       0   924   \n",
       "1       176108 2015-09-04 11:30:00    85                    46       0  1511   \n",
       "\n",
       "   District  Ward  Community Area  FBI Code  Domestic  \n",
       "0         9  12.0              61        10      True  \n",
       "1        15  29.0              25         7     False  "
      ]
     },
     "execution_count": 23,
     "metadata": {},
     "output_type": "execute_result"
    }
   ],
   "source": [
    "df2.drop(columns=[\"ID\", \"Block\",\"Primary Type\", \n",
    "                  \"Description\", \"Year\",\"Updated On\",\n",
    "                  \"X Coordinate\", \"Y Coordinate\", \n",
    "                  \"Latitude\", \"Longitude\",\"Location\"], \n",
    "                   inplace=True, axis=1)\n",
    "\n",
    "# DataFrame resultante\n",
    "df2.head(2)"
   ]
  },
  {
   "cell_type": "code",
   "execution_count": 24,
   "id": "fef66d65",
   "metadata": {},
   "outputs": [
    {
     "name": "stdout",
     "output_type": "stream",
     "text": [
      "<class 'pandas.core.frame.DataFrame'>\n",
      "RangeIndex: 264758 entries, 0 to 264757\n",
      "Data columns (total 11 columns):\n",
      " #   Column                Non-Null Count   Dtype         \n",
      "---  ------                --------------   -----         \n",
      " 0   Case Number           264758 non-null  int32         \n",
      " 1   Date                  264758 non-null  datetime64[ns]\n",
      " 2   IUCR                  264758 non-null  int16         \n",
      " 3   Location Description  264758 non-null  int32         \n",
      " 4   Arrest                264758 non-null  int64         \n",
      " 5   Beat                  264758 non-null  int16         \n",
      " 6   District              264758 non-null  int32         \n",
      " 7   Ward                  264758 non-null  float64       \n",
      " 8   Community Area        264758 non-null  int8          \n",
      " 9   FBI Code              264758 non-null  int32         \n",
      " 10  Domestic              264758 non-null  bool          \n",
      "dtypes: bool(1), datetime64[ns](1), float64(1), int16(2), int32(4), int64(1), int8(1)\n",
      "memory usage: 11.6 MB\n"
     ]
    }
   ],
   "source": [
    "df2.info()"
   ]
  },
  {
   "cell_type": "markdown",
   "id": "f161df5c",
   "metadata": {},
   "source": [
    "> Se decidió crear nuevos grupos basados en la fecha para obtener información adicional, como el día, tarde, noche y mes. Esto permitirá investigar si los delitos pueden tener una mayor propensión a ocurrir en el ámbito doméstico. Además se cree que la noche es un horario en el que estos delitos podrían ser más frecuentes, al igual que se cree que las condiciones climáticas durante los diferentes meses podrían aumentar el riesgo. Por ejemplo, no es lo mismo estar en casa todo el día durante el invierno, cuando se sale menos, que en otras estaciones."
   ]
  },
  {
   "cell_type": "code",
   "execution_count": 25,
   "id": "48ebeda8",
   "metadata": {},
   "outputs": [
    {
     "data": {
      "text/html": [
       "<div>\n",
       "<style scoped>\n",
       "    .dataframe tbody tr th:only-of-type {\n",
       "        vertical-align: middle;\n",
       "    }\n",
       "\n",
       "    .dataframe tbody tr th {\n",
       "        vertical-align: top;\n",
       "    }\n",
       "\n",
       "    .dataframe thead th {\n",
       "        text-align: right;\n",
       "    }\n",
       "</style>\n",
       "<table border=\"1\" class=\"dataframe\">\n",
       "  <thead>\n",
       "    <tr style=\"text-align: right;\">\n",
       "      <th></th>\n",
       "      <th>Case Number</th>\n",
       "      <th>Date</th>\n",
       "      <th>IUCR</th>\n",
       "      <th>Location Description</th>\n",
       "      <th>Arrest</th>\n",
       "      <th>Beat</th>\n",
       "      <th>District</th>\n",
       "      <th>Ward</th>\n",
       "      <th>Community Area</th>\n",
       "      <th>FBI Code</th>\n",
       "      <th>Domestic</th>\n",
       "      <th>Horario</th>\n",
       "      <th>Mes</th>\n",
       "    </tr>\n",
       "  </thead>\n",
       "  <tbody>\n",
       "    <tr>\n",
       "      <th>0</th>\n",
       "      <td>176117</td>\n",
       "      <td>2015-09-05 13:30:00</td>\n",
       "      <td>48</td>\n",
       "      <td>101</td>\n",
       "      <td>0</td>\n",
       "      <td>924</td>\n",
       "      <td>9</td>\n",
       "      <td>12.0</td>\n",
       "      <td>61</td>\n",
       "      <td>10</td>\n",
       "      <td>True</td>\n",
       "      <td>Tarde</td>\n",
       "      <td>9</td>\n",
       "    </tr>\n",
       "    <tr>\n",
       "      <th>1</th>\n",
       "      <td>176108</td>\n",
       "      <td>2015-09-04 11:30:00</td>\n",
       "      <td>85</td>\n",
       "      <td>46</td>\n",
       "      <td>0</td>\n",
       "      <td>1511</td>\n",
       "      <td>15</td>\n",
       "      <td>29.0</td>\n",
       "      <td>25</td>\n",
       "      <td>7</td>\n",
       "      <td>False</td>\n",
       "      <td>Mañana</td>\n",
       "      <td>9</td>\n",
       "    </tr>\n",
       "    <tr>\n",
       "      <th>2</th>\n",
       "      <td>176097</td>\n",
       "      <td>2015-09-05 12:45:00</td>\n",
       "      <td>231</td>\n",
       "      <td>118</td>\n",
       "      <td>1</td>\n",
       "      <td>1412</td>\n",
       "      <td>14</td>\n",
       "      <td>35.0</td>\n",
       "      <td>21</td>\n",
       "      <td>20</td>\n",
       "      <td>False</td>\n",
       "      <td>Tarde</td>\n",
       "      <td>9</td>\n",
       "    </tr>\n",
       "    <tr>\n",
       "      <th>3</th>\n",
       "      <td>176106</td>\n",
       "      <td>2015-09-05 13:00:00</td>\n",
       "      <td>70</td>\n",
       "      <td>17</td>\n",
       "      <td>0</td>\n",
       "      <td>1522</td>\n",
       "      <td>15</td>\n",
       "      <td>28.0</td>\n",
       "      <td>25</td>\n",
       "      <td>9</td>\n",
       "      <td>True</td>\n",
       "      <td>Tarde</td>\n",
       "      <td>9</td>\n",
       "    </tr>\n",
       "    <tr>\n",
       "      <th>4</th>\n",
       "      <td>176000</td>\n",
       "      <td>2015-09-05 10:55:00</td>\n",
       "      <td>76</td>\n",
       "      <td>101</td>\n",
       "      <td>0</td>\n",
       "      <td>614</td>\n",
       "      <td>6</td>\n",
       "      <td>21.0</td>\n",
       "      <td>71</td>\n",
       "      <td>6</td>\n",
       "      <td>False</td>\n",
       "      <td>Mañana</td>\n",
       "      <td>9</td>\n",
       "    </tr>\n",
       "  </tbody>\n",
       "</table>\n",
       "</div>"
      ],
      "text/plain": [
       "   Case Number                Date  IUCR  Location Description  Arrest  Beat  \\\n",
       "0       176117 2015-09-05 13:30:00    48                   101       0   924   \n",
       "1       176108 2015-09-04 11:30:00    85                    46       0  1511   \n",
       "2       176097 2015-09-05 12:45:00   231                   118       1  1412   \n",
       "3       176106 2015-09-05 13:00:00    70                    17       0  1522   \n",
       "4       176000 2015-09-05 10:55:00    76                   101       0   614   \n",
       "\n",
       "   District  Ward  Community Area  FBI Code  Domestic Horario  Mes  \n",
       "0         9  12.0              61        10      True   Tarde    9  \n",
       "1        15  29.0              25         7     False  Mañana    9  \n",
       "2        14  35.0              21        20     False   Tarde    9  \n",
       "3        15  28.0              25         9      True   Tarde    9  \n",
       "4         6  21.0              71         6     False  Mañana    9  "
      ]
     },
     "execution_count": 25,
     "metadata": {},
     "output_type": "execute_result"
    }
   ],
   "source": [
    "from datetime import datetime\n",
    "\n",
    "# Se define los rangos horarios\n",
    "dia_inicio = datetime.strptime(\"06:00:00\", \"%H:%M:%S\").time()\n",
    "dia_fin = datetime.strptime(\"12:00:00\", \"%H:%M:%S\").time()\n",
    "tarde_inicio = datetime.strptime(\"12:01:00\", \"%H:%M:%S\").time()\n",
    "tarde_fin = datetime.strptime(\"18:00:00\", \"%H:%M:%S\").time()\n",
    "noche_inicio = datetime.strptime(\"18:01:00\", \"%H:%M:%S\").time()\n",
    "noche_fin = datetime.strptime(\"23:59:59\", \"%H:%M:%S\").time()\n",
    "\n",
    "# Función para agrupar las fechas en horarios\n",
    "def grupo_horario(Date):\n",
    "    hora = Date.time()\n",
    "    if dia_inicio <= hora <= dia_fin:\n",
    "        return \"Mañana\"\n",
    "    elif tarde_inicio <= hora <= tarde_fin:\n",
    "        return \"Tarde\"\n",
    "    else:\n",
    "        return \"Noche\"\n",
    "\n",
    "# Se crea la columna con los horarios en el DataFrame\n",
    "df2['Horario'] = df2['Date'].apply(grupo_horario)\n",
    "# Creación de la columna con los meses en el DataFrame\n",
    "df2['Mes'] = df2['Date'].dt.month\n",
    "\n",
    "# DataFrame resultante\n",
    "df2.head()"
   ]
  },
  {
   "cell_type": "markdown",
   "id": "7cdeb6ed",
   "metadata": {},
   "source": [
    "Se observa que el horario tiene 3 categorías y que los meses están definido por números"
   ]
  },
  {
   "cell_type": "code",
   "execution_count": 26,
   "id": "9ba0a624",
   "metadata": {},
   "outputs": [
    {
     "data": {
      "text/html": [
       "<div>\n",
       "<style scoped>\n",
       "    .dataframe tbody tr th:only-of-type {\n",
       "        vertical-align: middle;\n",
       "    }\n",
       "\n",
       "    .dataframe tbody tr th {\n",
       "        vertical-align: top;\n",
       "    }\n",
       "\n",
       "    .dataframe thead th {\n",
       "        text-align: right;\n",
       "    }\n",
       "</style>\n",
       "<table border=\"1\" class=\"dataframe\">\n",
       "  <thead>\n",
       "    <tr style=\"text-align: right;\">\n",
       "      <th></th>\n",
       "      <th>Case Number</th>\n",
       "      <th>Date</th>\n",
       "      <th>IUCR</th>\n",
       "      <th>Location Description</th>\n",
       "      <th>Arrest</th>\n",
       "      <th>Beat</th>\n",
       "      <th>District</th>\n",
       "      <th>Ward</th>\n",
       "      <th>Community Area</th>\n",
       "      <th>FBI Code</th>\n",
       "      <th>Domestic</th>\n",
       "      <th>Horario</th>\n",
       "      <th>Mes</th>\n",
       "    </tr>\n",
       "  </thead>\n",
       "  <tbody>\n",
       "    <tr>\n",
       "      <th>0</th>\n",
       "      <td>176117</td>\n",
       "      <td>2015-09-05 13:30:00</td>\n",
       "      <td>48</td>\n",
       "      <td>101</td>\n",
       "      <td>0</td>\n",
       "      <td>924</td>\n",
       "      <td>9</td>\n",
       "      <td>12.0</td>\n",
       "      <td>61</td>\n",
       "      <td>10</td>\n",
       "      <td>True</td>\n",
       "      <td>2</td>\n",
       "      <td>9</td>\n",
       "    </tr>\n",
       "    <tr>\n",
       "      <th>1</th>\n",
       "      <td>176108</td>\n",
       "      <td>2015-09-04 11:30:00</td>\n",
       "      <td>85</td>\n",
       "      <td>46</td>\n",
       "      <td>0</td>\n",
       "      <td>1511</td>\n",
       "      <td>15</td>\n",
       "      <td>29.0</td>\n",
       "      <td>25</td>\n",
       "      <td>7</td>\n",
       "      <td>False</td>\n",
       "      <td>1</td>\n",
       "      <td>9</td>\n",
       "    </tr>\n",
       "    <tr>\n",
       "      <th>2</th>\n",
       "      <td>176097</td>\n",
       "      <td>2015-09-05 12:45:00</td>\n",
       "      <td>231</td>\n",
       "      <td>118</td>\n",
       "      <td>1</td>\n",
       "      <td>1412</td>\n",
       "      <td>14</td>\n",
       "      <td>35.0</td>\n",
       "      <td>21</td>\n",
       "      <td>20</td>\n",
       "      <td>False</td>\n",
       "      <td>2</td>\n",
       "      <td>9</td>\n",
       "    </tr>\n",
       "    <tr>\n",
       "      <th>3</th>\n",
       "      <td>176106</td>\n",
       "      <td>2015-09-05 13:00:00</td>\n",
       "      <td>70</td>\n",
       "      <td>17</td>\n",
       "      <td>0</td>\n",
       "      <td>1522</td>\n",
       "      <td>15</td>\n",
       "      <td>28.0</td>\n",
       "      <td>25</td>\n",
       "      <td>9</td>\n",
       "      <td>True</td>\n",
       "      <td>2</td>\n",
       "      <td>9</td>\n",
       "    </tr>\n",
       "    <tr>\n",
       "      <th>4</th>\n",
       "      <td>176000</td>\n",
       "      <td>2015-09-05 10:55:00</td>\n",
       "      <td>76</td>\n",
       "      <td>101</td>\n",
       "      <td>0</td>\n",
       "      <td>614</td>\n",
       "      <td>6</td>\n",
       "      <td>21.0</td>\n",
       "      <td>71</td>\n",
       "      <td>6</td>\n",
       "      <td>False</td>\n",
       "      <td>1</td>\n",
       "      <td>9</td>\n",
       "    </tr>\n",
       "  </tbody>\n",
       "</table>\n",
       "</div>"
      ],
      "text/plain": [
       "   Case Number                Date  IUCR  Location Description  Arrest  Beat  \\\n",
       "0       176117 2015-09-05 13:30:00    48                   101       0   924   \n",
       "1       176108 2015-09-04 11:30:00    85                    46       0  1511   \n",
       "2       176097 2015-09-05 12:45:00   231                   118       1  1412   \n",
       "3       176106 2015-09-05 13:00:00    70                    17       0  1522   \n",
       "4       176000 2015-09-05 10:55:00    76                   101       0   614   \n",
       "\n",
       "   District  Ward  Community Area  FBI Code  Domestic  Horario  Mes  \n",
       "0         9  12.0              61        10      True        2    9  \n",
       "1        15  29.0              25         7     False        1    9  \n",
       "2        14  35.0              21        20     False        2    9  \n",
       "3        15  28.0              25         9      True        2    9  \n",
       "4         6  21.0              71         6     False        1    9  "
      ]
     },
     "execution_count": 26,
     "metadata": {},
     "output_type": "execute_result"
    }
   ],
   "source": [
    "df2['Horario'].replace([\"Mañana\", \"Tarde\", \"Noche\"], [1, 2, 3], \n",
    "                       inplace=True)\n",
    "# DataFrame resultante\n",
    "df2.head()"
   ]
  },
  {
   "cell_type": "markdown",
   "id": "f3db29ce",
   "metadata": {},
   "source": [
    "> Después de obtener información adicional a partir de la columna \"Date\", se llegó a la conclusión de que es el momento adecuado para eliminarla del conjunto de datos, ya que ya no le proporcionará otra información relevante."
   ]
  },
  {
   "cell_type": "markdown",
   "id": "3421c9be",
   "metadata": {},
   "source": [
    "- Se elimina la columna \"Date\""
   ]
  },
  {
   "cell_type": "code",
   "execution_count": 27,
   "id": "fadcc2f8",
   "metadata": {
    "scrolled": true
   },
   "outputs": [
    {
     "data": {
      "text/html": [
       "<div>\n",
       "<style scoped>\n",
       "    .dataframe tbody tr th:only-of-type {\n",
       "        vertical-align: middle;\n",
       "    }\n",
       "\n",
       "    .dataframe tbody tr th {\n",
       "        vertical-align: top;\n",
       "    }\n",
       "\n",
       "    .dataframe thead th {\n",
       "        text-align: right;\n",
       "    }\n",
       "</style>\n",
       "<table border=\"1\" class=\"dataframe\">\n",
       "  <thead>\n",
       "    <tr style=\"text-align: right;\">\n",
       "      <th></th>\n",
       "      <th>Case Number</th>\n",
       "      <th>IUCR</th>\n",
       "      <th>Location Description</th>\n",
       "      <th>Arrest</th>\n",
       "      <th>Beat</th>\n",
       "      <th>District</th>\n",
       "      <th>Ward</th>\n",
       "      <th>Community Area</th>\n",
       "      <th>FBI Code</th>\n",
       "      <th>Domestic</th>\n",
       "      <th>Horario</th>\n",
       "      <th>Mes</th>\n",
       "    </tr>\n",
       "  </thead>\n",
       "  <tbody>\n",
       "    <tr>\n",
       "      <th>0</th>\n",
       "      <td>176117</td>\n",
       "      <td>48</td>\n",
       "      <td>101</td>\n",
       "      <td>0</td>\n",
       "      <td>924</td>\n",
       "      <td>9</td>\n",
       "      <td>12.0</td>\n",
       "      <td>61</td>\n",
       "      <td>10</td>\n",
       "      <td>True</td>\n",
       "      <td>2</td>\n",
       "      <td>9</td>\n",
       "    </tr>\n",
       "    <tr>\n",
       "      <th>1</th>\n",
       "      <td>176108</td>\n",
       "      <td>85</td>\n",
       "      <td>46</td>\n",
       "      <td>0</td>\n",
       "      <td>1511</td>\n",
       "      <td>15</td>\n",
       "      <td>29.0</td>\n",
       "      <td>25</td>\n",
       "      <td>7</td>\n",
       "      <td>False</td>\n",
       "      <td>1</td>\n",
       "      <td>9</td>\n",
       "    </tr>\n",
       "    <tr>\n",
       "      <th>2</th>\n",
       "      <td>176097</td>\n",
       "      <td>231</td>\n",
       "      <td>118</td>\n",
       "      <td>1</td>\n",
       "      <td>1412</td>\n",
       "      <td>14</td>\n",
       "      <td>35.0</td>\n",
       "      <td>21</td>\n",
       "      <td>20</td>\n",
       "      <td>False</td>\n",
       "      <td>2</td>\n",
       "      <td>9</td>\n",
       "    </tr>\n",
       "    <tr>\n",
       "      <th>3</th>\n",
       "      <td>176106</td>\n",
       "      <td>70</td>\n",
       "      <td>17</td>\n",
       "      <td>0</td>\n",
       "      <td>1522</td>\n",
       "      <td>15</td>\n",
       "      <td>28.0</td>\n",
       "      <td>25</td>\n",
       "      <td>9</td>\n",
       "      <td>True</td>\n",
       "      <td>2</td>\n",
       "      <td>9</td>\n",
       "    </tr>\n",
       "    <tr>\n",
       "      <th>4</th>\n",
       "      <td>176000</td>\n",
       "      <td>76</td>\n",
       "      <td>101</td>\n",
       "      <td>0</td>\n",
       "      <td>614</td>\n",
       "      <td>6</td>\n",
       "      <td>21.0</td>\n",
       "      <td>71</td>\n",
       "      <td>6</td>\n",
       "      <td>False</td>\n",
       "      <td>1</td>\n",
       "      <td>9</td>\n",
       "    </tr>\n",
       "    <tr>\n",
       "      <th>...</th>\n",
       "      <td>...</td>\n",
       "      <td>...</td>\n",
       "      <td>...</td>\n",
       "      <td>...</td>\n",
       "      <td>...</td>\n",
       "      <td>...</td>\n",
       "      <td>...</td>\n",
       "      <td>...</td>\n",
       "      <td>...</td>\n",
       "      <td>...</td>\n",
       "      <td>...</td>\n",
       "      <td>...</td>\n",
       "    </tr>\n",
       "    <tr>\n",
       "      <th>264753</th>\n",
       "      <td>264682</td>\n",
       "      <td>114</td>\n",
       "      <td>89</td>\n",
       "      <td>0</td>\n",
       "      <td>832</td>\n",
       "      <td>8</td>\n",
       "      <td>17.0</td>\n",
       "      <td>66</td>\n",
       "      <td>13</td>\n",
       "      <td>False</td>\n",
       "      <td>3</td>\n",
       "      <td>2</td>\n",
       "    </tr>\n",
       "    <tr>\n",
       "      <th>264754</th>\n",
       "      <td>264678</td>\n",
       "      <td>203</td>\n",
       "      <td>101</td>\n",
       "      <td>0</td>\n",
       "      <td>1623</td>\n",
       "      <td>16</td>\n",
       "      <td>38.0</td>\n",
       "      <td>15</td>\n",
       "      <td>19</td>\n",
       "      <td>False</td>\n",
       "      <td>3</td>\n",
       "      <td>10</td>\n",
       "    </tr>\n",
       "    <tr>\n",
       "      <th>264755</th>\n",
       "      <td>255299</td>\n",
       "      <td>18</td>\n",
       "      <td>66</td>\n",
       "      <td>1</td>\n",
       "      <td>925</td>\n",
       "      <td>9</td>\n",
       "      <td>3.0</td>\n",
       "      <td>37</td>\n",
       "      <td>3</td>\n",
       "      <td>False</td>\n",
       "      <td>2</td>\n",
       "      <td>12</td>\n",
       "    </tr>\n",
       "    <tr>\n",
       "      <th>264756</th>\n",
       "      <td>264670</td>\n",
       "      <td>206</td>\n",
       "      <td>101</td>\n",
       "      <td>1</td>\n",
       "      <td>511</td>\n",
       "      <td>5</td>\n",
       "      <td>9.0</td>\n",
       "      <td>49</td>\n",
       "      <td>2</td>\n",
       "      <td>True</td>\n",
       "      <td>3</td>\n",
       "      <td>1</td>\n",
       "    </tr>\n",
       "    <tr>\n",
       "      <th>264757</th>\n",
       "      <td>264672</td>\n",
       "      <td>118</td>\n",
       "      <td>101</td>\n",
       "      <td>0</td>\n",
       "      <td>623</td>\n",
       "      <td>6</td>\n",
       "      <td>6.0</td>\n",
       "      <td>69</td>\n",
       "      <td>13</td>\n",
       "      <td>False</td>\n",
       "      <td>3</td>\n",
       "      <td>1</td>\n",
       "    </tr>\n",
       "  </tbody>\n",
       "</table>\n",
       "<p>264758 rows × 12 columns</p>\n",
       "</div>"
      ],
      "text/plain": [
       "        Case Number  IUCR  Location Description  Arrest  Beat  District  Ward  \\\n",
       "0            176117    48                   101       0   924         9  12.0   \n",
       "1            176108    85                    46       0  1511        15  29.0   \n",
       "2            176097   231                   118       1  1412        14  35.0   \n",
       "3            176106    70                    17       0  1522        15  28.0   \n",
       "4            176000    76                   101       0   614         6  21.0   \n",
       "...             ...   ...                   ...     ...   ...       ...   ...   \n",
       "264753       264682   114                    89       0   832         8  17.0   \n",
       "264754       264678   203                   101       0  1623        16  38.0   \n",
       "264755       255299    18                    66       1   925         9   3.0   \n",
       "264756       264670   206                   101       1   511         5   9.0   \n",
       "264757       264672   118                   101       0   623         6   6.0   \n",
       "\n",
       "        Community Area  FBI Code  Domestic  Horario  Mes  \n",
       "0                   61        10      True        2    9  \n",
       "1                   25         7     False        1    9  \n",
       "2                   21        20     False        2    9  \n",
       "3                   25         9      True        2    9  \n",
       "4                   71         6     False        1    9  \n",
       "...                ...       ...       ...      ...  ...  \n",
       "264753              66        13     False        3    2  \n",
       "264754              15        19     False        3   10  \n",
       "264755              37         3     False        2   12  \n",
       "264756              49         2      True        3    1  \n",
       "264757              69        13     False        3    1  \n",
       "\n",
       "[264758 rows x 12 columns]"
      ]
     },
     "execution_count": 27,
     "metadata": {},
     "output_type": "execute_result"
    }
   ],
   "source": [
    "#Eliminar la columna \"Date\"\n",
    "df2 = df2.drop(columns = \"Date\")\n",
    "df2"
   ]
  },
  {
   "cell_type": "markdown",
   "id": "951bebfe",
   "metadata": {},
   "source": [
    "## 1.9 FILAS DUPLICADAS"
   ]
  },
  {
   "cell_type": "markdown",
   "id": "9b96f2f4",
   "metadata": {},
   "source": [
    "Para evitar que se generen filas duplicadas conforme se transforman los datos, se decide realizar esta tarea justo antes de entrenar el modelo."
   ]
  },
  {
   "cell_type": "markdown",
   "id": "8191b7b5",
   "metadata": {},
   "source": [
    "-Se utiliza la función .duplicated().sum() para obtener la cantidad de duplicados en el conjunto de datos. "
   ]
  },
  {
   "cell_type": "code",
   "execution_count": 28,
   "id": "c0120da8",
   "metadata": {},
   "outputs": [
    {
     "data": {
      "text/plain": [
       "21"
      ]
     },
     "execution_count": 28,
     "metadata": {},
     "output_type": "execute_result"
    }
   ],
   "source": [
    "df2.duplicated().sum()"
   ]
  },
  {
   "cell_type": "markdown",
   "id": "96e1dbd5",
   "metadata": {},
   "source": [
    "Se observa que el conjunto de datos tiene 21 registros duplicados."
   ]
  },
  {
   "cell_type": "markdown",
   "id": "d1fb52d9",
   "metadata": {},
   "source": [
    "- Se analiza los registros de las filas duplicadas"
   ]
  },
  {
   "cell_type": "code",
   "execution_count": 29,
   "id": "b05d0fae",
   "metadata": {
    "scrolled": true
   },
   "outputs": [
    {
     "name": "stdout",
     "output_type": "stream",
     "text": [
      "(2876, 0, 122, 0, 414, 4, 7.0, 43, 0, False, 2, 1)\n",
      "        Case Number  IUCR  Location Description  Arrest  Beat  District  Ward  \\\n",
      "246764         2876     0                   122       0   414         4   7.0   \n",
      "247013         2876     0                   122       0   414         4   7.0   \n",
      "\n",
      "        Community Area  FBI Code  Domestic  Horario  Mes  \n",
      "246764              43         0     False        2    1  \n",
      "247013              43         0     False        2    1  \n",
      "(38735, 0, 21, 1, 1235, 12, 25.0, 31, 0, False, 3, 3)\n",
      "        Case Number  IUCR  Location Description  Arrest  Beat  District  Ward  \\\n",
      "246719        38735     0                    21       1  1235        12  25.0   \n",
      "246834        38735     0                    21       1  1235        12  25.0   \n",
      "\n",
      "        Community Area  FBI Code  Domestic  Horario  Mes  \n",
      "246719              31         0     False        3    3  \n",
      "246834              31         0     False        3    3  \n",
      "(39422, 0, 77, 0, 1124, 11, 28.0, 27, 0, False, 3, 3)\n",
      "        Case Number  IUCR  Location Description  Arrest  Beat  District  Ward  \\\n",
      "246830        39422     0                    77       0  1124        11  28.0   \n",
      "246991        39422     0                    77       0  1124        11  28.0   \n",
      "\n",
      "        Community Area  FBI Code  Domestic  Horario  Mes  \n",
      "246830              27         0     False        3    3  \n",
      "246991              27         0     False        3    3  \n",
      "(44873, 0, 122, 0, 2531, 25, 29.0, 25, 0, False, 3, 3)\n",
      "        Case Number  IUCR  Location Description  Arrest  Beat  District  Ward  \\\n",
      "246650        44873     0                   122       0  2531        25  29.0   \n",
      "246709        44873     0                   122       0  2531        25  29.0   \n",
      "\n",
      "        Community Area  FBI Code  Domestic  Horario  Mes  \n",
      "246650              25         0     False        3    3  \n",
      "246709              25         0     False        3    3  \n",
      "(45217, 0, 122, 1, 1432, 14, 32.0, 22, 0, False, 3, 3)\n",
      "        Case Number  IUCR  Location Description  Arrest  Beat  District  Ward  \\\n",
      "246591        45217     0                   122       1  1432        14  32.0   \n",
      "246816        45217     0                   122       1  1432        14  32.0   \n",
      "\n",
      "        Community Area  FBI Code  Domestic  Horario  Mes  \n",
      "246591              22         0     False        3    3  \n",
      "246816              22         0     False        3    3  \n",
      "(69159, 0, 122, 0, 2521, 25, 31.0, 19, 0, False, 1, 4)\n",
      "        Case Number  IUCR  Location Description  Arrest  Beat  District  Ward  \\\n",
      "246817        69159     0                   122       0  2521        25  31.0   \n",
      "247104        69159     0                   122       0  2521        25  31.0   \n",
      "\n",
      "        Community Area  FBI Code  Domestic  Horario  Mes  \n",
      "246817              19         0     False        1    4  \n",
      "247104              19         0     False        1    4  \n",
      "(78100, 0, 122, 0, 1132, 11, 24.0, 29, 0, False, 2, 5)\n",
      "        Case Number  IUCR  Location Description  Arrest  Beat  District  Ward  \\\n",
      "247067        78100     0                   122       0  1132        11  24.0   \n",
      "247109        78100     0                   122       0  1132        11  24.0   \n",
      "\n",
      "        Community Area  FBI Code  Domestic  Horario  Mes  \n",
      "247067              29         0     False        2    5  \n",
      "247109              29         0     False        2    5  \n",
      "(87217, 0, 21, 1, 513, 5, 34.0, 49, 0, False, 3, 5)\n",
      "        Case Number  IUCR  Location Description  Arrest  Beat  District  Ward  \\\n",
      "246646        87217     0                    21       1   513         5  34.0   \n",
      "246749        87217     0                    21       1   513         5  34.0   \n",
      "\n",
      "        Community Area  FBI Code  Domestic  Horario  Mes  \n",
      "246646              49         0     False        3    5  \n",
      "246749              49         0     False        3    5  \n",
      "(98421, 0, 77, 1, 822, 8, 23.0, 62, 0, False, 2, 5)\n",
      "        Case Number  IUCR  Location Description  Arrest  Beat  District  Ward  \\\n",
      "246679        98421     0                    77       1   822         8  23.0   \n",
      "246768        98421     0                    77       1   822         8  23.0   \n",
      "\n",
      "        Community Area  FBI Code  Domestic  Horario  Mes  \n",
      "246679              62         0     False        2    5  \n",
      "246768              62         0     False        2    5  \n",
      "(105630, 0, 122, 1, 2533, 25, 37.0, 25, 0, False, 3, 6)\n",
      "        Case Number  IUCR  Location Description  Arrest  Beat  District  Ward  \\\n",
      "246743       105630     0                   122       1  2533        25  37.0   \n",
      "246824       105630     0                   122       1  2533        25  37.0   \n",
      "\n",
      "        Community Area  FBI Code  Domestic  Horario  Mes  \n",
      "246743              25         0     False        3    6  \n",
      "246824              25         0     False        3    6  \n",
      "(127083, 0, 21, 1, 2222, 22, 21.0, 71, 0, False, 1, 7)\n",
      "        Case Number  IUCR  Location Description  Arrest  Beat  District  Ward  \\\n",
      "246625       127083     0                    21       1  2222        22  21.0   \n",
      "246767       127083     0                    21       1  2222        22  21.0   \n",
      "\n",
      "        Community Area  FBI Code  Domestic  Horario  Mes  \n",
      "246625              71         0     False        1    7  \n",
      "246767              71         0     False        1    7  \n",
      "(136443, 0, 77, 1, 1722, 17, 45.0, 16, 0, True, 2, 7)\n",
      "        Case Number  IUCR  Location Description  Arrest  Beat  District  Ward  \\\n",
      "246563       136443     0                    77       1  1722        17  45.0   \n",
      "247044       136443     0                    77       1  1722        17  45.0   \n",
      "\n",
      "        Community Area  FBI Code  Domestic  Horario  Mes  \n",
      "246563              16         0      True        2    7  \n",
      "247044              16         0      True        2    7  \n",
      "(137296, 0, 77, 0, 632, 6, 8.0, 44, 0, False, 2, 7)\n",
      "        Case Number  IUCR  Location Description  Arrest  Beat  District  Ward  \\\n",
      "246630       137296     0                    77       0   632         6   8.0   \n",
      "247000       137296     0                    77       0   632         6   8.0   \n",
      "247105       137296     0                    77       0   632         6   8.0   \n",
      "\n",
      "        Community Area  FBI Code  Domestic  Horario  Mes  \n",
      "246630              44         0     False        2    7  \n",
      "247000              44         0     False        2    7  \n",
      "247105              44         0     False        2    7  \n",
      "(143017, 0, 21, 1, 1122, 11, 27.0, 23, 0, False, 3, 7)\n",
      "        Case Number  IUCR  Location Description  Arrest  Beat  District  Ward  \\\n",
      "246576       143017     0                    21       1  1122        11  27.0   \n",
      "247005       143017     0                    21       1  1122        11  27.0   \n",
      "\n",
      "        Community Area  FBI Code  Domestic  Horario  Mes  \n",
      "246576              23         0     False        3    7  \n",
      "247005              23         0     False        3    7  \n",
      "(152337, 0, 122, 0, 2233, 22, 34.0, 49, 0, False, 3, 8)\n",
      "        Case Number  IUCR  Location Description  Arrest  Beat  District  Ward  \\\n",
      "246724       152337     0                   122       0  2233        22  34.0   \n",
      "246801       152337     0                   122       0  2233        22  34.0   \n",
      "\n",
      "        Community Area  FBI Code  Domestic  Horario  Mes  \n",
      "246724              49         0     False        3    8  \n",
      "246801              49         0     False        3    8  \n",
      "(170395, 0, 77, 0, 814, 8, 23.0, 56, 0, False, 1, 8)\n",
      "        Case Number  IUCR  Location Description  Arrest  Beat  District  Ward  \\\n",
      "246707       170395     0                    77       0   814         8  23.0   \n",
      "246781       170395     0                    77       0   814         8  23.0   \n",
      "\n",
      "        Community Area  FBI Code  Domestic  Horario  Mes  \n",
      "246707              56         0     False        1    8  \n",
      "246781              56         0     False        1    8  \n",
      "(173215, 0, 122, 1, 2024, 20, 48.0, 3, 0, False, 3, 9)\n",
      "        Case Number  IUCR  Location Description  Arrest  Beat  District  Ward  \\\n",
      "246720       173215     0                   122       1  2024        20  48.0   \n",
      "246811       173215     0                   122       1  2024        20  48.0   \n",
      "\n",
      "        Community Area  FBI Code  Domestic  Horario  Mes  \n",
      "246720               3         0     False        3    9  \n",
      "246811               3         0     False        3    9  \n",
      "(193841, 0, 122, 0, 934, 9, 16.0, 61, 0, False, 3, 9)\n",
      "        Case Number  IUCR  Location Description  Arrest  Beat  District  Ward  \\\n",
      "246990       193841     0                   122       0   934         9  16.0   \n",
      "247012       193841     0                   122       0   934         9  16.0   \n",
      "\n",
      "        Community Area  FBI Code  Domestic  Horario  Mes  \n",
      "246990              61         0     False        3    9  \n",
      "247012              61         0     False        3    9  \n",
      "(194013, 0, 92, 1, 925, 9, 3.0, 37, 0, False, 3, 9)\n",
      "        Case Number  IUCR  Location Description  Arrest  Beat  District  Ward  \\\n",
      "247008       194013     0                    92       1   925         9   3.0   \n",
      "247048       194013     0                    92       1   925         9   3.0   \n",
      "247066       194013     0                    92       1   925         9   3.0   \n",
      "\n",
      "        Community Area  FBI Code  Domestic  Horario  Mes  \n",
      "247008              37         0     False        3    9  \n",
      "247048              37         0     False        3    9  \n",
      "247066              37         0     False        3    9  \n"
     ]
    }
   ],
   "source": [
    "df2_dup = df2[df2.duplicated(keep=False)].groupby(list(df2.columns))\n",
    "# Itera sobre cada grupo y muestra las filas juntas\n",
    "for i, grupo in df2_dup:\n",
    "    print(i)\n",
    "    print(grupo)"
   ]
  },
  {
   "cell_type": "markdown",
   "id": "a2c3a088",
   "metadata": {},
   "source": [
    "Se puede observar que los registros duplicados tienen los mismos valores en cada columna, por lo que es conveniente eliminarlos."
   ]
  },
  {
   "cell_type": "markdown",
   "id": "3965ae8d",
   "metadata": {},
   "source": [
    "- Se procede a eliminar las filas duplicadas"
   ]
  },
  {
   "cell_type": "code",
   "execution_count": 30,
   "id": "66aaa13f",
   "metadata": {},
   "outputs": [],
   "source": [
    "df2 = df2.drop_duplicates()"
   ]
  },
  {
   "cell_type": "markdown",
   "id": "40303eec",
   "metadata": {},
   "source": [
    "- Se comprueba que no existan valores duplicados"
   ]
  },
  {
   "cell_type": "code",
   "execution_count": 31,
   "id": "4965ded0",
   "metadata": {},
   "outputs": [
    {
     "data": {
      "text/plain": [
       "0"
      ]
     },
     "execution_count": 31,
     "metadata": {},
     "output_type": "execute_result"
    }
   ],
   "source": [
    "df2.duplicated().sum()"
   ]
  },
  {
   "cell_type": "code",
   "execution_count": 32,
   "id": "5c27b7ea",
   "metadata": {},
   "outputs": [
    {
     "name": "stdout",
     "output_type": "stream",
     "text": [
      "<class 'pandas.core.frame.DataFrame'>\n",
      "Int64Index: 264737 entries, 0 to 264757\n",
      "Data columns (total 12 columns):\n",
      " #   Column                Non-Null Count   Dtype  \n",
      "---  ------                --------------   -----  \n",
      " 0   Case Number           264737 non-null  int32  \n",
      " 1   IUCR                  264737 non-null  int16  \n",
      " 2   Location Description  264737 non-null  int32  \n",
      " 3   Arrest                264737 non-null  int64  \n",
      " 4   Beat                  264737 non-null  int16  \n",
      " 5   District              264737 non-null  int32  \n",
      " 6   Ward                  264737 non-null  float64\n",
      " 7   Community Area        264737 non-null  int8   \n",
      " 8   FBI Code              264737 non-null  int32  \n",
      " 9   Domestic              264737 non-null  bool   \n",
      " 10  Horario               264737 non-null  int64  \n",
      " 11  Mes                   264737 non-null  int64  \n",
      "dtypes: bool(1), float64(1), int16(2), int32(4), int64(3), int8(1)\n",
      "memory usage: 15.7 MB\n"
     ]
    }
   ],
   "source": [
    "df2.info()"
   ]
  },
  {
   "cell_type": "markdown",
   "id": "6b99a2d9",
   "metadata": {},
   "source": [
    "Se puede observar que el dataframe actualizado está conformado por:\n",
    "> - 12 columnas y 264737 filas.\n",
    "> - 1 variable de tipo bool\n",
    "> - 1 variable de tipo float64\n",
    "> - 4 variables de tipo int32\n",
    "> - 6 variables de tipo int64"
   ]
  },
  {
   "cell_type": "markdown",
   "id": "61dd0bbe",
   "metadata": {},
   "source": [
    "- Se cambia los valores de la columna \"Domestic\" a valores 0 y 1"
   ]
  },
  {
   "cell_type": "code",
   "execution_count": 33,
   "id": "5b853f31",
   "metadata": {},
   "outputs": [],
   "source": [
    "df2['Domestic'].replace([False, True], [0, 1], inplace=True)"
   ]
  },
  {
   "cell_type": "markdown",
   "id": "24a32864",
   "metadata": {},
   "source": [
    "- Se elimina la columna \"Case Number\""
   ]
  },
  {
   "cell_type": "code",
   "execution_count": 34,
   "id": "3ebec40f",
   "metadata": {},
   "outputs": [],
   "source": [
    "df2.drop(columns=[\"Case Number\"], inplace=True, axis=1)"
   ]
  },
  {
   "cell_type": "markdown",
   "id": "b5538358",
   "metadata": {},
   "source": [
    "- Se observa el número de ocurrencias únicas de cada valor de la columna \"Location Description\""
   ]
  },
  {
   "cell_type": "code",
   "execution_count": 35,
   "id": "133ff6a5",
   "metadata": {},
   "outputs": [
    {
     "data": {
      "text/plain": [
       "122    61335\n",
       "101    41844\n",
       "17     35053\n",
       "118    27879\n",
       "88     10602\n",
       "       ...  \n",
       "73         1\n",
       "49         1\n",
       "121        1\n",
       "56         1\n",
       "68         1\n",
       "Name: Location Description, Length: 136, dtype: int64"
      ]
     },
     "execution_count": 35,
     "metadata": {},
     "output_type": "execute_result"
    }
   ],
   "source": [
    "df2['Location Description'].value_counts()"
   ]
  },
  {
   "cell_type": "markdown",
   "id": "a7ca4de2",
   "metadata": {},
   "source": [
    "-Se cambia el tipo de variable \"Domestic\" a int8"
   ]
  },
  {
   "cell_type": "code",
   "execution_count": 36,
   "id": "c36503a0",
   "metadata": {},
   "outputs": [],
   "source": [
    "df2['Domestic'] = df2['Domestic'].astype('int8')"
   ]
  },
  {
   "cell_type": "markdown",
   "id": "f696b0cd",
   "metadata": {},
   "source": [
    "**Gráfico de Pearson**\n",
    "-El gráfico de Pearson nos proporciona una representación visual de la relación y la fuerza de la correlación entre dos variables cuantitativas, lo cual es útil para el análisis y la interpretación de datos."
   ]
  },
  {
   "cell_type": "code",
   "execution_count": 37,
   "id": "f6b3eb05",
   "metadata": {},
   "outputs": [
    {
     "data": {
      "image/png": "[encoded data removed]",
      "text/plain": [
       "<Figure size 864x288 with 2 Axes>"
      ]
     },
     "metadata": {
      "needs_background": "light"
     },
     "output_type": "display_data"
    }
   ],
   "source": [
    "# Se crea la gráfica de mapa de calor mostrando la correlación de Pearson entre las variables cuantitativas\n",
    "plt.figure(figsize = (12,4))\n",
    "sns.heatmap(df2.corr(), annot = True, center = 0.6, \n",
    "            linewidths = 0.7, linecolor = \"white\")\n",
    "plt.show()"
   ]
  },
  {
   "cell_type": "markdown",
   "id": "1ca8cd07",
   "metadata": {},
   "source": [
    "- Dado que el dataset contiene variables cuantitativas, se decide cambiar el tipo de estas variables a categóricas para el modelo."
   ]
  },
  {
   "cell_type": "code",
   "execution_count": 38,
   "id": "d6460ce9",
   "metadata": {},
   "outputs": [],
   "source": [
    "df2['IUCR'] = df2['IUCR'].astype('category')\n",
    "df2['Location Description'] = df2['Location Description'].astype('category')\n",
    "df2['Arrest'] = df2['Arrest'].astype('category')\n",
    "df2['Beat'] = df2['Beat'].astype('category')\n",
    "df2['District'] = df2['District'].astype('category')\n",
    "df2['Ward'] = df2['Ward'].astype('category')\n",
    "df2['Community Area'] = df2['Community Area'].astype('category')\n",
    "df2['FBI Code'] = df2['FBI Code'].astype('category')\n",
    "df2['Domestic'] = df2['Domestic'].astype('category')\n",
    "df2['Horario'] = df2['Horario'].astype('category')\n",
    "df2['Mes'] = df2['Mes'].astype('category')\n",
    "df2['Community Area'] = df2['Community Area'].astype('category')"
   ]
  },
  {
   "cell_type": "code",
   "execution_count": 39,
   "id": "d300d457",
   "metadata": {},
   "outputs": [
    {
     "name": "stdout",
     "output_type": "stream",
     "text": [
      "<class 'pandas.core.frame.DataFrame'>\n",
      "Int64Index: 264737 entries, 0 to 264757\n",
      "Data columns (total 11 columns):\n",
      " #   Column                Non-Null Count   Dtype   \n",
      "---  ------                --------------   -----   \n",
      " 0   IUCR                  264737 non-null  category\n",
      " 1   Location Description  264737 non-null  category\n",
      " 2   Arrest                264737 non-null  category\n",
      " 3   Beat                  264737 non-null  category\n",
      " 4   District              264737 non-null  category\n",
      " 5   Ward                  264737 non-null  category\n",
      " 6   Community Area        264737 non-null  category\n",
      " 7   FBI Code              264737 non-null  category\n",
      " 8   Domestic              264737 non-null  category\n",
      " 9   Horario               264737 non-null  category\n",
      " 10  Mes                   264737 non-null  category\n",
      "dtypes: category(11)\n",
      "memory usage: 5.6 MB\n"
     ]
    }
   ],
   "source": [
    "df2.info()"
   ]
  },
  {
   "cell_type": "markdown",
   "id": "07d6af53",
   "metadata": {},
   "source": [
    "## 2. Análisis del modelos"
   ]
  },
  {
   "cell_type": "markdown",
   "id": "b2bf8be0",
   "metadata": {},
   "source": [
    "### Modelo de Regresión Logística"
   ]
  },
  {
   "cell_type": "markdown",
   "id": "91e44238",
   "metadata": {},
   "source": [
    "- La regresión logística es un modelo de clasificación que se utiliza para predecir una variable categórica binaria utilizando un conjunto de variables independientes"
   ]
  },
  {
   "cell_type": "code",
   "execution_count": 40,
   "id": "31d0f24b",
   "metadata": {},
   "outputs": [
    {
     "name": "stdout",
     "output_type": "stream",
     "text": [
      "Puntuación train: 83.37%\n",
      "Precisión test: 83.55%\n",
      "Error: 0.1644632469592808\n"
     ]
    }
   ],
   "source": [
    "#Se importa las librerías necesarias\n",
    "import numpy as np\n",
    "from sklearn.linear_model import LogisticRegression\n",
    "from sklearn.model_selection import train_test_split\n",
    "from sklearn.metrics import mean_squared_error\n",
    "\n",
    "#Se carga los datos\n",
    "X = df2.loc[:, ~df2.columns.isin(['Domestic'])]\n",
    "y = df2.loc[:, 'Domestic']\n",
    "\n",
    "#Se divide los datos en entrenamiento y prueba\n",
    "X_train, X_test, y_train, y_test = train_test_split(X, y, \n",
    "                            test_size=0.2, random_state=42)\n",
    "\n",
    "# Se define el modelo de regresión logística\n",
    "clf = LogisticRegression(penalty='l2', max_iter=3000)\n",
    "\n",
    "#Se entrena el modelo con el conjunto de entrenamiento\n",
    "clf.fit(X_train, y_train)\n",
    "\n",
    "#Se realiza las predicciones con el conjunto de prueba\n",
    "y_pred = clf.predict(X_test)\n",
    "\n",
    "#Puntuación del modelo\n",
    "print(\"Puntuación train: {:.2f}%\"\n",
    "      .format(clf.score(X_train, y_train) * 100))\n",
    "\n",
    "#Puntuación del modelo en los datos de prueba\n",
    "print(\"Precisión test: {:.2f}%\"\n",
    "      .format(clf.score(X_test, y_test) * 100))\n",
    "\n",
    "print(\"Error:\", mean_squared_error(y_test, y_pred))"
   ]
  },
  {
   "cell_type": "markdown",
   "id": "e516e3d0",
   "metadata": {},
   "source": [
    "> Basándonos en los resultados obtenidos del modelo de regresión logística, se puede concluir que el modelo tiene una buena capacidad predictiva para predecir si un delito es doméstico o no doméstico, y que la precisión obtenida en los datos de entrenamiento y prueba es de aproximadamente el 83%. Esta precisión indica que el modelo es capaz de predecir correctamente en alrededor del 83% de los casos si un delito es doméstico o no.<br>\n",
    "El error cuadrático medio obtenido en este modelo ha sido de aproximadamente 0.164, lo que sugiere que el modelo ha cometido un error relativamente bajo al realizar las predicciones en los datos de prueba. Sin embargo, es importante tener en cuenta que el valor del error cuadrático medio depende del rango de valores de la variable objetivo y que, de forma aislada, no es suficiente para evaluar la calidad del modelo."
   ]
  },
  {
   "cell_type": "markdown",
   "id": "72939418",
   "metadata": {},
   "source": [
    "### Modelo de Clasificación: Random Forest"
   ]
  },
  {
   "cell_type": "markdown",
   "id": "d60754ed",
   "metadata": {},
   "source": [
    "- Random Forest es un algoritmo de aprendizaje supervisado que se basa en la construcción de un conjunto de árboles de decisión. Cada árbol se entrena con una muestra aleatoria de los datos de entrenamiento y sigue un camino único. Durante la construcción de cada árbol, las observaciones se asignan a diferentes nodos hasta llegar a un nodo final.\n",
    "- El objetivo de cada árbol es maximizar la ganancia de información en cada nodo. Para obtener una predicción final, el algoritmo realiza una votación entre las respuestas de cada árbol y elige la clase más frecuente."
   ]
  },
  {
   "cell_type": "code",
   "execution_count": 41,
   "id": "bd783920",
   "metadata": {},
   "outputs": [
    {
     "name": "stdout",
     "output_type": "stream",
     "text": [
      "Prediccion:  [0 0 0 ... 0 0 1]\n",
      "real: [0, 0, 0, 0, 0, ..., 0, 0, 0, 0, 1]\n",
      "Length: 52948\n",
      "Categories (2, int64): [0, 1]\n",
      "Prediccion train:  0.9271869643843637\n",
      "Prediccion test:  0.9250018886454635\n",
      "IUCR: 0.6017316445007879\n",
      "Location Description: 0.1344087826702362\n",
      "FBI Code: 0.20939235156792188\n"
     ]
    }
   ],
   "source": [
    "from sklearn.model_selection import train_test_split\n",
    "from sklearn.ensemble import RandomForestClassifier\n",
    "from sklearn import datasets, metrics\n",
    "\n",
    "X= df2.loc[:,~df2.columns.isin(['Domestic'])]\n",
    "y = df2.loc[:,'Domestic']\n",
    "\n",
    "X_train, X_test, y_train, y_test = train_test_split(X, y, \n",
    "                        test_size=0.20, random_state=42)\n",
    "\n",
    "model = RandomForestClassifier(max_depth = 10, random_state=0)\n",
    "model.fit(X_train,y_train)\n",
    "\n",
    "pred = model.predict(X_test)\n",
    "\n",
    "print(\"Prediccion: \", pred)\n",
    "print(\"real:\", y_test.values)\n",
    "print(\"Prediccion train: \", model.score(X_train, y_train))\n",
    "print(\"Prediccion test: \",metrics.accuracy_score(y_test, pred))\n",
    "\n",
    "for col,pred in zip(X_train.columns,model.feature_importances_):\n",
    "    if 0.019 <pred:\n",
    "        print(f\"{col}: {pred}\")"
   ]
  },
  {
   "cell_type": "markdown",
   "id": "865e09c8",
   "metadata": {},
   "source": [
    ">El uso del modelo Random Forest también parece ser efectivo para predecir si un delito es doméstico o no, obteniendo una precisión de aproximadamente el 93% en los datos de entrenamiento y del 92% en los datos de prueba. Esta precisión indica que el modelo es capaz de predecir correctamente en alrededor del 92% de los casos si un delito es doméstico o no.<br>\n",
    "Asimismo, el análisis de la importancia de las características muestra que las variables más importantes para la clasificación son \"IUCR\" (con un 60% de predominio), \"FBI Code\" (con un 21% de predominio) y \"Location Description\" (con un 13% de predominio). Lo cual nos indica que estas variables tienen una fuerte influencia en la capacidad del modelo para realizar predicciones."
   ]
  },
  {
   "cell_type": "markdown",
   "id": "a6f8b066",
   "metadata": {},
   "source": [
    "### Análisis de las Métricas"
   ]
  },
  {
   "cell_type": "markdown",
   "id": "5574a47b",
   "metadata": {},
   "source": [
    "Las métricas son utilizadas principalmente para evaluar la calidad o eficacia de cualquier modelo."
   ]
  },
  {
   "cell_type": "code",
   "execution_count": 42,
   "id": "8f7f6c8d",
   "metadata": {},
   "outputs": [
    {
     "name": "stdout",
     "output_type": "stream",
     "text": [
      "                        0          1          2          3          4\n",
      "fit_time        14.942476  14.788616  14.686264  16.592016  15.067124\n",
      "score_time       0.563992   0.575764   0.576844   0.592193   0.592247\n",
      "test_accuracy    0.925644   0.923850   0.924358   0.924245   0.892628\n",
      "test_precision   0.889860   0.874143   0.869924   0.867561   0.881509\n",
      "test_recall      0.606169   0.607194   0.614936   0.616365   0.373035\n",
      "\n",
      "Media: \n",
      "\n",
      " fit_time          15.215299\n",
      "score_time         0.580208\n",
      "test_accuracy      0.918145\n",
      "test_precision     0.876599\n",
      "test_recall        0.563540\n",
      "dtype: float64\n"
     ]
    }
   ],
   "source": [
    "from sklearn.model_selection import cross_validate\n",
    "result = cross_validate(model, X, y, scoring=['accuracy', \n",
    "                                    'precision', 'recall'])\n",
    "print(pd.DataFrame(result).T,end=\"\\n\\n\")\n",
    "print(\"Media: \\n\\n\",pd.DataFrame(result).mean())"
   ]
  },
  {
   "cell_type": "markdown",
   "id": "1621d9ef",
   "metadata": {},
   "source": [
    "Se evaluó también el desempeño en las métricas de precisión y recall. El valor promedio de precision fue de aproximadamente 87,5%, lo que sugiere que el modelo es capaz de predecir la variable \"Domestic\" correctamente en alrededor del 87,5% de los casos, y el valor promedio de recall fue de aproximadamente 56%, lo que significa que el modelo es capaz de identificar correctamente el 56% de los delitos domésticos que se presentan en el conjunto de datos."
   ]
  },
  {
   "cell_type": "markdown",
   "id": "3ec93d41",
   "metadata": {},
   "source": [
    "## 3. Anexo - Respuestas"
   ]
  },
  {
   "cell_type": "markdown",
   "id": "56813f7d",
   "metadata": {},
   "source": [
    "## Ejercicio 3"
   ]
  },
  {
   "cell_type": "markdown",
   "id": "837aa8e7",
   "metadata": {},
   "source": [
    "• **¿A qué tipo de modelo predictivo os enfrentáis?**\n",
    "\n",
    "En este caso se está trabajando con un modelo de regresión logística, el cual es un modelo de clasificación que se utiliza para predecir una variable categórica binaria utilizando un conjunto de variables independientes como entrada. En este caso, la variable \"Domestic\" solo puede tomar dos valores: 0 y 1, lo cual es indicativo de que se trata de una variable categórica binaria.\""
   ]
  },
  {
   "cell_type": "markdown",
   "id": "860b79d6",
   "metadata": {},
   "source": [
    "• **¿Qué variables son útiles para conseguir este objetivo y cuáles no? Justificad vuestra respuesta**\n",
    "\n",
    "En este caso, considerando el contexto del problema, se identifican varias variables que pueden ser útiles para predecir la variable \"Domestic\". Entre estas variables se encuentran: Location Description, Arrest, Beat, District, Ward, FBI Code, Mes y Horario.\n",
    "\n",
    "La ubicación del delito (Location Description) puede ser relevante, ya que es posible que los delitos domésticos ocurran con mayor frecuencia en ciertos lugares específicos. La presencia de un arresto (Arrest) también puede ser importante, ya que puede indicar si el delito involucra a personas conocidas o relacionadas entre sí.\n",
    "\n",
    "El distrito y el sector (District y Beat) pueden desempeñar un papel significativo, ya que ciertas áreas geográficas pueden estar más propensas a tener delitos domésticos. Además, el código de delitos (FBI Code) proporciona información sobre la naturaleza del delito y puede ser un indicador útil para determinar si es de índole doméstica.\n",
    "\n",
    "Considerar el mes y la hora del delito (Mes y Horario) también puede ser relevante, ya que podrían existir patrones temporales en la ocurrencia de delitos domésticos. Por ejemplo, puede haber una mayor incidencia de delitos domésticos durante ciertas épocas del año o en determinados momentos del día, como durante la noche."
   ]
  },
  {
   "cell_type": "markdown",
   "id": "6abfba33",
   "metadata": {},
   "source": [
    "• **Evaluad el error cometido tras el desarrollo del modelo predictivo.**\n",
    "\n",
    "En el caso de la regresión logística, se utilizó el error cuadrático medio (mean squared error) para evaluar el error en las predicciones. El error cuadrático medio obtenido fue de aproximadamente 0.164, lo que sugiere que el modelo ha cometido un error relativamente bajo al realizar predicciones en los datos de prueba.<br>\n",
    "Para el caso del modelo de Random Forest, no se utilizó directamente el error cuadrático medio como medida de evaluación del error, sin embargo se evaluó la precisión, precisión (precision) y recall, lo que permite evaluar de forma indirecta el desempeño del modelo.<br>\n",
    "En general, ambos modelos parecen haber cometido un error relativamente bajo en las predicciones realizadas. <br>"
   ]
  }
 ],
 "metadata": {
  "hide_input": false,
  "kernelspec": {
   "display_name": "Python 3",
   "language": "python",
   "name": "python3"
  },
  "language_info": {
   "codemirror_mode": {
    "name": "ipython",
    "version": 3
   },
   "file_extension": ".py",
   "mimetype": "text/x-python",
   "name": "python",
   "nbconvert_exporter": "python",
   "pygments_lexer": "ipython3",
   "version": "3.8.8"
  },
  "toc": {
   "base_numbering": 1,
   "nav_menu": {},
   "number_sections": true,
   "sideBar": true,
   "skip_h1_title": false,
   "title_cell": "Table of Contents",
   "title_sidebar": "Contents",
   "toc_cell": false,
   "toc_position": {},
   "toc_section_display": true,
   "toc_window_display": false
  },
  "varInspector": {
   "cols": {
    "lenName": 16,
    "lenType": 16,
    "lenVar": 40
   },
   "kernels_config": {
    "python": {
     "delete_cmd_postfix": "",
     "delete_cmd_prefix": "del ",
     "library": "var_list.py",
     "varRefreshCmd": "print(var_dic_list())"
    },
    "r": {
     "delete_cmd_postfix": ") ",
     "delete_cmd_prefix": "rm(",
     "library": "var_list.r",
     "varRefreshCmd": "cat(var_dic_list()) "
    }
   },
   "types_to_exclude": [
    "module",
    "function",
    "builtin_function_or_method",
    "instance",
    "_Feature"
   ],
   "window_display": false
  }
 },
 "nbformat": 4,
 "nbformat_minor": 5
}
