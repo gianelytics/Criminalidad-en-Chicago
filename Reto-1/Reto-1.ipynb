{
 "cells": [
  {
   "cell_type": "markdown",
   "id": "077dbb3b",
   "metadata": {
    "id": "077dbb3b"
   },
   "source": [
    "**CONTENIDO**\n",
    "\n",
    "1. Información general del Proyecto\n",
    "2. Librerías\n",
    "3. Funciones\n",
    "4. Código   "
   ]
  },
  {
   "cell_type": "markdown",
   "id": "88615ad8",
   "metadata": {
    "id": "88615ad8"
   },
   "source": [
    "# Información General del Proyecto\n"
   ]
  },
  {
   "cell_type": "markdown",
   "id": "bc3d962f",
   "metadata": {},
   "source": [
    "El proyecto es un desafío presentado en el **área 1** del bootcamp de Análisis de Datos con Python, impartido por la Fundación NTT DATA. En este proyecto, se plantea el siguiente objetivo:\n",
    "\n",
    "- Crear un código que resuelva los ejercicios propuestos para analizar la tasa de criminalidad en la ciudad de Chicago. Para lograrlo, se han proporcionado datos relacionados con la criminalidad en la ciudad, así como la ubicación de las comisarías de policía. La misión consiste en trabajar con estos datos de criminalidad, mantenerlos y representarlos para llevar a cabo un análisis de la situación actual.\n"
   ]
  },
  {
   "cell_type": "markdown",
   "id": "ee5e67e3",
   "metadata": {
    "id": "ee5e67e3"
   },
   "source": [
    "# Importando Librerías\n",
    "\n",
    "- **folium**  :    /generador de mapas interactivos/\n",
    "- **datetime**:    /manipulación de fechas y horas/\n",
    "- **pyproj**  :    /sistemas de referencia espacial/proyecta y transforma coordenadas/realiza calculos geodésicos y distancias\n",
    "- **math**    :    /operaciones matemáticas básicas"
   ]
  },
  {
   "cell_type": "code",
   "execution_count": 1,
   "id": "d5ba7609",
   "metadata": {
    "colab": {
     "base_uri": "https://localhost:8080/"
    },
    "executionInfo": {
     "elapsed": 5018,
     "status": "ok",
     "timestamp": 1695171055407,
     "user": {
      "displayName": "Gianella Liliana Sandoval Ochoa",
      "userId": "10269921612297183757"
     },
     "user_tz": 300
    },
    "id": "d5ba7609",
    "outputId": "c820d5d9-6f23-4778-a76f-ae66c4417bb0",
    "scrolled": false
   },
   "outputs": [
    {
     "name": "stdout",
     "output_type": "stream",
     "text": [
      "Requirement already satisfied: folium in c:\\users\\gianella\\anaconda3\\lib\\site-packages (0.14.0)Note: you may need to restart the kernel to use updated packages.\n",
      "\n",
      "Requirement already satisfied: jinja2>=2.9 in c:\\users\\gianella\\anaconda3\\lib\\site-packages (from folium) (2.11.3)\n",
      "Requirement already satisfied: numpy in c:\\users\\gianella\\anaconda3\\lib\\site-packages (from folium) (1.20.1)\n",
      "Requirement already satisfied: branca>=0.6.0 in c:\\users\\gianella\\anaconda3\\lib\\site-packages (from folium) (0.6.0)\n",
      "Requirement already satisfied: requests in c:\\users\\gianella\\anaconda3\\lib\\site-packages (from folium) (2.25.1)\n",
      "Requirement already satisfied: MarkupSafe>=0.23 in c:\\users\\gianella\\anaconda3\\lib\\site-packages (from jinja2>=2.9->folium) (1.1.1)\n",
      "Requirement already satisfied: urllib3<1.27,>=1.21.1 in c:\\users\\gianella\\anaconda3\\lib\\site-packages (from requests->folium) (1.26.4)\n",
      "Requirement already satisfied: certifi>=2017.4.17 in c:\\users\\gianella\\anaconda3\\lib\\site-packages (from requests->folium) (2020.12.5)\n",
      "Requirement already satisfied: chardet<5,>=3.0.2 in c:\\users\\gianella\\anaconda3\\lib\\site-packages (from requests->folium) (4.0.0)\n",
      "Requirement already satisfied: idna<3,>=2.5 in c:\\users\\gianella\\anaconda3\\lib\\site-packages (from requests->folium) (2.10)\n"
     ]
    }
   ],
   "source": [
    "pip install folium"
   ]
  },
  {
   "cell_type": "code",
   "execution_count": 2,
   "id": "ede915c4",
   "metadata": {
    "executionInfo": {
     "elapsed": 14,
     "status": "ok",
     "timestamp": 1695171055409,
     "user": {
      "displayName": "Gianella Liliana Sandoval Ochoa",
      "userId": "10269921612297183757"
     },
     "user_tz": 300
    },
    "id": "ede915c4"
   },
   "outputs": [],
   "source": [
    "import folium"
   ]
  },
  {
   "cell_type": "code",
   "execution_count": 3,
   "id": "db012451",
   "metadata": {
    "colab": {
     "base_uri": "https://localhost:8080/"
    },
    "executionInfo": {
     "elapsed": 5625,
     "status": "ok",
     "timestamp": 1695171061022,
     "user": {
      "displayName": "Gianella Liliana Sandoval Ochoa",
      "userId": "10269921612297183757"
     },
     "user_tz": 300
    },
    "id": "db012451",
    "outputId": "37bdca9f-5197-4bfa-987e-82fb0943e523"
   },
   "outputs": [
    {
     "name": "stdout",
     "output_type": "stream",
     "text": [
      "Requirement already satisfied: pyproj in c:\\users\\gianella\\anaconda3\\lib\\site-packages (3.5.0)\n",
      "Requirement already satisfied: certifi in c:\\users\\gianella\\anaconda3\\lib\\site-packages (from pyproj) (2020.12.5)\n",
      "Note: you may need to restart the kernel to use updated packages.\n"
     ]
    }
   ],
   "source": [
    "pip install pyproj"
   ]
  },
  {
   "cell_type": "code",
   "execution_count": 4,
   "id": "0e94bb10",
   "metadata": {
    "executionInfo": {
     "elapsed": 629,
     "status": "ok",
     "timestamp": 1695171061641,
     "user": {
      "displayName": "Gianella Liliana Sandoval Ochoa",
      "userId": "10269921612297183757"
     },
     "user_tz": 300
    },
    "id": "0e94bb10"
   },
   "outputs": [],
   "source": [
    "from pyproj import Transformer"
   ]
  },
  {
   "cell_type": "code",
   "execution_count": 5,
   "id": "fc0735be",
   "metadata": {
    "executionInfo": {
     "elapsed": 43,
     "status": "ok",
     "timestamp": 1695171061642,
     "user": {
      "displayName": "Gianella Liliana Sandoval Ochoa",
      "userId": "10269921612297183757"
     },
     "user_tz": 300
    },
    "id": "fc0735be"
   },
   "outputs": [],
   "source": [
    "from datetime import datetime"
   ]
  },
  {
   "cell_type": "code",
   "execution_count": 6,
   "id": "6135d82e",
   "metadata": {
    "executionInfo": {
     "elapsed": 42,
     "status": "ok",
     "timestamp": 1695171061642,
     "user": {
      "displayName": "Gianella Liliana Sandoval Ochoa",
      "userId": "10269921612297183757"
     },
     "user_tz": 300
    },
    "id": "6135d82e"
   },
   "outputs": [],
   "source": [
    "import math"
   ]
  },
  {
   "cell_type": "markdown",
   "id": "19e91028",
   "metadata": {
    "id": "19e91028"
   },
   "source": [
    "# Funciones"
   ]
  },
  {
   "cell_type": "markdown",
   "id": "5da4f9ff",
   "metadata": {
    "id": "5da4f9ff"
   },
   "source": [
    "- def indice_criminalidad( ):\n",
    "- def ingresar_delitos():\n",
    "- def agregar_delito():\n",
    "- def conversor_de_tiempo_a_minutos(horas,minutos,segundos):\n",
    "- def ordena_delitos(lista_delitos):\n"
   ]
  },
  {
   "cell_type": "markdown",
   "id": "9dec5c92",
   "metadata": {
    "id": "9dec5c92"
   },
   "source": [
    "## Código"
   ]
  },
  {
   "cell_type": "markdown",
   "id": "7ccff332",
   "metadata": {
    "id": "7ccff332"
   },
   "source": [
    "### Ejercicio 1\n",
    "Creación de una lista que contenga los datos de los delitos en forma de diccionario, de manera que se obtengan en una única variable los datos de estos.\n",
    "- **a. Creación de una lista que contiene los datos de los delitos en forma de diccionario:**"
   ]
  },
  {
   "cell_type": "code",
   "execution_count": 7,
   "id": "cc06a7e3",
   "metadata": {
    "executionInfo": {
     "elapsed": 465,
     "status": "ok",
     "timestamp": 1695171608054,
     "user": {
      "displayName": "Gianella Liliana Sandoval Ochoa",
      "userId": "10269921612297183757"
     },
     "user_tz": 300
    },
    "id": "cc06a7e3"
   },
   "outputs": [],
   "source": [
    "# Lista de claves, valores y de delitos y un contador.\n",
    "claves = [\"Num_caso\", \"Descripción\", \"Arrestado\", \"Nro_area_comunitaria\", \"Cuadra\", \"Fecha\", \"Coordenadas_la\", \"Coordenadas_lo\"]\n",
    "valores = []\n",
    "lista_delitos = []"
   ]
  },
  {
   "cell_type": "markdown",
   "id": "a2addd0b",
   "metadata": {
    "id": "a2addd0b"
   },
   "source": [
    "La función ingresar_delitos() permite agregar de a varios delitos de una sola vez a la lista de delitos por ejecución"
   ]
  },
  {
   "cell_type": "code",
   "execution_count": 8,
   "id": "4fa38a7d",
   "metadata": {
    "executionInfo": {
     "elapsed": 514,
     "status": "ok",
     "timestamp": 1695171617545,
     "user": {
      "displayName": "Gianella Liliana Sandoval Ochoa",
      "userId": "10269921612297183757"
     },
     "user_tz": 300
    },
    "id": "4fa38a7d"
   },
   "outputs": [],
   "source": [
    "def ingresar_delitos():\n",
    "    cont = 1\n",
    "    # Preguntamos si se desea agregar un delito a la base de datos\n",
    "    opc = input(\"¿Desea agregar un delito?: \\n\\n\").capitalize()\n",
    "    # Se van creando los delitos, que son diccionarios que se van a agregar a la lista de delitos\n",
    "    while (opc == \"Si\"):\n",
    "        for clave in claves:\n",
    "            valor = input(f\"\\nIngrese {clave}_{cont}: \")\n",
    "            valores.append(valor)\n",
    "        delito = {}\n",
    "        for clave, valor in zip(claves, valores):\n",
    "            delito[f\"{clave}_{cont}\"] = valor\n",
    "        cont += 1\n",
    "        lista_delitos.append(delito)\n",
    "        opc = input(\"\\n¿Desea agregar otro delito? (Si/No): \\n\\n\").capitalize()\n",
    "        valores.clear()\n",
    "        if (opc == \"No\"):\n",
    "            break"
   ]
  },
  {
   "cell_type": "markdown",
   "id": "c4bf15da",
   "metadata": {
    "id": "c4bf15da"
   },
   "source": [
    "Se agrega los tres primeros delitos, en una lista."
   ]
  },
  {
   "cell_type": "code",
   "execution_count": 9,
   "id": "fc7fc4a6",
   "metadata": {
    "colab": {
     "base_uri": "https://localhost:8080/"
    },
    "executionInfo": {
     "elapsed": 196509,
     "status": "ok",
     "timestamp": 1695171818099,
     "user": {
      "displayName": "Gianella Liliana Sandoval Ochoa",
      "userId": "10269921612297183757"
     },
     "user_tz": 300
    },
    "id": "fc7fc4a6",
    "outputId": "19724dff-6e31-4809-bd37-27736c827d24"
   },
   "outputs": [
    {
     "name": "stdout",
     "output_type": "stream",
     "text": [
      "¿Desea agregar un delito?: \n",
      "\n",
      "Si\n",
      "\n",
      "Ingrese Num_caso_1: HY411648\n",
      "\n",
      "Ingrese Descripción_1: Maltrato doméstico\n",
      "\n",
      "Ingrese Arrestado_1: False\n",
      "\n",
      "Ingrese Nro_area_comunitaria_1: 61\n",
      "\n",
      "Ingrese Cuadra_1: 043XX S WOOD ST\n",
      "\n",
      "Ingrese Fecha_1: 2015-09-05 13:30:00\n",
      "\n",
      "Ingrese Coordenadas_la_1: 41.815117\n",
      "\n",
      "Ingrese Coordenadas_lo_1: -87.670000\n",
      "\n",
      "¿Desea agregar otro delito? (Si/No): \n",
      "\n",
      "Si\n",
      "\n",
      "Ingrese Num_caso_2: HY411595\n",
      "\n",
      "Ingrese Descripción_2: Tráfico de drogas\n",
      "\n",
      "Ingrese Arrestado_2: True\n",
      "\n",
      "Ingrese Nro_area_comunitaria_2: 21\n",
      "\n",
      "Ingrese Cuadra_2: 035XX W BARRY AVE\n",
      "\n",
      "Ingrese Fecha_2: 2015-09-05 12:45:00\n",
      "\n",
      "Ingrese Coordenadas_la_2: 41.937406\n",
      "\n",
      "Ingrese Coordenadas_lo_2: -87.716650\n",
      "\n",
      "¿Desea agregar otro delito? (Si/No): \n",
      "\n",
      "Si\n",
      "\n",
      "Ingrese Num_caso_3: HY411435\n",
      "\n",
      "Ingrese Descripción_3: Robo en casa\n",
      "\n",
      "Ingrese Arrestado_3: False\n",
      "\n",
      "Ingrese Nro_area_comunitaria_3: 71\n",
      "\n",
      "Ingrese Cuadra_3: 082XX S LOOMIS BLVD\n",
      "\n",
      "Ingrese Fecha_3: 2015-09-05 10:55:00\n",
      "\n",
      "Ingrese Coordenadas_la_3: 41.744379\n",
      "\n",
      "Ingrese Coordenadas_lo_3: -87.658431\n",
      "\n",
      "¿Desea agregar otro delito? (Si/No): \n",
      "\n",
      "No\n"
     ]
    }
   ],
   "source": [
    "ingresar_delitos()"
   ]
  },
  {
   "cell_type": "markdown",
   "id": "990b3cb1",
   "metadata": {
    "id": "990b3cb1"
   },
   "source": [
    "- **b. Se ha cometido un nuevo delito, añadidlo al listado**"
   ]
  },
  {
   "cell_type": "markdown",
   "id": "b6f1b1be",
   "metadata": {
    "id": "b6f1b1be"
   },
   "source": [
    "Se agrega el cuarto delito."
   ]
  },
  {
   "cell_type": "markdown",
   "id": "a52faf77",
   "metadata": {
    "id": "a52faf77"
   },
   "source": [
    "La función agregar_delito() permitir agregar solo un  delito por vez que se ejecuta la función. El delito se añade a la lista de delitos."
   ]
  },
  {
   "cell_type": "code",
   "execution_count": 10,
   "id": "c48461e6",
   "metadata": {
    "executionInfo": {
     "elapsed": 527,
     "status": "ok",
     "timestamp": 1695171829627,
     "user": {
      "displayName": "Gianella Liliana Sandoval Ochoa",
      "userId": "10269921612297183757"
     },
     "user_tz": 300
    },
    "id": "c48461e6"
   },
   "outputs": [],
   "source": [
    "def agregar_delito():\n",
    "    opc = input(\"\\n¿Desea agregar otro delito? (Si/No): \\n\\n\").capitalize()\n",
    "    if (opc == \"Si\"):\n",
    "        cont = len(lista_delitos) + 1\n",
    "        for clave in claves:\n",
    "            valor = input(f\"\\nIngrese {clave}_{cont}: \")\n",
    "            valores.append(valor)\n",
    "        delito = {}\n",
    "        for clave, valor in zip(claves, valores):\n",
    "            delito[f\"{clave}_{cont}\"] = valor\n",
    "        lista_delitos.append(delito)"
   ]
  },
  {
   "cell_type": "code",
   "execution_count": 11,
   "id": "a676ecab",
   "metadata": {
    "colab": {
     "base_uri": "https://localhost:8080/"
    },
    "executionInfo": {
     "elapsed": 69310,
     "status": "ok",
     "timestamp": 1695171900596,
     "user": {
      "displayName": "Gianella Liliana Sandoval Ochoa",
      "userId": "10269921612297183757"
     },
     "user_tz": 300
    },
    "id": "a676ecab",
    "outputId": "51ca1d4b-04d9-4553-d885-407c7c2ec32c",
    "scrolled": false
   },
   "outputs": [
    {
     "name": "stdout",
     "output_type": "stream",
     "text": [
      "\n",
      "¿Desea agregar otro delito? (Si/No): \n",
      "\n",
      "Si\n",
      "\n",
      "Ingrese Num_caso_4: HY411662\n",
      "\n",
      "Ingrese Descripción_4: Robo por valor menor a 500$\n",
      "\n",
      "Ingrese Arrestado_4: False\n",
      "\n",
      "Ingrese Nro_area_comunitaria_4: 65\n",
      "\n",
      "Ingrese Cuadra_4: 071XX S PULASKI RD\n",
      "\n",
      "Ingrese Fecha_4: 2015-09-05 14:00:00\n",
      "\n",
      "Ingrese Coordenadas_la_4: 41.763648\n",
      "\n",
      "Ingrese Coordenadas_lo_4: -87.722345\n"
     ]
    }
   ],
   "source": [
    "agregar_delito()"
   ]
  },
  {
   "cell_type": "markdown",
   "id": "bc323003",
   "metadata": {
    "id": "bc323003"
   },
   "source": [
    "- Comprobación de lista_delitos."
   ]
  },
  {
   "cell_type": "code",
   "execution_count": 12,
   "id": "9f653459",
   "metadata": {
    "colab": {
     "base_uri": "https://localhost:8080/"
    },
    "executionInfo": {
     "elapsed": 427,
     "status": "ok",
     "timestamp": 1695171903892,
     "user": {
      "displayName": "Gianella Liliana Sandoval Ochoa",
      "userId": "10269921612297183757"
     },
     "user_tz": 300
    },
    "id": "9f653459",
    "outputId": "4d6adda3-e685-4de7-ed2a-0833a6c503ee"
   },
   "outputs": [
    {
     "data": {
      "text/plain": [
       "[{'Num_caso_1': 'HY411648',\n",
       "  'Descripción_1': 'Maltrato doméstico',\n",
       "  'Arrestado_1': 'False',\n",
       "  'Nro_area_comunitaria_1': '61',\n",
       "  'Cuadra_1': '043XX S WOOD ST',\n",
       "  'Fecha_1': '2015-09-05 13:30:00',\n",
       "  'Coordenadas_la_1': '41.815117',\n",
       "  'Coordenadas_lo_1': '-87.670000'},\n",
       " {'Num_caso_2': 'HY411595',\n",
       "  'Descripción_2': 'Tráfico de drogas',\n",
       "  'Arrestado_2': 'True',\n",
       "  'Nro_area_comunitaria_2': '21',\n",
       "  'Cuadra_2': '035XX W BARRY AVE',\n",
       "  'Fecha_2': '2015-09-05 12:45:00',\n",
       "  'Coordenadas_la_2': '41.937406',\n",
       "  'Coordenadas_lo_2': '-87.716650'},\n",
       " {'Num_caso_3': 'HY411435',\n",
       "  'Descripción_3': 'Robo en casa',\n",
       "  'Arrestado_3': 'False',\n",
       "  'Nro_area_comunitaria_3': '71',\n",
       "  'Cuadra_3': '082XX S LOOMIS BLVD',\n",
       "  'Fecha_3': '2015-09-05 10:55:00',\n",
       "  'Coordenadas_la_3': '41.744379',\n",
       "  'Coordenadas_lo_3': '-87.658431'},\n",
       " {'Num_caso_4': 'HY411662',\n",
       "  'Descripción_4': 'Robo por valor menor a 500$',\n",
       "  'Arrestado_4': 'False',\n",
       "  'Nro_area_comunitaria_4': '65',\n",
       "  'Cuadra_4': '071XX S PULASKI RD',\n",
       "  'Fecha_4': '2015-09-05 14:00:00',\n",
       "  'Coordenadas_la_4': '41.763648',\n",
       "  'Coordenadas_lo_4': '-87.722345'}]"
      ]
     },
     "execution_count": 12,
     "metadata": {},
     "output_type": "execute_result"
    }
   ],
   "source": [
    "lista_delitos"
   ]
  },
  {
   "cell_type": "markdown",
   "id": "54c8cde4",
   "metadata": {
    "id": "54c8cde4"
   },
   "source": [
    "- **c. Se solicita recuperar los datos del diccionario de un caso con número HY411595**"
   ]
  },
  {
   "cell_type": "code",
   "execution_count": 13,
   "id": "463fd7b4",
   "metadata": {
    "colab": {
     "base_uri": "https://localhost:8080/"
    },
    "executionInfo": {
     "elapsed": 489,
     "status": "ok",
     "timestamp": 1695171913267,
     "user": {
      "displayName": "Gianella Liliana Sandoval Ochoa",
      "userId": "10269921612297183757"
     },
     "user_tz": 300
    },
    "id": "463fd7b4",
    "outputId": "7960c323-806c-404a-cd1d-013ae730bf42"
   },
   "outputs": [
    {
     "name": "stdout",
     "output_type": "stream",
     "text": [
      "El delito buscado es el Nro 2\n",
      "\n",
      "{'Num_caso_2': 'HY411595', 'Descripción_2': 'Tráfico de drogas', 'Arrestado_2': 'True', 'Nro_area_comunitaria_2': '21', 'Cuadra_2': '035XX W BARRY AVE', 'Fecha_2': '2015-09-05 12:45:00', 'Coordenadas_la_2': '41.937406', 'Coordenadas_lo_2': '-87.716650'}\n"
     ]
    }
   ],
   "source": [
    "cont_rastrea_delito = 1\n",
    "for delito in lista_delitos:\n",
    "    for value in delito.values():\n",
    "        if value == \"HY411595\":\n",
    "            print(f\"El delito buscado es el Nro {cont_rastrea_delito}\\n\")\n",
    "            print(delito)\n",
    "    cont_rastrea_delito += 1"
   ]
  },
  {
   "cell_type": "markdown",
   "id": "a3343172",
   "metadata": {
    "id": "a3343172"
   },
   "source": [
    "- **d. Se ha confirmado que se ha producido el arresto de un sospechoso en el caso HY411648, de forma que el campo arrest ahora debe estar en True. Modificadlo.**"
   ]
  },
  {
   "cell_type": "markdown",
   "id": "16bf5301",
   "metadata": {
    "id": "16bf5301"
   },
   "source": [
    "Se procede a modificar la base de datos de dicho sospechoso."
   ]
  },
  {
   "cell_type": "code",
   "execution_count": 14,
   "id": "eac8402b",
   "metadata": {
    "colab": {
     "base_uri": "https://localhost:8080/"
    },
    "executionInfo": {
     "elapsed": 684,
     "status": "ok",
     "timestamp": 1695171916291,
     "user": {
      "displayName": "Gianella Liliana Sandoval Ochoa",
      "userId": "10269921612297183757"
     },
     "user_tz": 300
    },
    "id": "eac8402b",
    "outputId": "b7d5e1d2-fcbb-4f34-9efa-85d46f984ace",
    "scrolled": true
   },
   "outputs": [
    {
     "name": "stdout",
     "output_type": "stream",
     "text": [
      "El delito buscado es el Nro 1\n",
      "\n",
      "{'Num_caso_1': 'HY411648', 'Descripción_1': 'Maltrato doméstico', 'Arrestado_1': True, 'Nro_area_comunitaria_1': '61', 'Cuadra_1': '043XX S WOOD ST', 'Fecha_1': '2015-09-05 13:30:00', 'Coordenadas_la_1': '41.815117', 'Coordenadas_lo_1': '-87.670000'}\n"
     ]
    }
   ],
   "source": [
    "cont_rastrea_delito = 1\n",
    "for delito in lista_delitos:\n",
    "    for value in delito.values():\n",
    "        if value == \"HY411648\":\n",
    "            print(f\"El delito buscado es el Nro {cont_rastrea_delito}\\n\")\n",
    "            delito[f\"Arrestado_{cont_rastrea_delito}\"] = True\n",
    "            print(delito)\n",
    "    cont_rastrea_delito += 1"
   ]
  },
  {
   "cell_type": "markdown",
   "id": "1db5738a",
   "metadata": {
    "id": "1db5738a"
   },
   "source": [
    "### Ejercicio 2"
   ]
  },
  {
   "cell_type": "markdown",
   "id": "c0149490",
   "metadata": {
    "id": "c0149490"
   },
   "source": [
    "- Crear un mapa utilizando la librería Folium y, utilizando bucles, representad las comisarías con un marcador de color azul y los delitos cometidos con un marcador de color rojo (color=”red”)."
   ]
  },
  {
   "cell_type": "markdown",
   "id": "e92264c4",
   "metadata": {
    "id": "e92264c4"
   },
   "source": [
    "Se crea un mapa, donde los marcadores azules indican las ubicaciones de las comisarias y las rojas de los delitos. Se importa la libería folium para obtener una imagen de un mapa interactivo."
   ]
  },
  {
   "cell_type": "code",
   "execution_count": 15,
   "id": "dfd0bc2a",
   "metadata": {
    "colab": {
     "base_uri": "https://localhost:8080/",
     "height": 1000
    },
    "executionInfo": {
     "elapsed": 497,
     "status": "ok",
     "timestamp": 1695171931136,
     "user": {
      "displayName": "Gianella Liliana Sandoval Ochoa",
      "userId": "10269921612297183757"
     },
     "user_tz": 300
    },
    "id": "dfd0bc2a",
    "outputId": "3b17f08a-b38b-47a6-dcfb-b1cb699e0f07",
    "scrolled": false
   },
   "outputs": [
    {
     "data": {
      "text/html": [
       "<div style=\"width:100%;\"><div style=\"position:relative;width:100%;height:0;padding-bottom:60%;\"><span style=\"color:#565656\">Make this Notebook Trusted to load map: File -> Trust Notebook</span><iframe srcdoc=\"&lt;!DOCTYPE html&gt;\n",
       "&lt;html&gt;\n",
       "&lt;head&gt;\n",
       "    \n",
       "    &lt;meta http-equiv=&quot;content-type&quot; content=&quot;text/html; charset=UTF-8&quot; /&gt;\n",
       "    \n",
       "        &lt;script&gt;\n",
       "            L_NO_TOUCH = false;\n",
       "            L_DISABLE_3D = false;\n",
       "        &lt;/script&gt;\n",
       "    \n",
       "    &lt;style&gt;html, body {width: 100%;height: 100%;margin: 0;padding: 0;}&lt;/style&gt;\n",
       "    &lt;style&gt;#map {position:absolute;top:0;bottom:0;right:0;left:0;}&lt;/style&gt;\n",
       "    &lt;script src=&quot;https://cdn.jsdelivr.net/npm/leaflet@1.9.3/dist/leaflet.js&quot;&gt;&lt;/script&gt;\n",
       "    &lt;script src=&quot;https://code.jquery.com/jquery-1.12.4.min.js&quot;&gt;&lt;/script&gt;\n",
       "    &lt;script src=&quot;https://cdn.jsdelivr.net/npm/bootstrap@5.2.2/dist/js/bootstrap.bundle.min.js&quot;&gt;&lt;/script&gt;\n",
       "    &lt;script src=&quot;https://cdnjs.cloudflare.com/ajax/libs/Leaflet.awesome-markers/2.0.2/leaflet.awesome-markers.js&quot;&gt;&lt;/script&gt;\n",
       "    &lt;link rel=&quot;stylesheet&quot; href=&quot;https://cdn.jsdelivr.net/npm/leaflet@1.9.3/dist/leaflet.css&quot;/&gt;\n",
       "    &lt;link rel=&quot;stylesheet&quot; href=&quot;https://cdn.jsdelivr.net/npm/bootstrap@5.2.2/dist/css/bootstrap.min.css&quot;/&gt;\n",
       "    &lt;link rel=&quot;stylesheet&quot; href=&quot;https://netdna.bootstrapcdn.com/bootstrap/3.0.0/css/bootstrap.min.css&quot;/&gt;\n",
       "    &lt;link rel=&quot;stylesheet&quot; href=&quot;https://cdn.jsdelivr.net/npm/@fortawesome/fontawesome-free@6.2.0/css/all.min.css&quot;/&gt;\n",
       "    &lt;link rel=&quot;stylesheet&quot; href=&quot;https://cdnjs.cloudflare.com/ajax/libs/Leaflet.awesome-markers/2.0.2/leaflet.awesome-markers.css&quot;/&gt;\n",
       "    &lt;link rel=&quot;stylesheet&quot; href=&quot;https://cdn.jsdelivr.net/gh/python-visualization/folium/folium/templates/leaflet.awesome.rotate.min.css&quot;/&gt;\n",
       "    \n",
       "            &lt;meta name=&quot;viewport&quot; content=&quot;width=device-width,\n",
       "                initial-scale=1.0, maximum-scale=1.0, user-scalable=no&quot; /&gt;\n",
       "            &lt;style&gt;\n",
       "                #map_6a0e1173836538c82c278a0a3b019ac4 {\n",
       "                    position: relative;\n",
       "                    width: 100.0%;\n",
       "                    height: 100.0%;\n",
       "                    left: 0.0%;\n",
       "                    top: 0.0%;\n",
       "                }\n",
       "                .leaflet-container { font-size: 1rem; }\n",
       "            &lt;/style&gt;\n",
       "        \n",
       "&lt;/head&gt;\n",
       "&lt;body&gt;\n",
       "    \n",
       "    \n",
       "            &lt;div class=&quot;folium-map&quot; id=&quot;map_6a0e1173836538c82c278a0a3b019ac4&quot; &gt;&lt;/div&gt;\n",
       "        \n",
       "&lt;/body&gt;\n",
       "&lt;script&gt;\n",
       "    \n",
       "    \n",
       "            var map_6a0e1173836538c82c278a0a3b019ac4 = L.map(\n",
       "                &quot;map_6a0e1173836538c82c278a0a3b019ac4&quot;,\n",
       "                {\n",
       "                    center: [41.86438, -87.672638],\n",
       "                    crs: L.CRS.EPSG3857,\n",
       "                    zoom: 9,\n",
       "                    zoomControl: true,\n",
       "                    preferCanvas: false,\n",
       "                }\n",
       "            );\n",
       "\n",
       "            \n",
       "\n",
       "        \n",
       "    \n",
       "            var tile_layer_a1c116f6fb71e74e7e1a987581880b12 = L.tileLayer(\n",
       "                &quot;https://{s}.tile.openstreetmap.org/{z}/{x}/{y}.png&quot;,\n",
       "                {&quot;attribution&quot;: &quot;Data by \\u0026copy; \\u003ca target=\\&quot;_blank\\&quot; href=\\&quot;http://openstreetmap.org\\&quot;\\u003eOpenStreetMap\\u003c/a\\u003e, under \\u003ca target=\\&quot;_blank\\&quot; href=\\&quot;http://www.openstreetmap.org/copyright\\&quot;\\u003eODbL\\u003c/a\\u003e.&quot;, &quot;detectRetina&quot;: false, &quot;maxNativeZoom&quot;: 18, &quot;maxZoom&quot;: 18, &quot;minZoom&quot;: 0, &quot;noWrap&quot;: false, &quot;opacity&quot;: 1, &quot;subdomains&quot;: &quot;abc&quot;, &quot;tms&quot;: false}\n",
       "            ).addTo(map_6a0e1173836538c82c278a0a3b019ac4);\n",
       "        \n",
       "    \n",
       "            var marker_3f0ae4465f1336b01c8a9d8c04705794 = L.marker(\n",
       "                [41.9474, -87.651512],\n",
       "                {}\n",
       "            ).addTo(map_6a0e1173836538c82c278a0a3b019ac4);\n",
       "        \n",
       "    \n",
       "            var icon_5081947043717f80232e057ee6d192c6 = L.AwesomeMarkers.icon(\n",
       "                {&quot;extraClasses&quot;: &quot;fa-rotate-0&quot;, &quot;icon&quot;: &quot;info-sign&quot;, &quot;iconColor&quot;: &quot;white&quot;, &quot;markerColor&quot;: &quot;blue&quot;, &quot;prefix&quot;: &quot;glyphicon&quot;}\n",
       "            );\n",
       "            marker_3f0ae4465f1336b01c8a9d8c04705794.setIcon(icon_5081947043717f80232e057ee6d192c6);\n",
       "        \n",
       "    \n",
       "        var popup_f8810f75e24f39811c358f9e45d0663c = L.popup({&quot;maxWidth&quot;: &quot;100%&quot;});\n",
       "\n",
       "        \n",
       "            \n",
       "                var html_7134be1755816132465b36ae07824c77 = $(`&lt;div id=&quot;html_7134be1755816132465b36ae07824c77&quot; style=&quot;width: 100.0%; height: 100.0%;&quot;&gt;Town Hall&lt;/div&gt;`)[0];\n",
       "                popup_f8810f75e24f39811c358f9e45d0663c.setContent(html_7134be1755816132465b36ae07824c77);\n",
       "            \n",
       "        \n",
       "\n",
       "        marker_3f0ae4465f1336b01c8a9d8c04705794.bindPopup(popup_f8810f75e24f39811c358f9e45d0663c)\n",
       "        ;\n",
       "\n",
       "        \n",
       "    \n",
       "    \n",
       "            var marker_cb9d584c5fd247288b70744b2af9aebb = L.marker(\n",
       "                [41.691435, -87.66852],\n",
       "                {}\n",
       "            ).addTo(map_6a0e1173836538c82c278a0a3b019ac4);\n",
       "        \n",
       "    \n",
       "            var icon_41284cce181888ea0f127e3f3fe95469 = L.AwesomeMarkers.icon(\n",
       "                {&quot;extraClasses&quot;: &quot;fa-rotate-0&quot;, &quot;icon&quot;: &quot;info-sign&quot;, &quot;iconColor&quot;: &quot;white&quot;, &quot;markerColor&quot;: &quot;blue&quot;, &quot;prefix&quot;: &quot;glyphicon&quot;}\n",
       "            );\n",
       "            marker_cb9d584c5fd247288b70744b2af9aebb.setIcon(icon_41284cce181888ea0f127e3f3fe95469);\n",
       "        \n",
       "    \n",
       "        var popup_6bf3a19cf70bc01429bad50bc1c83e7a = L.popup({&quot;maxWidth&quot;: &quot;100%&quot;});\n",
       "\n",
       "        \n",
       "            \n",
       "                var html_de43e5faa85cd80c6f6078264fb05301 = $(`&lt;div id=&quot;html_de43e5faa85cd80c6f6078264fb05301&quot; style=&quot;width: 100.0%; height: 100.0%;&quot;&gt;Distrito: Morgan Park&lt;/div&gt;`)[0];\n",
       "                popup_6bf3a19cf70bc01429bad50bc1c83e7a.setContent(html_de43e5faa85cd80c6f6078264fb05301);\n",
       "            \n",
       "        \n",
       "\n",
       "        marker_cb9d584c5fd247288b70744b2af9aebb.bindPopup(popup_6bf3a19cf70bc01429bad50bc1c83e7a)\n",
       "        ;\n",
       "\n",
       "        \n",
       "    \n",
       "    \n",
       "            var marker_8d3820dbb48327b7e4c474b645eaf3c0 = L.marker(\n",
       "                [41.97955, -87.692845],\n",
       "                {}\n",
       "            ).addTo(map_6a0e1173836538c82c278a0a3b019ac4);\n",
       "        \n",
       "    \n",
       "            var icon_e9d6fc5255f4743fee3f4353e1f66209 = L.AwesomeMarkers.icon(\n",
       "                {&quot;extraClasses&quot;: &quot;fa-rotate-0&quot;, &quot;icon&quot;: &quot;info-sign&quot;, &quot;iconColor&quot;: &quot;white&quot;, &quot;markerColor&quot;: &quot;blue&quot;, &quot;prefix&quot;: &quot;glyphicon&quot;}\n",
       "            );\n",
       "            marker_8d3820dbb48327b7e4c474b645eaf3c0.setIcon(icon_e9d6fc5255f4743fee3f4353e1f66209);\n",
       "        \n",
       "    \n",
       "        var popup_fe55427911d5c73adbfc2a7b129763fe = L.popup({&quot;maxWidth&quot;: &quot;100%&quot;});\n",
       "\n",
       "        \n",
       "            \n",
       "                var html_da8bd90b548bd997945e6dcf9101b558 = $(`&lt;div id=&quot;html_da8bd90b548bd997945e6dcf9101b558&quot; style=&quot;width: 100.0%; height: 100.0%;&quot;&gt;Lincoln&lt;/div&gt;`)[0];\n",
       "                popup_fe55427911d5c73adbfc2a7b129763fe.setContent(html_da8bd90b548bd997945e6dcf9101b558);\n",
       "            \n",
       "        \n",
       "\n",
       "        marker_8d3820dbb48327b7e4c474b645eaf3c0.bindPopup(popup_fe55427911d5c73adbfc2a7b129763fe)\n",
       "        ;\n",
       "\n",
       "        \n",
       "    \n",
       "    \n",
       "            var marker_00d4243d13462446e86502f464c6b43a = L.marker(\n",
       "                [41.691435, -87.66852],\n",
       "                {}\n",
       "            ).addTo(map_6a0e1173836538c82c278a0a3b019ac4);\n",
       "        \n",
       "    \n",
       "            var icon_d284ab4cb76c55235bcb77cb7d24f3ad = L.AwesomeMarkers.icon(\n",
       "                {&quot;extraClasses&quot;: &quot;fa-rotate-0&quot;, &quot;icon&quot;: &quot;info-sign&quot;, &quot;iconColor&quot;: &quot;white&quot;, &quot;markerColor&quot;: &quot;blue&quot;, &quot;prefix&quot;: &quot;glyphicon&quot;}\n",
       "            );\n",
       "            marker_00d4243d13462446e86502f464c6b43a.setIcon(icon_d284ab4cb76c55235bcb77cb7d24f3ad);\n",
       "        \n",
       "    \n",
       "        var popup_05a9ceea1266297106a9bfd8429b4062 = L.popup({&quot;maxWidth&quot;: &quot;100%&quot;});\n",
       "\n",
       "        \n",
       "            \n",
       "                var html_73c28252df1f6557a557bb16638696f2 = $(`&lt;div id=&quot;html_73c28252df1f6557a557bb16638696f2&quot; style=&quot;width: 100.0%; height: 100.0%;&quot;&gt;Distrito: Morgan Park&lt;/div&gt;`)[0];\n",
       "                popup_05a9ceea1266297106a9bfd8429b4062.setContent(html_73c28252df1f6557a557bb16638696f2);\n",
       "            \n",
       "        \n",
       "\n",
       "        marker_00d4243d13462446e86502f464c6b43a.bindPopup(popup_05a9ceea1266297106a9bfd8429b4062)\n",
       "        ;\n",
       "\n",
       "        \n",
       "    \n",
       "    \n",
       "            var marker_ab5ddc34b9253744607d4305a7439c7e = L.marker(\n",
       "                [41.999763, -87.671324],\n",
       "                {}\n",
       "            ).addTo(map_6a0e1173836538c82c278a0a3b019ac4);\n",
       "        \n",
       "    \n",
       "            var icon_708dfb65bb8ef4122f2274b7c5b8a494 = L.AwesomeMarkers.icon(\n",
       "                {&quot;extraClasses&quot;: &quot;fa-rotate-0&quot;, &quot;icon&quot;: &quot;info-sign&quot;, &quot;iconColor&quot;: &quot;white&quot;, &quot;markerColor&quot;: &quot;blue&quot;, &quot;prefix&quot;: &quot;glyphicon&quot;}\n",
       "            );\n",
       "            marker_ab5ddc34b9253744607d4305a7439c7e.setIcon(icon_708dfb65bb8ef4122f2274b7c5b8a494);\n",
       "        \n",
       "    \n",
       "        var popup_2c296a892ef1a7ff0470a9c24bcbaeeb = L.popup({&quot;maxWidth&quot;: &quot;100%&quot;});\n",
       "\n",
       "        \n",
       "            \n",
       "                var html_963998a68042db45090a9482477d3883 = $(`&lt;div id=&quot;html_963998a68042db45090a9482477d3883&quot; style=&quot;width: 100.0%; height: 100.0%;&quot;&gt;Rogers Park&lt;/div&gt;`)[0];\n",
       "                popup_2c296a892ef1a7ff0470a9c24bcbaeeb.setContent(html_963998a68042db45090a9482477d3883);\n",
       "            \n",
       "        \n",
       "\n",
       "        marker_ab5ddc34b9253744607d4305a7439c7e.bindPopup(popup_2c296a892ef1a7ff0470a9c24bcbaeeb)\n",
       "        ;\n",
       "\n",
       "        \n",
       "    \n",
       "    \n",
       "            var marker_d38082f4b8749707aff6d1e9d07e1f20 = L.marker(\n",
       "                [41.85767, -87.66245],\n",
       "                {}\n",
       "            ).addTo(map_6a0e1173836538c82c278a0a3b019ac4);\n",
       "        \n",
       "    \n",
       "            var icon_7838b3968772bcdfa9b2872c79ffa295 = L.AwesomeMarkers.icon(\n",
       "                {&quot;extraClasses&quot;: &quot;fa-rotate-0&quot;, &quot;icon&quot;: &quot;info-sign&quot;, &quot;iconColor&quot;: &quot;white&quot;, &quot;markerColor&quot;: &quot;red&quot;, &quot;prefix&quot;: &quot;glyphicon&quot;}\n",
       "            );\n",
       "            marker_d38082f4b8749707aff6d1e9d07e1f20.setIcon(icon_7838b3968772bcdfa9b2872c79ffa295);\n",
       "        \n",
       "    \n",
       "        var popup_10cc1f406a874fbaa5f54940719d9691 = L.popup({&quot;maxWidth&quot;: &quot;100%&quot;});\n",
       "\n",
       "        \n",
       "            \n",
       "                var html_f20df25478db94081b49adc149063b07 = $(`&lt;div id=&quot;html_f20df25478db94081b49adc149063b07&quot; style=&quot;width: 100.0%; height: 100.0%;&quot;&gt;Delito 1&lt;/div&gt;`)[0];\n",
       "                popup_10cc1f406a874fbaa5f54940719d9691.setContent(html_f20df25478db94081b49adc149063b07);\n",
       "            \n",
       "        \n",
       "\n",
       "        marker_d38082f4b8749707aff6d1e9d07e1f20.bindPopup(popup_10cc1f406a874fbaa5f54940719d9691)\n",
       "        ;\n",
       "\n",
       "        \n",
       "    \n",
       "    \n",
       "            var marker_bf684a4d9ace52ec937b4c074f7ad857 = L.marker(\n",
       "                [41.86845, -87.68455],\n",
       "                {}\n",
       "            ).addTo(map_6a0e1173836538c82c278a0a3b019ac4);\n",
       "        \n",
       "    \n",
       "            var icon_cb8ad1ea73c63f9fa53c05638c78a6f8 = L.AwesomeMarkers.icon(\n",
       "                {&quot;extraClasses&quot;: &quot;fa-rotate-0&quot;, &quot;icon&quot;: &quot;info-sign&quot;, &quot;iconColor&quot;: &quot;white&quot;, &quot;markerColor&quot;: &quot;red&quot;, &quot;prefix&quot;: &quot;glyphicon&quot;}\n",
       "            );\n",
       "            marker_bf684a4d9ace52ec937b4c074f7ad857.setIcon(icon_cb8ad1ea73c63f9fa53c05638c78a6f8);\n",
       "        \n",
       "    \n",
       "        var popup_3885afba930ea3e445a9ead748cec6be = L.popup({&quot;maxWidth&quot;: &quot;100%&quot;});\n",
       "\n",
       "        \n",
       "            \n",
       "                var html_cd9c2f2de8423e5f3cbad3b16b4345d3 = $(`&lt;div id=&quot;html_cd9c2f2de8423e5f3cbad3b16b4345d3&quot; style=&quot;width: 100.0%; height: 100.0%;&quot;&gt;Delito 2&lt;/div&gt;`)[0];\n",
       "                popup_3885afba930ea3e445a9ead748cec6be.setContent(html_cd9c2f2de8423e5f3cbad3b16b4345d3);\n",
       "            \n",
       "        \n",
       "\n",
       "        marker_bf684a4d9ace52ec937b4c074f7ad857.bindPopup(popup_3885afba930ea3e445a9ead748cec6be)\n",
       "        ;\n",
       "\n",
       "        \n",
       "    \n",
       "    \n",
       "            var marker_375015f4506fc5303e7d7897c627b496 = L.marker(\n",
       "                [41.8588, -87.65716],\n",
       "                {}\n",
       "            ).addTo(map_6a0e1173836538c82c278a0a3b019ac4);\n",
       "        \n",
       "    \n",
       "            var icon_74cc65d65a065bfcb59d6afa32435f61 = L.AwesomeMarkers.icon(\n",
       "                {&quot;extraClasses&quot;: &quot;fa-rotate-0&quot;, &quot;icon&quot;: &quot;info-sign&quot;, &quot;iconColor&quot;: &quot;white&quot;, &quot;markerColor&quot;: &quot;red&quot;, &quot;prefix&quot;: &quot;glyphicon&quot;}\n",
       "            );\n",
       "            marker_375015f4506fc5303e7d7897c627b496.setIcon(icon_74cc65d65a065bfcb59d6afa32435f61);\n",
       "        \n",
       "    \n",
       "        var popup_877ba8a99dc356efdfc112c06bccffd9 = L.popup({&quot;maxWidth&quot;: &quot;100%&quot;});\n",
       "\n",
       "        \n",
       "            \n",
       "                var html_488062a2f4c9d0f05441234c9cab6e9d = $(`&lt;div id=&quot;html_488062a2f4c9d0f05441234c9cab6e9d&quot; style=&quot;width: 100.0%; height: 100.0%;&quot;&gt;Delito 3&lt;/div&gt;`)[0];\n",
       "                popup_877ba8a99dc356efdfc112c06bccffd9.setContent(html_488062a2f4c9d0f05441234c9cab6e9d);\n",
       "            \n",
       "        \n",
       "\n",
       "        marker_375015f4506fc5303e7d7897c627b496.bindPopup(popup_877ba8a99dc356efdfc112c06bccffd9)\n",
       "        ;\n",
       "\n",
       "        \n",
       "    \n",
       "    \n",
       "            var marker_f2c331f1b18ab1c9189c0a65572d0eab = L.marker(\n",
       "                [41.85292, -87.66617],\n",
       "                {}\n",
       "            ).addTo(map_6a0e1173836538c82c278a0a3b019ac4);\n",
       "        \n",
       "    \n",
       "            var icon_ab50d4e7070a9aa6f14ab82f6ec05e63 = L.AwesomeMarkers.icon(\n",
       "                {&quot;extraClasses&quot;: &quot;fa-rotate-0&quot;, &quot;icon&quot;: &quot;info-sign&quot;, &quot;iconColor&quot;: &quot;white&quot;, &quot;markerColor&quot;: &quot;red&quot;, &quot;prefix&quot;: &quot;glyphicon&quot;}\n",
       "            );\n",
       "            marker_f2c331f1b18ab1c9189c0a65572d0eab.setIcon(icon_ab50d4e7070a9aa6f14ab82f6ec05e63);\n",
       "        \n",
       "    \n",
       "        var popup_4f9196cc85b54edba9dd157a80b1f746 = L.popup({&quot;maxWidth&quot;: &quot;100%&quot;});\n",
       "\n",
       "        \n",
       "            \n",
       "                var html_9f9378d067010463b950f3d2b1712f4f = $(`&lt;div id=&quot;html_9f9378d067010463b950f3d2b1712f4f&quot; style=&quot;width: 100.0%; height: 100.0%;&quot;&gt;Delito 4&lt;/div&gt;`)[0];\n",
       "                popup_4f9196cc85b54edba9dd157a80b1f746.setContent(html_9f9378d067010463b950f3d2b1712f4f);\n",
       "            \n",
       "        \n",
       "\n",
       "        marker_f2c331f1b18ab1c9189c0a65572d0eab.bindPopup(popup_4f9196cc85b54edba9dd157a80b1f746)\n",
       "        ;\n",
       "\n",
       "        \n",
       "    \n",
       "&lt;/script&gt;\n",
       "&lt;/html&gt;\" style=\"position:absolute;width:100%;height:100%;left:0;top:0;border:none !important;\" allowfullscreen webkitallowfullscreen mozallowfullscreen></iframe></div></div>"
      ],
      "text/plain": [
       "<folium.folium.Map at 0x25b7e4cd850>"
      ]
     },
     "execution_count": 15,
     "metadata": {},
     "output_type": "execute_result"
    }
   ],
   "source": [
    "import folium\n",
    "\n",
    "# Crear el mapa centrado en las coordenadas indicadas\n",
    "mapa = folium.Map(location=[41.864380, -87.672638], zoom_start=9)\n",
    "\n",
    "# Agregar marcadores para las comisarías\n",
    "comisarias = [(\"Town Hall\", 41.947400, -87.651512),\n",
    "              (\"Distrito: Morgan Park\", 41.691435, -87.668520),\n",
    "              (\"Lincoln\", 41.979550, -87.692845),\n",
    "              (\"Distrito: Morgan Park\", 41.691435, -87.668520),\n",
    "              (\"Rogers Park\", 41.999763, -87.671324)]\n",
    "\n",
    "for comisaria in comisarias:\n",
    "    folium.Marker(location=[comisaria[1], comisaria[2]],\n",
    "                  popup=comisaria[0],\n",
    "                  icon=folium.Icon(color='blue')).add_to(mapa)\n",
    "# Agregar marcadores para los delitos\n",
    "delitos_markers = [(\"Delito 1\", 41.857670, -87.662450),\n",
    "           (\"Delito 2\", 41.868450, -87.684550),\n",
    "           (\"Delito 3\", 41.858800, -87.657160),\n",
    "           (\"Delito 4\", 41.852920, -87.666170)\n",
    "               ]\n",
    "\n",
    "for delito in delitos_markers:\n",
    "    folium.Marker(location=[delito[1], delito[2]],\n",
    "                  popup=delito[0],\n",
    "                  icon=folium.Icon(color='red')).add_to(mapa)\n",
    "\n",
    "# Mostrar el mapa\n",
    "mapa"
   ]
  },
  {
   "cell_type": "markdown",
   "id": "9d0d9f52",
   "metadata": {
    "id": "9d0d9f52"
   },
   "source": [
    "### Ejercicio 3"
   ]
  },
  {
   "cell_type": "markdown",
   "id": "6f8b7c11",
   "metadata": {
    "id": "6f8b7c11"
   },
   "source": [
    "- Crear una función para calcular el índice de criminalidad de una determinada área comunitaria. El índice de criminalidad por cada 100.000 habitantes."
   ]
  },
  {
   "cell_type": "markdown",
   "id": "3b61e4ba",
   "metadata": {
    "id": "3b61e4ba"
   },
   "source": [
    "Se crea una función que calcula el índice de criminalidad por cada 100000 habitantes de una determinada area comunitaria dado el número de delitos y la población de dicha area"
   ]
  },
  {
   "cell_type": "code",
   "execution_count": 16,
   "id": "5b442e4d",
   "metadata": {
    "executionInfo": {
     "elapsed": 504,
     "status": "ok",
     "timestamp": 1695171939207,
     "user": {
      "displayName": "Gianella Liliana Sandoval Ochoa",
      "userId": "10269921612297183757"
     },
     "user_tz": 300
    },
    "id": "5b442e4d"
   },
   "outputs": [],
   "source": [
    "lista_indices = []\n",
    "def indice_criminalidad():\n",
    "\n",
    "    delitos=int(input(\"Introduce numero de delitos: \"))\n",
    "    poblacion=int(input(\"Introduce numero de población: \"))\n",
    "\n",
    "    # A través de esta comprobación se previen que se divida entre cero.\n",
    "    if poblacion!=0:\n",
    "        lista_indices.append(((delitos/poblacion)* 100000))\n",
    "        return ((delitos/poblacion)* 100000)\n",
    "    else:\n",
    "        return \"Error\"\n",
    "\n",
    "    indice_criminalidad()"
   ]
  },
  {
   "cell_type": "markdown",
   "id": "f79d2f62",
   "metadata": {
    "id": "f79d2f62"
   },
   "source": [
    "Se procede a cacular el índice de criminalidad."
   ]
  },
  {
   "cell_type": "markdown",
   "id": "4fbf4b2b",
   "metadata": {
    "id": "4fbf4b2b"
   },
   "source": [
    "#### Area 1"
   ]
  },
  {
   "cell_type": "code",
   "execution_count": 17,
   "id": "c7cf749f",
   "metadata": {
    "colab": {
     "base_uri": "https://localhost:8080/"
    },
    "executionInfo": {
     "elapsed": 10522,
     "status": "ok",
     "timestamp": 1695171959065,
     "user": {
      "displayName": "Gianella Liliana Sandoval Ochoa",
      "userId": "10269921612297183757"
     },
     "user_tz": 300
    },
    "id": "c7cf749f",
    "outputId": "85ec7ca9-7e33-494a-c3a1-7a0a617d6533",
    "scrolled": true
   },
   "outputs": [
    {
     "name": "stdout",
     "output_type": "stream",
     "text": [
      "Introduce numero de delitos: 289\n",
      "Introduce numero de población: 54991\n"
     ]
    },
    {
     "data": {
      "text/plain": [
       "525.5405429979451"
      ]
     },
     "execution_count": 17,
     "metadata": {},
     "output_type": "execute_result"
    }
   ],
   "source": [
    "indice_criminalidad()"
   ]
  },
  {
   "cell_type": "markdown",
   "id": "344d8ae7",
   "metadata": {
    "id": "344d8ae7"
   },
   "source": [
    "#### Area 2"
   ]
  },
  {
   "cell_type": "code",
   "execution_count": 18,
   "id": "b40dfc25",
   "metadata": {
    "colab": {
     "base_uri": "https://localhost:8080/"
    },
    "executionInfo": {
     "elapsed": 51511,
     "status": "ok",
     "timestamp": 1695172014028,
     "user": {
      "displayName": "Gianella Liliana Sandoval Ochoa",
      "userId": "10269921612297183757"
     },
     "user_tz": 300
    },
    "id": "b40dfc25",
    "outputId": "2e4747a0-0e0d-4377-9577-13b1be870ed3"
   },
   "outputs": [
    {
     "name": "stdout",
     "output_type": "stream",
     "text": [
      "Introduce numero de delitos: 228\n",
      "Introduce numero de población: 71942\n"
     ]
    },
    {
     "data": {
      "text/plain": [
       "316.9219649161825"
      ]
     },
     "execution_count": 18,
     "metadata": {},
     "output_type": "execute_result"
    }
   ],
   "source": [
    "indice_criminalidad()"
   ]
  },
  {
   "cell_type": "markdown",
   "id": "1e7d55d8",
   "metadata": {
    "id": "1e7d55d8"
   },
   "source": [
    "#### Area 3"
   ]
  },
  {
   "cell_type": "code",
   "execution_count": 19,
   "id": "0a0eae44",
   "metadata": {
    "colab": {
     "base_uri": "https://localhost:8080/"
    },
    "executionInfo": {
     "elapsed": 8497,
     "status": "ok",
     "timestamp": 1695172024328,
     "user": {
      "displayName": "Gianella Liliana Sandoval Ochoa",
      "userId": "10269921612297183757"
     },
     "user_tz": 300
    },
    "id": "0a0eae44",
    "outputId": "60d28a9f-488d-4f70-cab7-777c5c3d521f",
    "scrolled": true
   },
   "outputs": [
    {
     "name": "stdout",
     "output_type": "stream",
     "text": [
      "Introduce numero de delitos: 319\n",
      "Introduce numero de población: 56362\n"
     ]
    },
    {
     "data": {
      "text/plain": [
       "565.9841737340762"
      ]
     },
     "execution_count": 19,
     "metadata": {},
     "output_type": "execute_result"
    }
   ],
   "source": [
    "indice_criminalidad()"
   ]
  },
  {
   "cell_type": "markdown",
   "id": "09aa5048",
   "metadata": {
    "id": "09aa5048"
   },
   "source": [
    "#### Area 4"
   ]
  },
  {
   "cell_type": "code",
   "execution_count": 20,
   "id": "99b4139d",
   "metadata": {
    "colab": {
     "base_uri": "https://localhost:8080/"
    },
    "executionInfo": {
     "elapsed": 22622,
     "status": "ok",
     "timestamp": 1695172051586,
     "user": {
      "displayName": "Gianella Liliana Sandoval Ochoa",
      "userId": "10269921612297183757"
     },
     "user_tz": 300
    },
    "id": "99b4139d",
    "outputId": "50ed0402-1823-4f9e-c5bb-60ed0c9a3b38",
    "scrolled": false
   },
   "outputs": [
    {
     "name": "stdout",
     "output_type": "stream",
     "text": [
      "Introduce numero de delitos: 141\n",
      "Introduce numero de población: 39493\n"
     ]
    },
    {
     "data": {
      "text/plain": [
       "357.02529562200897"
      ]
     },
     "execution_count": 20,
     "metadata": {},
     "output_type": "execute_result"
    }
   ],
   "source": [
    "indice_criminalidad()"
   ]
  },
  {
   "cell_type": "markdown",
   "id": "bcf4b092",
   "metadata": {
    "id": "bcf4b092"
   },
   "source": [
    "#### Area 5"
   ]
  },
  {
   "cell_type": "code",
   "execution_count": 21,
   "id": "af591687",
   "metadata": {
    "colab": {
     "base_uri": "https://localhost:8080/",
     "height": 70
    },
    "executionInfo": {
     "elapsed": 8423,
     "status": "ok",
     "timestamp": 1695172068316,
     "user": {
      "displayName": "Gianella Liliana Sandoval Ochoa",
      "userId": "10269921612297183757"
     },
     "user_tz": 300
    },
    "id": "af591687",
    "outputId": "8b6340ae-6349-4fe4-80f3-54353c290556",
    "scrolled": true
   },
   "outputs": [
    {
     "name": "stdout",
     "output_type": "stream",
     "text": [
      "Introduce numero de delitos: 5\n",
      "Introduce numero de población: 0\n"
     ]
    },
    {
     "data": {
      "text/plain": [
       "'Error'"
      ]
     },
     "execution_count": 21,
     "metadata": {},
     "output_type": "execute_result"
    }
   ],
   "source": [
    "indice_criminalidad()"
   ]
  },
  {
   "cell_type": "markdown",
   "id": "38ba5ddf",
   "metadata": {
    "id": "38ba5ddf"
   },
   "source": [
    "Se revisa que la lista de indices de criminalidad este correcta."
   ]
  },
  {
   "cell_type": "code",
   "execution_count": 22,
   "id": "4d1d2cb3",
   "metadata": {
    "colab": {
     "base_uri": "https://localhost:8080/"
    },
    "executionInfo": {
     "elapsed": 476,
     "status": "ok",
     "timestamp": 1695172073316,
     "user": {
      "displayName": "Gianella Liliana Sandoval Ochoa",
      "userId": "10269921612297183757"
     },
     "user_tz": 300
    },
    "id": "4d1d2cb3",
    "outputId": "a3459905-b7c1-45e1-b98e-c66ed0d4b9ea",
    "scrolled": true
   },
   "outputs": [
    {
     "data": {
      "text/plain": [
       "[525.5405429979451, 316.9219649161825, 565.9841737340762, 357.02529562200897]"
      ]
     },
     "execution_count": 22,
     "metadata": {},
     "output_type": "execute_result"
    }
   ],
   "source": [
    "lista_indices"
   ]
  },
  {
   "cell_type": "markdown",
   "id": "9081bcab",
   "metadata": {
    "id": "9081bcab"
   },
   "source": [
    "Se calcula el promedio de los índices obtenidos, y se especifica el valor máximo y mínimo."
   ]
  },
  {
   "cell_type": "code",
   "execution_count": 23,
   "id": "a14326d6",
   "metadata": {
    "executionInfo": {
     "elapsed": 455,
     "status": "ok",
     "timestamp": 1695172077015,
     "user": {
      "displayName": "Gianella Liliana Sandoval Ochoa",
      "userId": "10269921612297183757"
     },
     "user_tz": 300
    },
    "id": "a14326d6"
   },
   "outputs": [],
   "source": [
    "media = sum(lista_indices) / len(lista_indices)"
   ]
  },
  {
   "cell_type": "code",
   "execution_count": 24,
   "id": "b81e6eb5",
   "metadata": {
    "colab": {
     "base_uri": "https://localhost:8080/"
    },
    "executionInfo": {
     "elapsed": 8,
     "status": "ok",
     "timestamp": 1695172078938,
     "user": {
      "displayName": "Gianella Liliana Sandoval Ochoa",
      "userId": "10269921612297183757"
     },
     "user_tz": 300
    },
    "id": "b81e6eb5",
    "outputId": "14df79cf-f8bf-475f-8976-654e58f6ae66"
   },
   "outputs": [
    {
     "data": {
      "text/plain": [
       "441.3679943175532"
      ]
     },
     "execution_count": 24,
     "metadata": {},
     "output_type": "execute_result"
    }
   ],
   "source": [
    "media"
   ]
  },
  {
   "cell_type": "code",
   "execution_count": 25,
   "id": "7f24ae81",
   "metadata": {
    "executionInfo": {
     "elapsed": 438,
     "status": "ok",
     "timestamp": 1695172086534,
     "user": {
      "displayName": "Gianella Liliana Sandoval Ochoa",
      "userId": "10269921612297183757"
     },
     "user_tz": 300
    },
    "id": "7f24ae81"
   },
   "outputs": [],
   "source": [
    "#Valor maximo\n",
    "maximo = max(lista_indices)"
   ]
  },
  {
   "cell_type": "code",
   "execution_count": 26,
   "id": "3b5d38a0",
   "metadata": {
    "executionInfo": {
     "elapsed": 8,
     "status": "ok",
     "timestamp": 1695172088388,
     "user": {
      "displayName": "Gianella Liliana Sandoval Ochoa",
      "userId": "10269921612297183757"
     },
     "user_tz": 300
    },
    "id": "3b5d38a0"
   },
   "outputs": [],
   "source": [
    "#Valor minimo\n",
    "minimo = min(lista_indices)"
   ]
  },
  {
   "cell_type": "code",
   "execution_count": 27,
   "id": "a666b792",
   "metadata": {
    "colab": {
     "base_uri": "https://localhost:8080/"
    },
    "executionInfo": {
     "elapsed": 12,
     "status": "ok",
     "timestamp": 1695172090394,
     "user": {
      "displayName": "Gianella Liliana Sandoval Ochoa",
      "userId": "10269921612297183757"
     },
     "user_tz": 300
    },
    "id": "a666b792",
    "outputId": "74a6de7b-311a-4a08-b8ad-5d2f15219edd",
    "scrolled": true
   },
   "outputs": [
    {
     "name": "stdout",
     "output_type": "stream",
     "text": [
      "565.9841737340762 316.9219649161825\n"
     ]
    }
   ],
   "source": [
    "#Valores máximo y mínimo:\n",
    "print(maximo, minimo)"
   ]
  },
  {
   "cell_type": "markdown",
   "id": "e14c2db5",
   "metadata": {
    "id": "e14c2db5"
   },
   "source": [
    "- **Volviendo al listado de delitos, convertir el campo Fecha de cada delito a formato datetime y ordenad los delitos por el momento en el que se cometieron, mostrando por pantalla el nuevo orden.**"
   ]
  },
  {
   "cell_type": "markdown",
   "id": "18b5587a",
   "metadata": {
    "id": "18b5587a"
   },
   "source": [
    "Se convierte el campo fecha de cada delito a formato datetime"
   ]
  },
  {
   "cell_type": "code",
   "execution_count": 28,
   "id": "8deb6021",
   "metadata": {
    "executionInfo": {
     "elapsed": 11,
     "status": "ok",
     "timestamp": 1695172095542,
     "user": {
      "displayName": "Gianella Liliana Sandoval Ochoa",
      "userId": "10269921612297183757"
     },
     "user_tz": 300
    },
    "id": "8deb6021"
   },
   "outputs": [],
   "source": [
    "cont_rastrea_delito = 1\n",
    "for delito in lista_delitos:\n",
    "    dateString = delito[f\"Fecha_{cont_rastrea_delito}\"]\n",
    "    dateFormatter = '%Y-%m-%d %H:%M:%S'\n",
    "    fecha_nueva = datetime.strptime(dateString, dateFormatter)\n",
    "\n",
    "    delito[f\"Fecha_{cont_rastrea_delito}\"] = fecha_nueva\n",
    "\n",
    "    cont_rastrea_delito += 1"
   ]
  },
  {
   "cell_type": "markdown",
   "id": "0cc389a3",
   "metadata": {
    "id": "0cc389a3"
   },
   "source": [
    "Se corrobora que los campos fecha se hayan cambiado de formato correctamente"
   ]
  },
  {
   "cell_type": "code",
   "execution_count": 29,
   "id": "5e6cacd2",
   "metadata": {
    "colab": {
     "base_uri": "https://localhost:8080/"
    },
    "executionInfo": {
     "elapsed": 10,
     "status": "ok",
     "timestamp": 1695172097589,
     "user": {
      "displayName": "Gianella Liliana Sandoval Ochoa",
      "userId": "10269921612297183757"
     },
     "user_tz": 300
    },
    "id": "5e6cacd2",
    "outputId": "d39e2b59-1594-4df1-b49f-0d72361096be"
   },
   "outputs": [
    {
     "data": {
      "text/plain": [
       "[{'Num_caso_1': 'HY411648',\n",
       "  'Descripción_1': 'Maltrato doméstico',\n",
       "  'Arrestado_1': True,\n",
       "  'Nro_area_comunitaria_1': '61',\n",
       "  'Cuadra_1': '043XX S WOOD ST',\n",
       "  'Fecha_1': datetime.datetime(2015, 9, 5, 13, 30),\n",
       "  'Coordenadas_la_1': '41.815117',\n",
       "  'Coordenadas_lo_1': '-87.670000'},\n",
       " {'Num_caso_2': 'HY411595',\n",
       "  'Descripción_2': 'Tráfico de drogas',\n",
       "  'Arrestado_2': 'True',\n",
       "  'Nro_area_comunitaria_2': '21',\n",
       "  'Cuadra_2': '035XX W BARRY AVE',\n",
       "  'Fecha_2': datetime.datetime(2015, 9, 5, 12, 45),\n",
       "  'Coordenadas_la_2': '41.937406',\n",
       "  'Coordenadas_lo_2': '-87.716650'},\n",
       " {'Num_caso_3': 'HY411435',\n",
       "  'Descripción_3': 'Robo en casa',\n",
       "  'Arrestado_3': 'False',\n",
       "  'Nro_area_comunitaria_3': '71',\n",
       "  'Cuadra_3': '082XX S LOOMIS BLVD',\n",
       "  'Fecha_3': datetime.datetime(2015, 9, 5, 10, 55),\n",
       "  'Coordenadas_la_3': '41.744379',\n",
       "  'Coordenadas_lo_3': '-87.658431'},\n",
       " {'Num_caso_4': 'HY411662',\n",
       "  'Descripción_4': 'Robo por valor menor a 500$',\n",
       "  'Arrestado_4': 'False',\n",
       "  'Nro_area_comunitaria_4': '65',\n",
       "  'Cuadra_4': '071XX S PULASKI RD',\n",
       "  'Fecha_4': datetime.datetime(2015, 9, 5, 14, 0),\n",
       "  'Coordenadas_la_4': '41.763648',\n",
       "  'Coordenadas_lo_4': '-87.722345'}]"
      ]
     },
     "execution_count": 29,
     "metadata": {},
     "output_type": "execute_result"
    }
   ],
   "source": [
    "lista_delitos"
   ]
  },
  {
   "cell_type": "markdown",
   "id": "59fd40c6",
   "metadata": {
    "id": "59fd40c6"
   },
   "source": [
    "Se ordena los delitos por el momento en el que se cometieron"
   ]
  },
  {
   "cell_type": "markdown",
   "id": "a9cfd462",
   "metadata": {
    "id": "a9cfd462"
   },
   "source": [
    "- **Esta ordenación deberá ser de los más recientes a los más antiguos. Además, calculad el tiempo promedio (en minutos), entre la consecución de un delito y el siguiente. Expresar el resultado con un decimal.**"
   ]
  },
  {
   "cell_type": "code",
   "execution_count": 30,
   "id": "85efa5ac",
   "metadata": {
    "executionInfo": {
     "elapsed": 8,
     "status": "ok",
     "timestamp": 1695172128350,
     "user": {
      "displayName": "Gianella Liliana Sandoval Ochoa",
      "userId": "10269921612297183757"
     },
     "user_tz": 300
    },
    "id": "85efa5ac",
    "scrolled": true
   },
   "outputs": [],
   "source": [
    "def ordena_delitos(lista_delitos):\n",
    "    cont_rastrea_delito = 1\n",
    "    lista_delitos_ordenada = []\n",
    "    for delito in lista_delitos:\n",
    "        fecha_delito = delito[f\"Fecha_{cont_rastrea_delito}\"]\n",
    "        lista_delitos_ordenada.append(fecha_delito)\n",
    "        cont_rastrea_delito += 1\n",
    "    lista_delitos_ordenada.sort(reverse=True)\n",
    "    return lista_delitos_ordenada"
   ]
  },
  {
   "cell_type": "code",
   "execution_count": 31,
   "id": "73c2a22c",
   "metadata": {
    "colab": {
     "base_uri": "https://localhost:8080/"
    },
    "executionInfo": {
     "elapsed": 11,
     "status": "ok",
     "timestamp": 1695172140563,
     "user": {
      "displayName": "Gianella Liliana Sandoval Ochoa",
      "userId": "10269921612297183757"
     },
     "user_tz": 300
    },
    "id": "73c2a22c",
    "outputId": "0fae0154-0245-4ebe-d9e5-0e53a533f8f3"
   },
   "outputs": [
    {
     "data": {
      "text/plain": [
       "[datetime.datetime(2015, 9, 5, 14, 0),\n",
       " datetime.datetime(2015, 9, 5, 13, 30),\n",
       " datetime.datetime(2015, 9, 5, 12, 45),\n",
       " datetime.datetime(2015, 9, 5, 10, 55)]"
      ]
     },
     "execution_count": 31,
     "metadata": {},
     "output_type": "execute_result"
    }
   ],
   "source": [
    "ordena_delitos(lista_delitos)"
   ]
  },
  {
   "cell_type": "markdown",
   "id": "2c3af9c3",
   "metadata": {
    "id": "2c3af9c3"
   },
   "source": [
    "Se convirtieron en minutos para facilitar el cálculo del tiempo promedio entre los delitos cometidos."
   ]
  },
  {
   "cell_type": "code",
   "execution_count": 32,
   "id": "182daa44",
   "metadata": {
    "executionInfo": {
     "elapsed": 8,
     "status": "ok",
     "timestamp": 1695172142935,
     "user": {
      "displayName": "Gianella Liliana Sandoval Ochoa",
      "userId": "10269921612297183757"
     },
     "user_tz": 300
    },
    "id": "182daa44"
   },
   "outputs": [],
   "source": [
    "def conversor_de_tiempo_a_minutos(horas,minutos,segundos):\n",
    "    h=horas*60\n",
    "    m=minutos\n",
    "    s=segundos/60\n",
    "    minutos_totales=h+m+s\n",
    "    return minutos_totales"
   ]
  },
  {
   "cell_type": "code",
   "execution_count": 33,
   "id": "af474001",
   "metadata": {
    "colab": {
     "base_uri": "https://localhost:8080/"
    },
    "executionInfo": {
     "elapsed": 451,
     "status": "ok",
     "timestamp": 1695172147453,
     "user": {
      "displayName": "Gianella Liliana Sandoval Ochoa",
      "userId": "10269921612297183757"
     },
     "user_tz": 300
    },
    "id": "af474001",
    "outputId": "c0329ce8-8b56-4f42-f938-8808863dcef4",
    "scrolled": true
   },
   "outputs": [
    {
     "data": {
      "text/plain": [
       "655.0"
      ]
     },
     "execution_count": 33,
     "metadata": {},
     "output_type": "execute_result"
    }
   ],
   "source": [
    "delito3_minutos=conversor_de_tiempo_a_minutos(10,55,0)\n",
    "delito3_minutos"
   ]
  },
  {
   "cell_type": "code",
   "execution_count": 34,
   "id": "88947c4d",
   "metadata": {
    "colab": {
     "base_uri": "https://localhost:8080/"
    },
    "executionInfo": {
     "elapsed": 8,
     "status": "ok",
     "timestamp": 1695172150078,
     "user": {
      "displayName": "Gianella Liliana Sandoval Ochoa",
      "userId": "10269921612297183757"
     },
     "user_tz": 300
    },
    "id": "88947c4d",
    "outputId": "c47e72bb-d206-446f-b99a-b6e051951bd9"
   },
   "outputs": [
    {
     "data": {
      "text/plain": [
       "765.0"
      ]
     },
     "execution_count": 34,
     "metadata": {},
     "output_type": "execute_result"
    }
   ],
   "source": [
    "delito2_minutos=conversor_de_tiempo_a_minutos(12,45,0)\n",
    "delito2_minutos"
   ]
  },
  {
   "cell_type": "code",
   "execution_count": 35,
   "id": "a265c158",
   "metadata": {
    "colab": {
     "base_uri": "https://localhost:8080/"
    },
    "executionInfo": {
     "elapsed": 10,
     "status": "ok",
     "timestamp": 1695172152341,
     "user": {
      "displayName": "Gianella Liliana Sandoval Ochoa",
      "userId": "10269921612297183757"
     },
     "user_tz": 300
    },
    "id": "a265c158",
    "outputId": "dc7aefe0-2c03-4742-b0ee-85e1ec60209c"
   },
   "outputs": [
    {
     "data": {
      "text/plain": [
       "810.0"
      ]
     },
     "execution_count": 35,
     "metadata": {},
     "output_type": "execute_result"
    }
   ],
   "source": [
    "delito1_minutos=conversor_de_tiempo_a_minutos(13,30,0)\n",
    "delito1_minutos"
   ]
  },
  {
   "cell_type": "code",
   "execution_count": 36,
   "id": "c821503d",
   "metadata": {
    "colab": {
     "base_uri": "https://localhost:8080/"
    },
    "executionInfo": {
     "elapsed": 10,
     "status": "ok",
     "timestamp": 1695172154257,
     "user": {
      "displayName": "Gianella Liliana Sandoval Ochoa",
      "userId": "10269921612297183757"
     },
     "user_tz": 300
    },
    "id": "c821503d",
    "outputId": "fe07de42-2a54-47fc-befa-ca531b602e10",
    "scrolled": true
   },
   "outputs": [
    {
     "data": {
      "text/plain": [
       "840.0"
      ]
     },
     "execution_count": 36,
     "metadata": {},
     "output_type": "execute_result"
    }
   ],
   "source": [
    "delito4_minutos=conversor_de_tiempo_a_minutos(14,0,0)\n",
    "delito4_minutos"
   ]
  },
  {
   "cell_type": "code",
   "execution_count": 37,
   "id": "b780a5e4",
   "metadata": {
    "colab": {
     "base_uri": "https://localhost:8080/"
    },
    "executionInfo": {
     "elapsed": 13,
     "status": "ok",
     "timestamp": 1695172157103,
     "user": {
      "displayName": "Gianella Liliana Sandoval Ochoa",
      "userId": "10269921612297183757"
     },
     "user_tz": 300
    },
    "id": "b780a5e4",
    "outputId": "c7b44b46-60f7-4f39-d767-b8d9b6e09b6f"
   },
   "outputs": [
    {
     "name": "stdout",
     "output_type": "stream",
     "text": [
      "El tiempo promedio entre delitos fue: 61.666666666666664\n"
     ]
    }
   ],
   "source": [
    "tiempo_1=delito2_minutos-delito3_minutos\n",
    "tiempo_2=delito1_minutos-delito2_minutos\n",
    "tiempo_3=delito4_minutos-delito1_minutos\n",
    "tiempo_promedio=(tiempo_1+tiempo_2+tiempo_3)/3\n",
    "print(f\"El tiempo promedio entre delitos fue: {tiempo_promedio}\")"
   ]
  },
  {
   "cell_type": "markdown",
   "id": "c2016d62",
   "metadata": {
    "id": "c2016d62"
   },
   "source": [
    "### Ejercicio 4"
   ]
  },
  {
   "cell_type": "markdown",
   "id": "34bd9bfb",
   "metadata": {
    "id": "34bd9bfb"
   },
   "source": [
    "- **Se debe convertir las coordenadas geográficas al sistema de referencia destino utilizando el método transform.**"
   ]
  },
  {
   "cell_type": "code",
   "execution_count": 38,
   "id": "b557a13d",
   "metadata": {
    "colab": {
     "base_uri": "https://localhost:8080/"
    },
    "executionInfo": {
     "elapsed": 465,
     "status": "ok",
     "timestamp": 1695172161592,
     "user": {
      "displayName": "Gianella Liliana Sandoval Ochoa",
      "userId": "10269921612297183757"
     },
     "user_tz": 300
    },
    "id": "b557a13d",
    "outputId": "eddc2107-35c7-4149-a2a0-820e6f6bc16d",
    "scrolled": false
   },
   "outputs": [
    {
     "data": {
      "text/plain": [
       "<Unknown Transformer: pipeline>\n",
       "Description: Inverse of NAD83 to WGS 84 (1) + UTM zone 16N\n",
       "Area of Use:\n",
       "- undefined"
      ]
     },
     "execution_count": 38,
     "metadata": {},
     "output_type": "execute_result"
    }
   ],
   "source": [
    "Transformer.from_crs(\"EPSG:4326\", \"EPSG:26916\")"
   ]
  },
  {
   "cell_type": "code",
   "execution_count": 39,
   "id": "0e41a78c",
   "metadata": {
    "colab": {
     "base_uri": "https://localhost:8080/"
    },
    "executionInfo": {
     "elapsed": 10,
     "status": "ok",
     "timestamp": 1695172163602,
     "user": {
      "displayName": "Gianella Liliana Sandoval Ochoa",
      "userId": "10269921612297183757"
     },
     "user_tz": 300
    },
    "id": "0e41a78c",
    "outputId": "a65d0c00-21ae-401a-a432-2c3a523d3d84",
    "scrolled": true
   },
   "outputs": [
    {
     "name": "stdout",
     "output_type": "stream",
     "text": [
      "Delito 1: (444351.7224734627, 4629466.145806284)\n",
      "Delito 2: (440590.4535784838, 4643074.839421171)\n",
      "Delito 3: (440411.63178477495, 4621643.6807730505)\n",
      "Delito 4: (439956.06030854624, 4623786.982783222)\n",
      "Comisaría Near North: (446638.35484647047, 4639233.4777482115)\n",
      "Comisaría Town Hall: (445998.7869142728, 4644141.368576657)\n",
      "Comisaría Lincoln: (442601.7069168785, 4647737.819259081)\n",
      "Comisaría Distrito: Morgan Park: (444367.9478988955, 4615733.402057038)\n",
      "Comisaría Rogers Park: (941376.9589313841, 15332425.33906359)\n"
     ]
    }
   ],
   "source": [
    "import pyproj\n",
    "\n",
    "origen_destino=pyproj.Transformer.from_crs(\"EPSG:4326\", \"EPSG:26916\")\n",
    "destino_origen=pyproj.Transformer.from_crs(26916,4326)\n",
    "\n",
    "coorde_delito_1=origen_destino.transform(41.815117,   -87.67)\n",
    "print(f\"Delito 1: {coorde_delito_1}\")\n",
    "coorde_delito_2=origen_destino.transform(41.937406, -87.716650)\n",
    "print(f\"Delito 2: {coorde_delito_2}\")\n",
    "coorde_delito_3=origen_destino.transform(41.744379, -87.716650)\n",
    "print(f\"Delito 3: {coorde_delito_3}\")\n",
    "coorde_delito_4=origen_destino.transform( 41.763648,  -87.722345)\n",
    "print(f\"Delito 4: {coorde_delito_4}\")\n",
    "\n",
    "coorde_comisaria_near_north=origen_destino.transform( 41.903242,  -87.643352)\n",
    "print(f\"Comisaría Near North: {coorde_comisaria_near_north}\")\n",
    "coorde_comisaria_town_hall=origen_destino.transform( 41.947400,  -87.651512)\n",
    "print(f\"Comisaría Town Hall: {coorde_comisaria_town_hall}\")\n",
    "coorde_comisaria_lincoln=origen_destino.transform( 41.979550,  -87.692845)\n",
    "print(f\"Comisaría Lincoln: {coorde_comisaria_lincoln}\")\n",
    "coorde_comisaria_distrito_morgan_park=origen_destino.transform( 41.691435,  -87.668520)\n",
    "print(f\"Comisaría Distrito: Morgan Park: {coorde_comisaria_distrito_morgan_park}\")\n",
    "coorde_comisaria_rogers_park=origen_destino.transform( 41.999763,  --87.671324)\n",
    "print(f\"Comisaría Rogers Park: {coorde_comisaria_rogers_park}\")"
   ]
  },
  {
   "cell_type": "markdown",
   "id": "4d6fcb1b",
   "metadata": {
    "id": "4d6fcb1b"
   },
   "source": [
    "Se convierte la información en listas. Utilizando la librería \"math\" que proporciona acceso a las funciones matemáticas. <br>Se ecuentra la distancia euclídea en metros entre los delitos y la comisarías.\n",
    "<br>Y como resultado final se muestrapor pantalla la comisaría mas cercana a cada delito."
   ]
  },
  {
   "cell_type": "code",
   "execution_count": 40,
   "id": "05e13ab6",
   "metadata": {
    "colab": {
     "base_uri": "https://localhost:8080/"
    },
    "executionInfo": {
     "elapsed": 514,
     "status": "ok",
     "timestamp": 1695172168780,
     "user": {
      "displayName": "Gianella Liliana Sandoval Ochoa",
      "userId": "10269921612297183757"
     },
     "user_tz": 300
    },
    "id": "05e13ab6",
    "outputId": "d9e16438-ec56-4afa-f262-d9c51c392a15",
    "scrolled": true
   },
   "outputs": [
    {
     "name": "stdout",
     "output_type": "stream",
     "text": [
      "La comisaría más cercana al delito 1 se encuentra a 10031.423671298602 metros y es la Comisaria Comisaría Near North\n",
      "La comisaría más cercana al delito 2 se encuentra a 5078.239947064506 metros y es la Comisaria Comisaría Lincoln\n",
      "La comisaría más cercana al delito 3 se encuentra a 7112.231133463263 metros y es la Comisaria Comisaría Distrito\n",
      "La comisaría más cercana al delito 4 se encuentra a 9182.859828127579 metros y es la Comisaria Comisaría Distrito\n"
     ]
    }
   ],
   "source": [
    "m_del=[(\"Delito1\",444351.7224734627, 4629466.145806284),\n",
    "              (\"Delito2\",440590.4535784838, 4643074.839421171),\n",
    "              (\"Delito3\",440411.63178477495, 4621643.6807730505),\n",
    "              (\"Delito4\",439956.06030854624, 4623786.982783222)]\n",
    "m_com=[(\"Comisaría Near North\",446638.35484647047, 4639233.4777482115),\n",
    "                 (\"Comisaría Town Hall\",445998.7869142728, 4644141.368576657),\n",
    "                 (\"Comisaría Lincoln\",442601.7069168785, 4647737.819259081),\n",
    "                (\"Comisaría Distrito\",444367.9478988955, 4615733.402057038),\n",
    "                 (\"Comisaría Rogers Park\",444402.2013359857, 4649967.860712599)]\n",
    "\n",
    "import math\n",
    "# from math import dist\n",
    "\n",
    "lista_distancias_1 = []\n",
    "lista_distancias_2 = []\n",
    "lista_distancias_3 = []\n",
    "lista_distancias_4 = []\n",
    "\n",
    "\n",
    "\n",
    "for a in m_del:\n",
    "    for b in m_com:\n",
    "        d = math.sqrt((a[1] - b[1]) ** 2 + (a[2] - b[2]) ** 2)\n",
    "\n",
    "        if \"Delito1\" in a:\n",
    "            lista_distancias_1.append(d)\n",
    "            indice = lista_distancias_1.index(min(lista_distancias_1))\n",
    "        elif \"Delito2\" in a:\n",
    "            lista_distancias_2.append(d)\n",
    "            indice = lista_distancias_2.index(min(lista_distancias_2))\n",
    "        elif \"Delito3\" in a:\n",
    "            lista_distancias_3.append(d)\n",
    "            indice = lista_distancias_3.index(min(lista_distancias_3))\n",
    "        elif \"Delito4\" in a:\n",
    "            lista_distancias_4.append(d)\n",
    "            indice = lista_distancias_4.index(min(lista_distancias_4))\n",
    "\n",
    "print(f\"La comisaría más cercana al delito 1 se encuentra a {min(lista_distancias_1)} metros y es la Comisaria {m_com[lista_distancias_1.index(min(lista_distancias_1))][0]}\")\n",
    "print(f\"La comisaría más cercana al delito 2 se encuentra a {min(lista_distancias_2)} metros y es la Comisaria {m_com[lista_distancias_2.index(min(lista_distancias_2))][0]}\")\n",
    "print(f\"La comisaría más cercana al delito 3 se encuentra a {min(lista_distancias_3)} metros y es la Comisaria {m_com[lista_distancias_3.index(min(lista_distancias_3))][0]}\")\n",
    "print(f\"La comisaría más cercana al delito 4 se encuentra a {min(lista_distancias_4)} metros y es la Comisaria {m_com[lista_distancias_4.index(min(lista_distancias_4))][0]}\")"
   ]
  }
 ],
 "metadata": {
  "colab": {
   "provenance": []
  },
  "hide_input": false,
  "kernelspec": {
   "display_name": "Python 3",
   "language": "python",
   "name": "python3"
  },
  "language_info": {
   "codemirror_mode": {
    "name": "ipython",
    "version": 3
   },
   "file_extension": ".py",
   "mimetype": "text/x-python",
   "name": "python",
   "nbconvert_exporter": "python",
   "pygments_lexer": "ipython3",
   "version": "3.8.8"
  },
  "toc": {
   "base_numbering": 1,
   "nav_menu": {},
   "number_sections": true,
   "sideBar": true,
   "skip_h1_title": false,
   "title_cell": "Table of Contents",
   "title_sidebar": "Contents",
   "toc_cell": false,
   "toc_position": {},
   "toc_section_display": true,
   "toc_window_display": false
  },
  "varInspector": {
   "cols": {
    "lenName": 16,
    "lenType": 16,
    "lenVar": 40
   },
   "kernels_config": {
    "python": {
     "delete_cmd_postfix": "",
     "delete_cmd_prefix": "del ",
     "library": "var_list.py",
     "varRefreshCmd": "print(var_dic_list())"
    },
    "r": {
     "delete_cmd_postfix": ") ",
     "delete_cmd_prefix": "rm(",
     "library": "var_list.r",
     "varRefreshCmd": "cat(var_dic_list()) "
    }
   },
   "types_to_exclude": [
    "module",
    "function",
    "builtin_function_or_method",
    "instance",
    "_Feature"
   ],
   "window_display": false
  }
 },
 "nbformat": 4,
 "nbformat_minor": 5
}
